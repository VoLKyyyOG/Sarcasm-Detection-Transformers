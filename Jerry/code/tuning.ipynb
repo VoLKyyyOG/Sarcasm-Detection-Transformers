{
 "cells": [
  {
   "cell_type": "code",
   "execution_count": 65,
   "metadata": {},
   "outputs": [],
   "source": [
    "# import all standard libraries\n",
    "from datetime import datetime, date, timedelta\n",
    "import pandas as pd\n",
    "import numpy as np\n",
    "import seaborn as sn\n",
    "import matplotlib.pyplot as plt\n",
    "import feather\n",
    "import nltk\n",
    "\n",
    "import warnings\n",
    "warnings.filterwarnings(\"ignore\")"
   ]
  },
  {
   "cell_type": "code",
   "execution_count": 2,
   "metadata": {},
   "outputs": [],
   "source": [
    "from sklearn.feature_extraction.text import TfidfVectorizer\n",
    "\n",
    "from sklearn.linear_model import LogisticRegression\n",
    "from sklearn.svm import SVC\n",
    "from sklearn.naive_bayes import GaussianNB, MultinomialNB\n",
    "from sklearn.ensemble import RandomForestClassifier\n",
    "\n",
    "from sklearn.pipeline import Pipeline\n",
    "from sklearn.metrics import accuracy_score, confusion_matrix\n",
    "from sklearn.metrics import classification_report\n",
    "\n",
    "from sklearn.model_selection import train_test_split\n",
    "from sklearn.model_selection import KFold\n",
    "from sklearn.model_selection import GridSearchCV\n",
    "from sklearn.model_selection import RandomizedSearchCV\n",
    "\n",
    "from scipy.stats import uniform\n",
    "from statistics import mean"
   ]
  },
  {
   "cell_type": "markdown",
   "metadata": {},
   "source": [
    "Choose the dataset"
   ]
  },
  {
   "cell_type": "code",
   "execution_count": 7,
   "metadata": {},
   "outputs": [
    {
     "ename": "FileNotFoundError",
     "evalue": "[Errno 2] File data/cleaned-train-balanced-sarcasm-2.csv does not exist: 'data/cleaned-train-balanced-sarcasm-2.csv'",
     "output_type": "error",
     "traceback": [
      "\u001b[1;31m---------------------------------------------------------------------------\u001b[0m",
      "\u001b[1;31mFileNotFoundError\u001b[0m                         Traceback (most recent call last)",
      "\u001b[1;32m<ipython-input-3-c7288a836669>\u001b[0m in \u001b[0;36m<module>\u001b[1;34m\u001b[0m\n\u001b[1;32m----> 1\u001b[1;33m \u001b[0mdata\u001b[0m \u001b[1;33m=\u001b[0m \u001b[0mpd\u001b[0m\u001b[1;33m.\u001b[0m\u001b[0mread_csv\u001b[0m\u001b[1;33m(\u001b[0m\u001b[1;34m\"data/cleaned-train-balanced-sarcasm-2.csv\"\u001b[0m\u001b[1;33m)\u001b[0m\u001b[1;33m\u001b[0m\u001b[1;33m\u001b[0m\u001b[0m\n\u001b[0m",
      "\u001b[1;32m~\\anaconda3\\lib\\site-packages\\pandas\\io\\parsers.py\u001b[0m in \u001b[0;36mparser_f\u001b[1;34m(filepath_or_buffer, sep, delimiter, header, names, index_col, usecols, squeeze, prefix, mangle_dupe_cols, dtype, engine, converters, true_values, false_values, skipinitialspace, skiprows, skipfooter, nrows, na_values, keep_default_na, na_filter, verbose, skip_blank_lines, parse_dates, infer_datetime_format, keep_date_col, date_parser, dayfirst, cache_dates, iterator, chunksize, compression, thousands, decimal, lineterminator, quotechar, quoting, doublequote, escapechar, comment, encoding, dialect, error_bad_lines, warn_bad_lines, delim_whitespace, low_memory, memory_map, float_precision)\u001b[0m\n\u001b[0;32m    674\u001b[0m         )\n\u001b[0;32m    675\u001b[0m \u001b[1;33m\u001b[0m\u001b[0m\n\u001b[1;32m--> 676\u001b[1;33m         \u001b[1;32mreturn\u001b[0m \u001b[0m_read\u001b[0m\u001b[1;33m(\u001b[0m\u001b[0mfilepath_or_buffer\u001b[0m\u001b[1;33m,\u001b[0m \u001b[0mkwds\u001b[0m\u001b[1;33m)\u001b[0m\u001b[1;33m\u001b[0m\u001b[1;33m\u001b[0m\u001b[0m\n\u001b[0m\u001b[0;32m    677\u001b[0m \u001b[1;33m\u001b[0m\u001b[0m\n\u001b[0;32m    678\u001b[0m     \u001b[0mparser_f\u001b[0m\u001b[1;33m.\u001b[0m\u001b[0m__name__\u001b[0m \u001b[1;33m=\u001b[0m \u001b[0mname\u001b[0m\u001b[1;33m\u001b[0m\u001b[1;33m\u001b[0m\u001b[0m\n",
      "\u001b[1;32m~\\anaconda3\\lib\\site-packages\\pandas\\io\\parsers.py\u001b[0m in \u001b[0;36m_read\u001b[1;34m(filepath_or_buffer, kwds)\u001b[0m\n\u001b[0;32m    446\u001b[0m \u001b[1;33m\u001b[0m\u001b[0m\n\u001b[0;32m    447\u001b[0m     \u001b[1;31m# Create the parser.\u001b[0m\u001b[1;33m\u001b[0m\u001b[1;33m\u001b[0m\u001b[1;33m\u001b[0m\u001b[0m\n\u001b[1;32m--> 448\u001b[1;33m     \u001b[0mparser\u001b[0m \u001b[1;33m=\u001b[0m \u001b[0mTextFileReader\u001b[0m\u001b[1;33m(\u001b[0m\u001b[0mfp_or_buf\u001b[0m\u001b[1;33m,\u001b[0m \u001b[1;33m**\u001b[0m\u001b[0mkwds\u001b[0m\u001b[1;33m)\u001b[0m\u001b[1;33m\u001b[0m\u001b[1;33m\u001b[0m\u001b[0m\n\u001b[0m\u001b[0;32m    449\u001b[0m \u001b[1;33m\u001b[0m\u001b[0m\n\u001b[0;32m    450\u001b[0m     \u001b[1;32mif\u001b[0m \u001b[0mchunksize\u001b[0m \u001b[1;32mor\u001b[0m \u001b[0miterator\u001b[0m\u001b[1;33m:\u001b[0m\u001b[1;33m\u001b[0m\u001b[1;33m\u001b[0m\u001b[0m\n",
      "\u001b[1;32m~\\anaconda3\\lib\\site-packages\\pandas\\io\\parsers.py\u001b[0m in \u001b[0;36m__init__\u001b[1;34m(self, f, engine, **kwds)\u001b[0m\n\u001b[0;32m    878\u001b[0m             \u001b[0mself\u001b[0m\u001b[1;33m.\u001b[0m\u001b[0moptions\u001b[0m\u001b[1;33m[\u001b[0m\u001b[1;34m\"has_index_names\"\u001b[0m\u001b[1;33m]\u001b[0m \u001b[1;33m=\u001b[0m \u001b[0mkwds\u001b[0m\u001b[1;33m[\u001b[0m\u001b[1;34m\"has_index_names\"\u001b[0m\u001b[1;33m]\u001b[0m\u001b[1;33m\u001b[0m\u001b[1;33m\u001b[0m\u001b[0m\n\u001b[0;32m    879\u001b[0m \u001b[1;33m\u001b[0m\u001b[0m\n\u001b[1;32m--> 880\u001b[1;33m         \u001b[0mself\u001b[0m\u001b[1;33m.\u001b[0m\u001b[0m_make_engine\u001b[0m\u001b[1;33m(\u001b[0m\u001b[0mself\u001b[0m\u001b[1;33m.\u001b[0m\u001b[0mengine\u001b[0m\u001b[1;33m)\u001b[0m\u001b[1;33m\u001b[0m\u001b[1;33m\u001b[0m\u001b[0m\n\u001b[0m\u001b[0;32m    881\u001b[0m \u001b[1;33m\u001b[0m\u001b[0m\n\u001b[0;32m    882\u001b[0m     \u001b[1;32mdef\u001b[0m \u001b[0mclose\u001b[0m\u001b[1;33m(\u001b[0m\u001b[0mself\u001b[0m\u001b[1;33m)\u001b[0m\u001b[1;33m:\u001b[0m\u001b[1;33m\u001b[0m\u001b[1;33m\u001b[0m\u001b[0m\n",
      "\u001b[1;32m~\\anaconda3\\lib\\site-packages\\pandas\\io\\parsers.py\u001b[0m in \u001b[0;36m_make_engine\u001b[1;34m(self, engine)\u001b[0m\n\u001b[0;32m   1112\u001b[0m     \u001b[1;32mdef\u001b[0m \u001b[0m_make_engine\u001b[0m\u001b[1;33m(\u001b[0m\u001b[0mself\u001b[0m\u001b[1;33m,\u001b[0m \u001b[0mengine\u001b[0m\u001b[1;33m=\u001b[0m\u001b[1;34m\"c\"\u001b[0m\u001b[1;33m)\u001b[0m\u001b[1;33m:\u001b[0m\u001b[1;33m\u001b[0m\u001b[1;33m\u001b[0m\u001b[0m\n\u001b[0;32m   1113\u001b[0m         \u001b[1;32mif\u001b[0m \u001b[0mengine\u001b[0m \u001b[1;33m==\u001b[0m \u001b[1;34m\"c\"\u001b[0m\u001b[1;33m:\u001b[0m\u001b[1;33m\u001b[0m\u001b[1;33m\u001b[0m\u001b[0m\n\u001b[1;32m-> 1114\u001b[1;33m             \u001b[0mself\u001b[0m\u001b[1;33m.\u001b[0m\u001b[0m_engine\u001b[0m \u001b[1;33m=\u001b[0m \u001b[0mCParserWrapper\u001b[0m\u001b[1;33m(\u001b[0m\u001b[0mself\u001b[0m\u001b[1;33m.\u001b[0m\u001b[0mf\u001b[0m\u001b[1;33m,\u001b[0m \u001b[1;33m**\u001b[0m\u001b[0mself\u001b[0m\u001b[1;33m.\u001b[0m\u001b[0moptions\u001b[0m\u001b[1;33m)\u001b[0m\u001b[1;33m\u001b[0m\u001b[1;33m\u001b[0m\u001b[0m\n\u001b[0m\u001b[0;32m   1115\u001b[0m         \u001b[1;32melse\u001b[0m\u001b[1;33m:\u001b[0m\u001b[1;33m\u001b[0m\u001b[1;33m\u001b[0m\u001b[0m\n\u001b[0;32m   1116\u001b[0m             \u001b[1;32mif\u001b[0m \u001b[0mengine\u001b[0m \u001b[1;33m==\u001b[0m \u001b[1;34m\"python\"\u001b[0m\u001b[1;33m:\u001b[0m\u001b[1;33m\u001b[0m\u001b[1;33m\u001b[0m\u001b[0m\n",
      "\u001b[1;32m~\\anaconda3\\lib\\site-packages\\pandas\\io\\parsers.py\u001b[0m in \u001b[0;36m__init__\u001b[1;34m(self, src, **kwds)\u001b[0m\n\u001b[0;32m   1889\u001b[0m         \u001b[0mkwds\u001b[0m\u001b[1;33m[\u001b[0m\u001b[1;34m\"usecols\"\u001b[0m\u001b[1;33m]\u001b[0m \u001b[1;33m=\u001b[0m \u001b[0mself\u001b[0m\u001b[1;33m.\u001b[0m\u001b[0musecols\u001b[0m\u001b[1;33m\u001b[0m\u001b[1;33m\u001b[0m\u001b[0m\n\u001b[0;32m   1890\u001b[0m \u001b[1;33m\u001b[0m\u001b[0m\n\u001b[1;32m-> 1891\u001b[1;33m         \u001b[0mself\u001b[0m\u001b[1;33m.\u001b[0m\u001b[0m_reader\u001b[0m \u001b[1;33m=\u001b[0m \u001b[0mparsers\u001b[0m\u001b[1;33m.\u001b[0m\u001b[0mTextReader\u001b[0m\u001b[1;33m(\u001b[0m\u001b[0msrc\u001b[0m\u001b[1;33m,\u001b[0m \u001b[1;33m**\u001b[0m\u001b[0mkwds\u001b[0m\u001b[1;33m)\u001b[0m\u001b[1;33m\u001b[0m\u001b[1;33m\u001b[0m\u001b[0m\n\u001b[0m\u001b[0;32m   1892\u001b[0m         \u001b[0mself\u001b[0m\u001b[1;33m.\u001b[0m\u001b[0munnamed_cols\u001b[0m \u001b[1;33m=\u001b[0m \u001b[0mself\u001b[0m\u001b[1;33m.\u001b[0m\u001b[0m_reader\u001b[0m\u001b[1;33m.\u001b[0m\u001b[0munnamed_cols\u001b[0m\u001b[1;33m\u001b[0m\u001b[1;33m\u001b[0m\u001b[0m\n\u001b[0;32m   1893\u001b[0m \u001b[1;33m\u001b[0m\u001b[0m\n",
      "\u001b[1;32mpandas\\_libs\\parsers.pyx\u001b[0m in \u001b[0;36mpandas._libs.parsers.TextReader.__cinit__\u001b[1;34m()\u001b[0m\n",
      "\u001b[1;32mpandas\\_libs\\parsers.pyx\u001b[0m in \u001b[0;36mpandas._libs.parsers.TextReader._setup_parser_source\u001b[1;34m()\u001b[0m\n",
      "\u001b[1;31mFileNotFoundError\u001b[0m: [Errno 2] File data/cleaned-train-balanced-sarcasm-2.csv does not exist: 'data/cleaned-train-balanced-sarcasm-2.csv'"
     ]
    }
   ],
   "source": [
    "data = pd.read_csv(\"data/cleaned-train-balanced-sarcasm-2.csv\")"
   ]
  },
  {
   "cell_type": "code",
   "execution_count": 8,
   "metadata": {},
   "outputs": [],
   "source": [
    "#data = pd.read_csv(\"data/train-balanced-sarcasm.csv\")"
   ]
  },
  {
   "cell_type": "code",
   "execution_count": 9,
   "metadata": {},
   "outputs": [
    {
     "data": {
      "text/html": [
       "<div>\n",
       "<style scoped>\n",
       "    .dataframe tbody tr th:only-of-type {\n",
       "        vertical-align: middle;\n",
       "    }\n",
       "\n",
       "    .dataframe tbody tr th {\n",
       "        vertical-align: top;\n",
       "    }\n",
       "\n",
       "    .dataframe thead th {\n",
       "        text-align: right;\n",
       "    }\n",
       "</style>\n",
       "<table border=\"1\" class=\"dataframe\">\n",
       "  <thead>\n",
       "    <tr style=\"text-align: right;\">\n",
       "      <th></th>\n",
       "      <th>label</th>\n",
       "      <th>comment</th>\n",
       "      <th>author</th>\n",
       "      <th>subreddit</th>\n",
       "      <th>score</th>\n",
       "      <th>ups</th>\n",
       "      <th>downs</th>\n",
       "      <th>date</th>\n",
       "      <th>created_utc</th>\n",
       "      <th>parent_comment</th>\n",
       "    </tr>\n",
       "  </thead>\n",
       "  <tbody>\n",
       "    <tr>\n",
       "      <th>0</th>\n",
       "      <td>0</td>\n",
       "      <td>NC and NH.</td>\n",
       "      <td>Trumpbart</td>\n",
       "      <td>politics</td>\n",
       "      <td>2</td>\n",
       "      <td>-1</td>\n",
       "      <td>-1</td>\n",
       "      <td>2016-10</td>\n",
       "      <td>2016-10-16 23:55:23</td>\n",
       "      <td>Yeah, I get that argument. At this point, I'd ...</td>\n",
       "    </tr>\n",
       "    <tr>\n",
       "      <th>1</th>\n",
       "      <td>0</td>\n",
       "      <td>You do know west teams play against west teams...</td>\n",
       "      <td>Shbshb906</td>\n",
       "      <td>nba</td>\n",
       "      <td>-4</td>\n",
       "      <td>-1</td>\n",
       "      <td>-1</td>\n",
       "      <td>2016-11</td>\n",
       "      <td>2016-11-01 00:24:10</td>\n",
       "      <td>The blazers and Mavericks (The wests 5 and 6 s...</td>\n",
       "    </tr>\n",
       "    <tr>\n",
       "      <th>2</th>\n",
       "      <td>0</td>\n",
       "      <td>They were underdogs earlier today, but since G...</td>\n",
       "      <td>Creepeth</td>\n",
       "      <td>nfl</td>\n",
       "      <td>3</td>\n",
       "      <td>3</td>\n",
       "      <td>0</td>\n",
       "      <td>2016-09</td>\n",
       "      <td>2016-09-22 21:45:37</td>\n",
       "      <td>They're favored to win.</td>\n",
       "    </tr>\n",
       "    <tr>\n",
       "      <th>3</th>\n",
       "      <td>0</td>\n",
       "      <td>This meme isn't funny none of the \"new york ni...</td>\n",
       "      <td>icebrotha</td>\n",
       "      <td>BlackPeopleTwitter</td>\n",
       "      <td>-8</td>\n",
       "      <td>-1</td>\n",
       "      <td>-1</td>\n",
       "      <td>2016-10</td>\n",
       "      <td>2016-10-18 21:03:47</td>\n",
       "      <td>deadass don't kill my buzz</td>\n",
       "    </tr>\n",
       "    <tr>\n",
       "      <th>4</th>\n",
       "      <td>0</td>\n",
       "      <td>I could use one of those tools.</td>\n",
       "      <td>cush2push</td>\n",
       "      <td>MaddenUltimateTeam</td>\n",
       "      <td>6</td>\n",
       "      <td>-1</td>\n",
       "      <td>-1</td>\n",
       "      <td>2016-12</td>\n",
       "      <td>2016-12-30 17:00:13</td>\n",
       "      <td>Yep can confirm I saw the tool they use for th...</td>\n",
       "    </tr>\n",
       "  </tbody>\n",
       "</table>\n",
       "</div>"
      ],
      "text/plain": [
       "   label                                            comment     author  \\\n",
       "0      0                                         NC and NH.  Trumpbart   \n",
       "1      0  You do know west teams play against west teams...  Shbshb906   \n",
       "2      0  They were underdogs earlier today, but since G...   Creepeth   \n",
       "3      0  This meme isn't funny none of the \"new york ni...  icebrotha   \n",
       "4      0                    I could use one of those tools.  cush2push   \n",
       "\n",
       "            subreddit  score  ups  downs     date          created_utc  \\\n",
       "0            politics      2   -1     -1  2016-10  2016-10-16 23:55:23   \n",
       "1                 nba     -4   -1     -1  2016-11  2016-11-01 00:24:10   \n",
       "2                 nfl      3    3      0  2016-09  2016-09-22 21:45:37   \n",
       "3  BlackPeopleTwitter     -8   -1     -1  2016-10  2016-10-18 21:03:47   \n",
       "4  MaddenUltimateTeam      6   -1     -1  2016-12  2016-12-30 17:00:13   \n",
       "\n",
       "                                      parent_comment  \n",
       "0  Yeah, I get that argument. At this point, I'd ...  \n",
       "1  The blazers and Mavericks (The wests 5 and 6 s...  \n",
       "2                            They're favored to win.  \n",
       "3                         deadass don't kill my buzz  \n",
       "4  Yep can confirm I saw the tool they use for th...  "
      ]
     },
     "execution_count": 9,
     "metadata": {},
     "output_type": "execute_result"
    }
   ],
   "source": [
    "data.dropna(subset=['comment'], inplace=True)\n",
    "data.head(5)"
   ]
  },
  {
   "cell_type": "code",
   "execution_count": 10,
   "metadata": {},
   "outputs": [],
   "source": [
    "X_train, X_test, y_train, y_test = train_test_split(data['comment'], data['label'], random_state=15, test_size=0.2)"
   ]
  },
  {
   "cell_type": "markdown",
   "metadata": {},
   "source": [
    "Hyperparameter Tuning "
   ]
  },
  {
   "cell_type": "code",
   "execution_count": 11,
   "metadata": {},
   "outputs": [],
   "source": [
    "kf = KFold(n_splits=5)"
   ]
  },
  {
   "cell_type": "code",
   "execution_count": 42,
   "metadata": {},
   "outputs": [
    {
     "name": "stdout",
     "output_type": "stream",
     "text": [
      "c = 0.5\n",
      "TRAIN: [160858 160859 160860 ... 804285 804286 804287] TEST: [     0      1      2 ... 160855 160856 160857]\n",
      "0.7154260279252509\n",
      "TRAIN: [     0      1      2 ... 804285 804286 804287] TEST: [160858 160859 160860 ... 321713 321714 321715]\n",
      "0.7175894266993249\n",
      "TRAIN: [     0      1      2 ... 804285 804286 804287] TEST: [321716 321717 321718 ... 482571 482572 482573]\n",
      "0.7179437764985267\n",
      "TRAIN: [     0      1      2 ... 804285 804286 804287] TEST: [482574 482575 482576 ... 643428 643429 643430]\n",
      "0.7188123612898413\n",
      "TRAIN: [     0      1      2 ... 643428 643429 643430] TEST: [643431 643432 643433 ... 804285 804286 804287]\n",
      "0.7179171562319328\n",
      "0.7175377497289753\n",
      "c = 0.6\n",
      "TRAIN: [160858 160859 160860 ... 804285 804286 804287] TEST: [     0      1      2 ... 160855 160856 160857]\n",
      "0.7157555110718771\n",
      "TRAIN: [     0      1      2 ... 804285 804286 804287] TEST: [160858 160859 160860 ... 321713 321714 321715]\n",
      "0.7178132265725049\n",
      "TRAIN: [     0      1      2 ... 804285 804286 804287] TEST: [321716 321717 321718 ... 482571 482572 482573]\n",
      "0.7183292096134479\n",
      "TRAIN: [     0      1      2 ... 804285 804286 804287] TEST: [482574 482575 482576 ... 643428 643429 643430]\n",
      "0.719154279888348\n",
      "TRAIN: [     0      1      2 ... 643428 643429 643430] TEST: [643431 643432 643433 ... 804285 804286 804287]\n",
      "0.7185823433235731\n",
      "0.7179269140939502\n",
      "c = 0.7\n",
      "TRAIN: [160858 160859 160860 ... 804285 804286 804287] TEST: [     0      1      2 ... 160855 160856 160857]\n",
      "0.7158301110296037\n",
      "TRAIN: [     0      1      2 ... 804285 804286 804287] TEST: [160858 160859 160860 ... 321713 321714 321715]\n",
      "0.7177697099304977\n",
      "TRAIN: [     0      1      2 ... 804285 804286 804287] TEST: [321716 321717 321718 ... 482571 482572 482573]\n",
      "0.7186524760969302\n",
      "TRAIN: [     0      1      2 ... 804285 804286 804287] TEST: [482574 482575 482576 ... 643428 643429 643430]\n",
      "0.7193159141349149\n",
      "TRAIN: [     0      1      2 ... 643428 643429 643430] TEST: [643431 643432 643433 ... 804285 804286 804287]\n",
      "0.7186942439558117\n",
      "0.7180524910295516\n",
      "c = 0.8\n",
      "TRAIN: [160858 160859 160860 ... 804285 804286 804287] TEST: [     0      1      2 ... 160855 160856 160857]\n",
      "0.7158549776821793\n",
      "TRAIN: [     0      1      2 ... 804285 804286 804287] TEST: [160858 160859 160860 ... 321713 321714 321715]\n",
      "0.7176764599833393\n",
      "TRAIN: [     0      1      2 ... 804285 804286 804287] TEST: [321716 321717 321718 ... 482571 482572 482573]\n",
      "0.7184721928657574\n",
      "TRAIN: [     0      1      2 ... 804285 804286 804287] TEST: [482574 482575 482576 ... 643428 643429 643430]\n",
      "0.7191294130811839\n",
      "TRAIN: [     0      1      2 ... 643428 643429 643430] TEST: [643431 643432 643433 ... 804285 804286 804287]\n",
      "0.7185201763056628\n",
      "0.7179306439836245\n",
      "c = 0.9\n",
      "TRAIN: [160858 160859 160860 ... 804285 804286 804287] TEST: [     0      1      2 ... 160855 160856 160857]\n",
      "0.7155006278829775\n",
      "TRAIN: [     0      1      2 ... 804285 804286 804287] TEST: [160858 160859 160860 ... 321713 321714 321715]\n",
      "0.7176515933307638\n",
      "TRAIN: [     0      1      2 ... 804285 804286 804287] TEST: [321716 321717 321718 ... 482571 482572 482573]\n",
      "0.7182173096768578\n",
      "TRAIN: [     0      1      2 ... 804285 804286 804287] TEST: [482574 482575 482576 ... 643428 643429 643430]\n",
      "0.718768844377304\n",
      "TRAIN: [     0      1      2 ... 643428 643429 643430] TEST: [643431 643432 643433 ... 804285 804286 804287]\n",
      "0.7183958422698422\n",
      "0.7177068435075491\n",
      "c = 1\n",
      "TRAIN: [160858 160859 160860 ... 804285 804286 804287] TEST: [     0      1      2 ... 160855 160856 160857]\n",
      "0.715189794725783\n",
      "TRAIN: [     0      1      2 ... 804285 804286 804287] TEST: [160858 160859 160860 ... 321713 321714 321715]\n",
      "0.7175396933941738\n",
      "TRAIN: [     0      1      2 ... 804285 804286 804287] TEST: [321716 321717 321718 ... 482571 482572 482573]\n",
      "0.7182235263400017\n",
      "TRAIN: [     0      1      2 ... 804285 804286 804287] TEST: [482574 482575 482576 ... 643428 643429 643430]\n",
      "0.7188745283077516\n",
      "TRAIN: [     0      1      2 ... 643428 643429 643430] TEST: [643431 643432 643433 ... 804285 804286 804287]\n",
      "0.7185015262002897\n",
      "0.7176658137936\n",
      "c = 1.1\n",
      "TRAIN: [160858 160859 160860 ... 804285 804286 804287] TEST: [     0      1      2 ... 160855 160856 160857]\n",
      "0.7153327779780925\n",
      "TRAIN: [     0      1      2 ... 804285 804286 804287] TEST: [160858 160859 160860 ... 321713 321714 321715]\n",
      "0.717353193499857\n",
      "TRAIN: [     0      1      2 ... 804285 804286 804287] TEST: [321716 321717 321718 ... 482571 482572 482573]\n",
      "0.7180494597719728\n",
      "TRAIN: [     0      1      2 ... 804285 804286 804287] TEST: [482574 482575 482576 ... 643428 643429 643430]\n",
      "0.7186507270432745\n",
      "TRAIN: [     0      1      2 ... 643428 643429 643430] TEST: [643431 643432 643433 ... 804285 804286 804287]\n",
      "0.718172041005365\n",
      "0.7175116398597123\n",
      "c = 1.2\n",
      "TRAIN: [160858 160859 160860 ... 804285 804286 804287] TEST: [     0      1      2 ... 160855 160856 160857]\n",
      "0.7151462780837757\n",
      "TRAIN: [     0      1      2 ... 804285 804286 804287] TEST: [160858 160859 160860 ... 321713 321714 321715]\n",
      "0.717185343594972\n",
      "TRAIN: [     0      1      2 ... 804285 804286 804287] TEST: [321716 321717 321718 ... 482571 482572 482573]\n",
      "0.7178567432145122\n",
      "TRAIN: [     0      1      2 ... 804285 804286 804287] TEST: [482574 482575 482576 ... 643428 643429 643430]\n",
      "0.7185636932182\n",
      "TRAIN: [     0      1      2 ... 643428 643429 643430] TEST: [643431 643432 643433 ... 804285 804286 804287]\n",
      "0.7182652915322305\n",
      "0.717403469928738\n",
      "c = 1.3\n",
      "TRAIN: [160858 160859 160860 ... 804285 804286 804287] TEST: [     0      1      2 ... 160855 160856 160857]\n",
      "0.7150032948314663\n",
      "TRAIN: [     0      1      2 ... 804285 804286 804287] TEST: [160858 160859 160860 ... 321713 321714 321715]\n",
      "0.7170174936900869\n",
      "TRAIN: [     0      1      2 ... 804285 804286 804287] TEST: [321716 321717 321718 ... 482571 482572 482573]\n",
      "0.7176640266570515\n",
      "TRAIN: [     0      1      2 ... 804285 804286 804287] TEST: [482574 482575 482576 ... 643428 643429 643430]\n",
      "0.7183336752519318\n",
      "TRAIN: [     0      1      2 ... 643428 643429 643430] TEST: [643431 643432 643433 ... 804285 804286 804287]\n",
      "0.7179109395301417\n",
      "0.7171858859921356\n",
      "c = 1.4\n",
      "TRAIN: [160858 160859 160860 ... 804285 804286 804287] TEST: [     0      1      2 ... 160855 160856 160857]\n",
      "0.7147484116425667\n",
      "TRAIN: [     0      1      2 ... 804285 804286 804287] TEST: [160858 160859 160860 ... 321713 321714 321715]\n",
      "0.7167377438486118\n",
      "TRAIN: [     0      1      2 ... 804285 804286 804287] TEST: [321716 321717 321718 ... 482571 482572 482573]\n",
      "0.7174277934575837\n",
      "TRAIN: [     0      1      2 ... 804285 804286 804287] TEST: [482574 482575 482576 ... 643428 643429 643430]\n",
      "0.71796067314447\n",
      "TRAIN: [     0      1      2 ... 643428 643429 643430] TEST: [643431 643432 643433 ... 804285 804286 804287]\n",
      "0.7177306551782018\n",
      "0.7169210554542867\n",
      "c = 1.5\n",
      "TRAIN: [160858 160859 160860 ... 804285 804286 804287] TEST: [     0      1      2 ... 160855 160856 160857]\n",
      "0.71456191174825\n",
      "TRAIN: [     0      1      2 ... 804285 804286 804287] TEST: [160858 160859 160860 ... 321713 321714 321715]\n",
      "0.7168309937957702\n",
      "TRAIN: [     0      1      2 ... 804285 804286 804287] TEST: [321716 321717 321718 ... 482571 482572 482573]\n",
      "0.7172848102052742\n",
      "TRAIN: [     0      1      2 ... 804285 804286 804287] TEST: [482574 482575 482576 ... 643428 643429 643430]\n",
      "0.7177928221961121\n",
      "TRAIN: [     0      1      2 ... 643428 643429 643430] TEST: [643431 643432 643433 ... 804285 804286 804287]\n",
      "0.7176436213531273\n",
      "0.7168228318597067\n"
     ]
    }
   ],
   "source": [
    "#applying tf-idf vectorizer\n",
    "tf_idf = TfidfVectorizer(ngram_range=(1, 2), max_features=50000, min_df=2)\n",
    "\n",
    "#candidates for c\n",
    "test_c = [0.5, 0.6, 0.7, 0.8, 0.9, 1, 1.1, 1.2, 1.3, 1.4, 1.5]\n",
    "\n",
    "#dictionary to store the parameter value and its mean accuracy in cv\n",
    "tuning_dict = {}\n",
    "for i in test_c:\n",
    "    \n",
    "    #store the accuracy of each subsamples\n",
    "    accuracy_list = []\n",
    "    print(f\"c = {i}\")\n",
    "    for train_index, test_index in kf.split(X_train):\n",
    "        print(\"TRAIN:\", train_index, \"TEST:\", test_index)\n",
    "        \n",
    "        X_train_cv, X_test_cv = X_train.reset_index(drop=True).loc[train_index, ], X_train.reset_index(drop=True).loc[test_index, ]\n",
    "        y_train_cv, y_test_cv = y_train.reset_index(drop=True).loc[train_index, ], y_train.reset_index(drop=True).loc[test_index, ]    \n",
    "        \n",
    "        #applying logistic regression\n",
    "        logit = LogisticRegression(C=i, n_jobs=8, solver='saga', random_state=17)\n",
    "\n",
    "        #pipelining\n",
    "        tfidf_logit_pipeline = Pipeline([('tf_idf', tf_idf), \n",
    "                                         ('logit', logit)])\n",
    "        tfidf_logit_pipeline.fit(X_train_cv, y_train_cv)\n",
    "        valid_pred_lr = tfidf_logit_pipeline.predict(X_test_cv)\n",
    "        \n",
    "        accuracy_list.append(accuracy_score(y_test_cv, valid_pred_lr))\n",
    "        print(accuracy_score(y_test_cv, valid_pred_lr))\n",
    "    \n",
    "    #calculate the mean of accuracies and add it to the dictionary\n",
    "    print(mean(accuracy_list))\n",
    "    tuning_dict[i] = mean(accuracy_list)\n"
   ]
  },
  {
   "cell_type": "code",
   "execution_count": 43,
   "metadata": {},
   "outputs": [
    {
     "name": "stdout",
     "output_type": "stream",
     "text": [
      "0.7\n",
      "0.7180524910295516\n"
     ]
    }
   ],
   "source": [
    "max_accuracy = 0\n",
    "best_c = 0\n",
    "for i in test_c:\n",
    "    if tuning_dict[i] >= max_accuracy:\n",
    "        max_accuracy = tuning_dict[i]\n",
    "        best_c = i\n",
    "        \n",
    "print(best_c)\n",
    "print(max_accuracy)"
   ]
  },
  {
   "cell_type": "code",
   "execution_count": 45,
   "metadata": {},
   "outputs": [
    {
     "data": {
      "image/png": "[encoded data removed]",
      "text/plain": [
       "<Figure size 432x288 with 1 Axes>"
      ]
     },
     "metadata": {
      "needs_background": "light"
     },
     "output_type": "display_data"
    }
   ],
   "source": [
    "plt.plot(tuning_dict.keys(), tuning_dict.values())\n",
    "plt.xlabel('Inverse of regularization strength (C)')\n",
    "plt.ylabel('Accuracy')\n",
    "plt.title('The Value of C vs. the Accuracy')\n",
    "plt.grid(True)\n",
    "plt.show()"
   ]
  },
  {
   "cell_type": "code",
   "execution_count": 47,
   "metadata": {},
   "outputs": [
    {
     "name": "stdout",
     "output_type": "stream",
     "text": [
      "0.7208959974536484\n"
     ]
    }
   ],
   "source": [
    "logit = LogisticRegression(C=best_c, n_jobs=16, solver='saga', random_state=17)\n",
    "\n",
    "#pipelining\n",
    "tfidf_logit_pipeline = Pipeline([('tf_idf', tf_idf), \n",
    "                                 ('logit', logit)])\n",
    "tfidf_logit_pipeline.fit(X_train, y_train)\n",
    "valid_pred_lr = tfidf_logit_pipeline.predict(X_test)\n",
    "\n",
    "print(accuracy_score(y_test, valid_pred_lr))"
   ]
  },
  {
   "cell_type": "code",
   "execution_count": 66,
   "metadata": {},
   "outputs": [
    {
     "name": "stdout",
     "output_type": "stream",
     "text": [
      "1\n",
      "TRAIN: [160858 160859 160860 ... 804285 804286 804287] TEST: [     0      1      2 ... 160855 160856 160857]\n",
      "0.6946996730035186\n",
      "TRAIN: [     0      1      2 ... 804285 804286 804287] TEST: [160858 160859 160860 ... 321713 321714 321715]\n",
      "0.6957316390854045\n",
      "TRAIN: [     0      1      2 ... 804285 804286 804287] TEST: [321716 321717 321718 ... 482571 482572 482573]\n",
      "0.6968071218092976\n",
      "TRAIN: [     0      1      2 ... 804285 804286 804287] TEST: [482574 482575 482576 ... 643428 643429 643430]\n",
      "0.695673797223621\n",
      "TRAIN: [     0      1      2 ... 643428 643429 643430] TEST: [643431 643432 643433 ... 804285 804286 804287]\n",
      "0.6969357876872004\n",
      "0.6959696037618084\n",
      "2\n",
      "TRAIN: [160858 160859 160860 ... 804285 804286 804287] TEST: [     0      1      2 ... 160855 160856 160857]\n",
      "0.694966989518706\n",
      "TRAIN: [     0      1      2 ... 804285 804286 804287] TEST: [160858 160859 160860 ... 321713 321714 321715]\n",
      "0.6963470887366497\n",
      "TRAIN: [     0      1      2 ... 804285 804286 804287] TEST: [321716 321717 321718 ... 482571 482572 482573]\n",
      "0.6969936217036143\n",
      "TRAIN: [     0      1      2 ... 804285 804286 804287] TEST: [482574 482575 482576 ... 643428 643429 643430]\n",
      "0.6963887179295897\n",
      "TRAIN: [     0      1      2 ... 643428 643429 643430] TEST: [643431 643432 643433 ... 804285 804286 804287]\n",
      "0.6974517739358561\n",
      "0.6964296383648831\n",
      "3\n",
      "TRAIN: [160858 160859 160860 ... 804285 804286 804287] TEST: [     0      1      2 ... 160855 160856 160857]\n",
      "0.6956694724539656\n",
      "TRAIN: [     0      1      2 ... 804285 804286 804287] TEST: [160858 160859 160860 ... 321713 321714 321715]\n",
      "0.6966641385569882\n",
      "TRAIN: [     0      1      2 ... 804285 804286 804287] TEST: [321716 321717 321718 ... 482571 482572 482573]\n",
      "0.6969811883773266\n",
      "TRAIN: [     0      1      2 ... 804285 804286 804287] TEST: [482574 482575 482576 ... 643428 643429 643430]\n",
      "0.6968176703531709\n",
      "TRAIN: [     0      1      2 ... 643428 643429 643430] TEST: [643431 643432 643433 ... 804285 804286 804287]\n",
      "0.6976693584985422\n",
      "0.6967603656479987\n",
      "4\n",
      "TRAIN: [160858 160859 160860 ... 804285 804286 804287] TEST: [     0      1      2 ... 160855 160856 160857]\n",
      "0.6956756891171095\n",
      "TRAIN: [     0      1      2 ... 804285 804286 804287] TEST: [160858 160859 160860 ... 321713 321714 321715]\n",
      "0.696732521851571\n",
      "TRAIN: [     0      1      2 ... 804285 804286 804287] TEST: [321716 321717 321718 ... 482571 482572 482573]\n",
      "0.6969438883984632\n",
      "TRAIN: [     0      1      2 ... 804285 804286 804287] TEST: [482574 482575 482576 ... 643428 643429 643430]\n",
      "0.6971720223552597\n",
      "TRAIN: [     0      1      2 ... 643428 643429 643430] TEST: [643431 643432 643433 ... 804285 804286 804287]\n",
      "0.6979118098683924\n",
      "0.6968871863181592\n",
      "5\n",
      "TRAIN: [160858 160859 160860 ... 804285 804286 804287] TEST: [     0      1      2 ... 160855 160856 160857]\n",
      "0.6956259558119584\n",
      "TRAIN: [     0      1      2 ... 804285 804286 804287] TEST: [160858 160859 160860 ... 321713 321714 321715]\n",
      "0.696670355220132\n",
      "TRAIN: [     0      1      2 ... 804285 804286 804287] TEST: [321716 321717 321718 ... 482571 482572 482573]\n",
      "0.6971739049347873\n",
      "TRAIN: [     0      1      2 ... 804285 804286 804287] TEST: [482574 482575 482576 ... 643428 643429 643430]\n",
      "0.6972652728821251\n",
      "TRAIN: [     0      1      2 ... 643428 643429 643430] TEST: [643431 643432 643433 ... 804285 804286 804287]\n",
      "0.698023710500631\n",
      "0.6969518398699267\n",
      "6\n",
      "TRAIN: [160858 160859 160860 ... 804285 804286 804287] TEST: [     0      1      2 ... 160855 160856 160857]\n",
      "0.6959678722848723\n",
      "TRAIN: [     0      1      2 ... 804285 804286 804287] TEST: [160858 160859 160860 ... 321713 321714 321715]\n",
      "0.6966268385781248\n",
      "TRAIN: [     0      1      2 ... 804285 804286 804287] TEST: [321716 321717 321718 ... 482571 482572 482573]\n",
      "0.6967698218304343\n",
      "TRAIN: [     0      1      2 ... 804285 804286 804287] TEST: [482574 482575 482576 ... 643428 643429 643430]\n",
      "0.6974144737251099\n",
      "TRAIN: [     0      1      2 ... 643428 643429 643430] TEST: [643431 643432 643433 ... 804285 804286 804287]\n",
      "0.6980174937988399\n",
      "0.6969593000434763\n",
      "7\n",
      "TRAIN: [160858 160859 160860 ... 804285 804286 804287] TEST: [     0      1      2 ... 160855 160856 160857]\n",
      "0.6959243556428651\n",
      "TRAIN: [     0      1      2 ... 804285 804286 804287] TEST: [160858 160859 160860 ... 321713 321714 321715]\n",
      "0.6964527720100958\n",
      "TRAIN: [     0      1      2 ... 804285 804286 804287] TEST: [321716 321717 321718 ... 482571 482572 482573]\n",
      "0.6962414054632036\n",
      "TRAIN: [     0      1      2 ... 804285 804286 804287] TEST: [482574 482575 482576 ... 643428 643429 643430]\n",
      "0.697240406074961\n",
      "TRAIN: [     0      1      2 ... 643428 643429 643430] TEST: [643431 643432 643433 ... 804285 804286 804287]\n",
      "0.6980858775185413\n",
      "0.6967889633419334\n"
     ]
    }
   ],
   "source": [
    "#hypertuning for mnb\n",
    "#test_alpha = [5, 5.1, 5.2, 5.3, 5.4, 5.5, 5.6, 5.7, 5.8, 5.9, 6,6.1, 6.2, 6.3, 6.4, 6.5]\n",
    "test_alpha = [1, 2, 3, 4, 5, 6, 7]\n",
    "tuning_dict = {}\n",
    "for i in test_alpha:\n",
    "    accuracy_list = []\n",
    "    print(i)\n",
    "    for train_index, test_index in kf.split(X_train):\n",
    "        print(\"TRAIN:\", train_index, \"TEST:\", test_index)\n",
    "        X_train_cv, X_test_cv = X_train.reset_index(drop=True).loc[train_index, ], X_train.reset_index(drop=True).loc[test_index, ]\n",
    "        y_train_cv, y_test_cv = y_train.reset_index(drop=True).loc[train_index, ], y_train.reset_index(drop=True).loc[test_index, ]    \n",
    "        #applying logistic regression\n",
    "        mNB = MultinomialNB(alpha=i)\n",
    "\n",
    "        #pipelining\n",
    "        tfidf_mNB_pipeline = Pipeline([('tf_idf', tf_idf), \n",
    "                                 ('mnb', mNB)])\n",
    "        tfidf_mNB_pipeline.fit(X_train_cv, y_train_cv)\n",
    "        valid_pred_mNB = tfidf_mNB_pipeline.predict(X_test_cv)\n",
    "        accuracy_list.append(accuracy_score(y_test_cv, valid_pred_mNB))\n",
    "        print(accuracy_score(y_test_cv, valid_pred_mNB))\n",
    "    print(mean(accuracy_list))\n",
    "    tuning_dict[i] = mean(accuracy_list)"
   ]
  },
  {
   "cell_type": "code",
   "execution_count": 67,
   "metadata": {},
   "outputs": [
    {
     "name": "stdout",
     "output_type": "stream",
     "text": [
      "6\n",
      "0.6969593000434763\n"
     ]
    }
   ],
   "source": [
    "max_accuracy = 0\n",
    "best_alpha = 0\n",
    "for i in test_alpha:\n",
    "    if tuning_dict[i] >= max_accuracy:\n",
    "        max_accuracy = tuning_dict[i]\n",
    "        best_alpha = i\n",
    "        \n",
    "print(best_alpha)\n",
    "print(max_accuracy)"
   ]
  },
  {
   "cell_type": "code",
   "execution_count": 69,
   "metadata": {},
   "outputs": [
    {
     "data": {
      "image/png": "[encoded data removed]",
      "text/plain": [
       "<Figure size 432x288 with 1 Axes>"
      ]
     },
     "metadata": {
      "needs_background": "light"
     },
     "output_type": "display_data"
    }
   ],
   "source": [
    "plt.plot(tuning_dict.keys(), tuning_dict.values())\n",
    "plt.xlabel('Laplace smoothing parameter (alpha)')\n",
    "plt.ylabel('Accuracy')\n",
    "plt.title('Laplace Smoothing Parameter vs. the Accuracy')\n",
    "plt.ylim(0.6955, 0.6975)\n",
    "plt.grid(True)\n",
    "plt.show()"
   ]
  },
  {
   "cell_type": "code",
   "execution_count": null,
   "metadata": {},
   "outputs": [],
   "source": []
  },
  {
   "cell_type": "code",
   "execution_count": null,
   "metadata": {},
   "outputs": [],
   "source": []
  },
  {
   "cell_type": "code",
   "execution_count": null,
   "metadata": {},
   "outputs": [],
   "source": []
  },
  {
   "cell_type": "code",
   "execution_count": null,
   "metadata": {},
   "outputs": [],
   "source": []
  },
  {
   "cell_type": "code",
   "execution_count": 71,
   "metadata": {},
   "outputs": [
    {
     "name": "stdout",
     "output_type": "stream",
     "text": [
      "0.698814355056895\n"
     ]
    }
   ],
   "source": [
    "mNB = MultinomialNB(alpha=best_alpha)\n",
    "\n",
    "#pipelining\n",
    "tfidf_mNB_pipeline = Pipeline([('tf_idf', tf_idf), \n",
    "                                 ('mnb', mNB)])\n",
    "tfidf_mNB_pipeline.fit(X_train, y_train)\n",
    "valid_pred_mNB = tfidf_mNB_pipeline.predict(X_test)\n",
    "\n",
    "print(accuracy_score(y_test, valid_pred_mNB))"
   ]
  },
  {
   "cell_type": "code",
   "execution_count": 25,
   "metadata": {},
   "outputs": [
    {
     "data": {
      "text/plain": [
       "dict_values([0.6969518398699267, 0.6969543265892904, 0.6969555699528368, 0.6969555700224016, 0.6969729767023928, 0.6969779501179316, 0.6969568134632425, 0.6969767068935149, 0.696971733477976, 0.6969816801235474, 0.6969593000434763, 0.6969916268154953, 0.696982923525741, 0.6969431367270316, 0.6969307034471204, 0.6968896734008059])"
      ]
     },
     "execution_count": 25,
     "metadata": {},
     "output_type": "execute_result"
    }
   ],
   "source": [
    "tuning_dict.values()\n"
   ]
  },
  {
   "cell_type": "code",
   "execution_count": 86,
   "metadata": {},
   "outputs": [
    {
     "name": "stdout",
     "output_type": "stream",
     "text": [
      "0.7021216280735258\n"
     ]
    }
   ],
   "source": [
    "#applying RandomForest for classification\n",
    "\n",
    "ranforest = RandomForestClassifier(n_jobs=36,random_state=15, class_weight='balanced', max_depth = 200, n_estimators = 1000)\n",
    "\n",
    "tfidf_ranforest_pipeline = Pipeline([('tf_idf', tf_idf), \n",
    "                                 ('ranforest', ranforest)])\n",
    "tfidf_ranforest_pipeline.fit(X_train, y_train)\n",
    "valid_pred_ranforest = tfidf_ranforest_pipeline.predict(X_test)\n",
    "print(accuracy_score(y_test, valid_pred_ranforest))"
   ]
  },
  {
   "cell_type": "code",
   "execution_count": 87,
   "metadata": {
    "scrolled": true
   },
   "outputs": [
    {
     "name": "stdout",
     "output_type": "stream",
     "text": [
      "0.7021216280735258\n"
     ]
    }
   ],
   "source": [
    "print(accuracy_score(y_test, valid_pred_ranforest))"
   ]
  },
  {
   "cell_type": "code",
   "execution_count": 88,
   "metadata": {
    "scrolled": true
   },
   "outputs": [
    {
     "data": {
      "text/html": [
       "<div>\n",
       "<style scoped>\n",
       "    .dataframe tbody tr th:only-of-type {\n",
       "        vertical-align: middle;\n",
       "    }\n",
       "\n",
       "    .dataframe tbody tr th {\n",
       "        vertical-align: top;\n",
       "    }\n",
       "\n",
       "    .dataframe thead th {\n",
       "        text-align: right;\n",
       "    }\n",
       "</style>\n",
       "<table border=\"1\" class=\"dataframe\">\n",
       "  <thead>\n",
       "    <tr style=\"text-align: right;\">\n",
       "      <th></th>\n",
       "      <th>0</th>\n",
       "      <th>1</th>\n",
       "      <th>accuracy</th>\n",
       "      <th>macro avg</th>\n",
       "      <th>weighted avg</th>\n",
       "    </tr>\n",
       "  </thead>\n",
       "  <tbody>\n",
       "    <tr>\n",
       "      <th>precision</th>\n",
       "      <td>0.704228</td>\n",
       "      <td>0.740097</td>\n",
       "      <td>0.720896</td>\n",
       "      <td>0.722163</td>\n",
       "      <td>0.722243</td>\n",
       "    </tr>\n",
       "    <tr>\n",
       "      <th>recall</th>\n",
       "      <td>0.757366</td>\n",
       "      <td>0.684752</td>\n",
       "      <td>0.720896</td>\n",
       "      <td>0.721059</td>\n",
       "      <td>0.720896</td>\n",
       "    </tr>\n",
       "    <tr>\n",
       "      <th>f1-score</th>\n",
       "      <td>0.729831</td>\n",
       "      <td>0.711350</td>\n",
       "      <td>0.720896</td>\n",
       "      <td>0.720590</td>\n",
       "      <td>0.720549</td>\n",
       "    </tr>\n",
       "    <tr>\n",
       "      <th>support</th>\n",
       "      <td>100085.000000</td>\n",
       "      <td>100987.000000</td>\n",
       "      <td>0.720896</td>\n",
       "      <td>201072.000000</td>\n",
       "      <td>201072.000000</td>\n",
       "    </tr>\n",
       "  </tbody>\n",
       "</table>\n",
       "</div>"
      ],
      "text/plain": [
       "                       0              1  accuracy      macro avg  \\\n",
       "precision       0.704228       0.740097  0.720896       0.722163   \n",
       "recall          0.757366       0.684752  0.720896       0.721059   \n",
       "f1-score        0.729831       0.711350  0.720896       0.720590   \n",
       "support    100085.000000  100987.000000  0.720896  201072.000000   \n",
       "\n",
       "            weighted avg  \n",
       "precision       0.722243  \n",
       "recall          0.720896  \n",
       "f1-score        0.720549  \n",
       "support    201072.000000  "
      ]
     },
     "execution_count": 88,
     "metadata": {},
     "output_type": "execute_result"
    }
   ],
   "source": [
    "report = classification_report(y_test, valid_pred_lr, output_dict=True)\n",
    "df = pd.DataFrame(report)\n",
    "df"
   ]
  },
  {
   "cell_type": "code",
   "execution_count": null,
   "metadata": {},
   "outputs": [],
   "source": []
  },
  {
   "cell_type": "code",
   "execution_count": 89,
   "metadata": {},
   "outputs": [
    {
     "data": {
      "text/html": [
       "<div>\n",
       "<style scoped>\n",
       "    .dataframe tbody tr th:only-of-type {\n",
       "        vertical-align: middle;\n",
       "    }\n",
       "\n",
       "    .dataframe tbody tr th {\n",
       "        vertical-align: top;\n",
       "    }\n",
       "\n",
       "    .dataframe thead th {\n",
       "        text-align: right;\n",
       "    }\n",
       "</style>\n",
       "<table border=\"1\" class=\"dataframe\">\n",
       "  <thead>\n",
       "    <tr style=\"text-align: right;\">\n",
       "      <th></th>\n",
       "      <th>0</th>\n",
       "      <th>1</th>\n",
       "      <th>accuracy</th>\n",
       "      <th>macro avg</th>\n",
       "      <th>weighted avg</th>\n",
       "    </tr>\n",
       "  </thead>\n",
       "  <tbody>\n",
       "    <tr>\n",
       "      <th>precision</th>\n",
       "      <td>0.688860</td>\n",
       "      <td>0.709616</td>\n",
       "      <td>0.698814</td>\n",
       "      <td>0.699238</td>\n",
       "      <td>0.699285</td>\n",
       "    </tr>\n",
       "    <tr>\n",
       "      <th>recall</th>\n",
       "      <td>0.720218</td>\n",
       "      <td>0.677602</td>\n",
       "      <td>0.698814</td>\n",
       "      <td>0.698910</td>\n",
       "      <td>0.698814</td>\n",
       "    </tr>\n",
       "    <tr>\n",
       "      <th>f1-score</th>\n",
       "      <td>0.704190</td>\n",
       "      <td>0.693240</td>\n",
       "      <td>0.698814</td>\n",
       "      <td>0.698715</td>\n",
       "      <td>0.698690</td>\n",
       "    </tr>\n",
       "    <tr>\n",
       "      <th>support</th>\n",
       "      <td>100085.000000</td>\n",
       "      <td>100987.000000</td>\n",
       "      <td>0.698814</td>\n",
       "      <td>201072.000000</td>\n",
       "      <td>201072.000000</td>\n",
       "    </tr>\n",
       "  </tbody>\n",
       "</table>\n",
       "</div>"
      ],
      "text/plain": [
       "                       0              1  accuracy      macro avg  \\\n",
       "precision       0.688860       0.709616  0.698814       0.699238   \n",
       "recall          0.720218       0.677602  0.698814       0.698910   \n",
       "f1-score        0.704190       0.693240  0.698814       0.698715   \n",
       "support    100085.000000  100987.000000  0.698814  201072.000000   \n",
       "\n",
       "            weighted avg  \n",
       "precision       0.699285  \n",
       "recall          0.698814  \n",
       "f1-score        0.698690  \n",
       "support    201072.000000  "
      ]
     },
     "execution_count": 89,
     "metadata": {},
     "output_type": "execute_result"
    }
   ],
   "source": [
    "report = classification_report(y_test, valid_pred_mNB, output_dict=True)\n",
    "df = pd.DataFrame(report)\n",
    "df"
   ]
  },
  {
   "cell_type": "code",
   "execution_count": 90,
   "metadata": {},
   "outputs": [
    {
     "data": {
      "text/html": [
       "<div>\n",
       "<style scoped>\n",
       "    .dataframe tbody tr th:only-of-type {\n",
       "        vertical-align: middle;\n",
       "    }\n",
       "\n",
       "    .dataframe tbody tr th {\n",
       "        vertical-align: top;\n",
       "    }\n",
       "\n",
       "    .dataframe thead th {\n",
       "        text-align: right;\n",
       "    }\n",
       "</style>\n",
       "<table border=\"1\" class=\"dataframe\">\n",
       "  <thead>\n",
       "    <tr style=\"text-align: right;\">\n",
       "      <th></th>\n",
       "      <th>0</th>\n",
       "      <th>1</th>\n",
       "      <th>accuracy</th>\n",
       "      <th>macro avg</th>\n",
       "      <th>weighted avg</th>\n",
       "    </tr>\n",
       "  </thead>\n",
       "  <tbody>\n",
       "    <tr>\n",
       "      <th>precision</th>\n",
       "      <td>0.670092</td>\n",
       "      <td>0.747751</td>\n",
       "      <td>0.702122</td>\n",
       "      <td>0.708922</td>\n",
       "      <td>0.709096</td>\n",
       "    </tr>\n",
       "    <tr>\n",
       "      <th>recall</th>\n",
       "      <td>0.790988</td>\n",
       "      <td>0.614049</td>\n",
       "      <td>0.702122</td>\n",
       "      <td>0.702518</td>\n",
       "      <td>0.702122</td>\n",
       "    </tr>\n",
       "    <tr>\n",
       "      <th>f1-score</th>\n",
       "      <td>0.725538</td>\n",
       "      <td>0.674337</td>\n",
       "      <td>0.702122</td>\n",
       "      <td>0.699937</td>\n",
       "      <td>0.699823</td>\n",
       "    </tr>\n",
       "    <tr>\n",
       "      <th>support</th>\n",
       "      <td>100085.000000</td>\n",
       "      <td>100987.000000</td>\n",
       "      <td>0.702122</td>\n",
       "      <td>201072.000000</td>\n",
       "      <td>201072.000000</td>\n",
       "    </tr>\n",
       "  </tbody>\n",
       "</table>\n",
       "</div>"
      ],
      "text/plain": [
       "                       0              1  accuracy      macro avg  \\\n",
       "precision       0.670092       0.747751  0.702122       0.708922   \n",
       "recall          0.790988       0.614049  0.702122       0.702518   \n",
       "f1-score        0.725538       0.674337  0.702122       0.699937   \n",
       "support    100085.000000  100987.000000  0.702122  201072.000000   \n",
       "\n",
       "            weighted avg  \n",
       "precision       0.709096  \n",
       "recall          0.702122  \n",
       "f1-score        0.699823  \n",
       "support    201072.000000  "
      ]
     },
     "execution_count": 90,
     "metadata": {},
     "output_type": "execute_result"
    }
   ],
   "source": [
    "report = classification_report(y_test, valid_pred_ranforest, output_dict=True)\n",
    "df = pd.DataFrame(report)\n",
    "df\n"
   ]
  },
  {
   "cell_type": "code",
   "execution_count": null,
   "metadata": {},
   "outputs": [],
   "source": []
  },
  {
   "cell_type": "code",
   "execution_count": 91,
   "metadata": {},
   "outputs": [],
   "source": [
    "def vote(y_mnb, y_lr, y_rf):\n",
    "    return (y_mnb+y_lr+y_rf)//2"
   ]
  },
  {
   "cell_type": "code",
   "execution_count": 92,
   "metadata": {},
   "outputs": [
    {
     "data": {
      "text/html": [
       "<div>\n",
       "<style scoped>\n",
       "    .dataframe tbody tr th:only-of-type {\n",
       "        vertical-align: middle;\n",
       "    }\n",
       "\n",
       "    .dataframe tbody tr th {\n",
       "        vertical-align: top;\n",
       "    }\n",
       "\n",
       "    .dataframe thead th {\n",
       "        text-align: right;\n",
       "    }\n",
       "</style>\n",
       "<table border=\"1\" class=\"dataframe\">\n",
       "  <thead>\n",
       "    <tr style=\"text-align: right;\">\n",
       "      <th></th>\n",
       "      <th>0</th>\n",
       "      <th>1</th>\n",
       "      <th>accuracy</th>\n",
       "      <th>macro avg</th>\n",
       "      <th>weighted avg</th>\n",
       "    </tr>\n",
       "  </thead>\n",
       "  <tbody>\n",
       "    <tr>\n",
       "      <th>precision</th>\n",
       "      <td>0.700071</td>\n",
       "      <td>0.747125</td>\n",
       "      <td>0.721359</td>\n",
       "      <td>0.723598</td>\n",
       "      <td>0.723704</td>\n",
       "    </tr>\n",
       "    <tr>\n",
       "      <th>recall</th>\n",
       "      <td>0.770165</td>\n",
       "      <td>0.672988</td>\n",
       "      <td>0.721359</td>\n",
       "      <td>0.721576</td>\n",
       "      <td>0.721359</td>\n",
       "    </tr>\n",
       "    <tr>\n",
       "      <th>f1-score</th>\n",
       "      <td>0.733447</td>\n",
       "      <td>0.708121</td>\n",
       "      <td>0.721359</td>\n",
       "      <td>0.720784</td>\n",
       "      <td>0.720727</td>\n",
       "    </tr>\n",
       "    <tr>\n",
       "      <th>support</th>\n",
       "      <td>100085.000000</td>\n",
       "      <td>100987.000000</td>\n",
       "      <td>0.721359</td>\n",
       "      <td>201072.000000</td>\n",
       "      <td>201072.000000</td>\n",
       "    </tr>\n",
       "  </tbody>\n",
       "</table>\n",
       "</div>"
      ],
      "text/plain": [
       "                       0              1  accuracy      macro avg  \\\n",
       "precision       0.700071       0.747125  0.721359       0.723598   \n",
       "recall          0.770165       0.672988  0.721359       0.721576   \n",
       "f1-score        0.733447       0.708121  0.721359       0.720784   \n",
       "support    100085.000000  100987.000000  0.721359  201072.000000   \n",
       "\n",
       "            weighted avg  \n",
       "precision       0.723704  \n",
       "recall          0.721359  \n",
       "f1-score        0.720727  \n",
       "support    201072.000000  "
      ]
     },
     "execution_count": 92,
     "metadata": {},
     "output_type": "execute_result"
    }
   ],
   "source": [
    "valid_pred_voted = vote(valid_pred_mNB, valid_pred_lr, valid_pred_ranforest)\n",
    "report = classification_report(y_test, valid_pred_voted, output_dict=True)\n",
    "df = pd.DataFrame(report)\n",
    "df\n"
   ]
  },
  {
   "cell_type": "code",
   "execution_count": 83,
   "metadata": {},
   "outputs": [
    {
     "data": {
      "text/plain": [
       "0    0\n",
       "1    0\n",
       "2    1\n",
       "3    1\n",
       "dtype: int64"
      ]
     },
     "execution_count": 83,
     "metadata": {},
     "output_type": "execute_result"
    }
   ],
   "source": [
    "pd.Series([0, 1, 2 ,3])//2"
   ]
  }
 ],
 "metadata": {
  "kernelspec": {
   "display_name": "Python 3",
   "language": "python",
   "name": "python3"
  },
  "language_info": {
   "codemirror_mode": {
    "name": "ipython",
    "version": 3
   },
   "file_extension": ".py",
   "mimetype": "text/x-python",
   "name": "python",
   "nbconvert_exporter": "python",
   "pygments_lexer": "ipython3",
   "version": "3.7.6"
  }
 },
 "nbformat": 4,
 "nbformat_minor": 4
}
