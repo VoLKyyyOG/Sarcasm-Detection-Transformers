{
 "cells": [
  {
   "cell_type": "markdown",
   "metadata": {},
   "source": [
    "## Console commands to create a test environment in order to run the BERT-as-service for embeddings (not used because it crashed my computer....)"
   ]
  },
  {
   "cell_type": "raw",
   "metadata": {},
   "source": [
    "conda create -n test python=3.7.6\n",
    "\n",
    "conda activate test\n",
    "\n",
    "pip install tensorflow==1.15.0\n",
    "\n",
    "pip install bert-serving-server\n",
    "\n",
    "bert-serving-start -model_dir=C:\\Users\\Jason\\Documents\\MAST30034\\MAST30034FinalProject\\Jerry\\code\\tmp\\uncased_L-12_H-768_A-12 -num_worker=4 "
   ]
  }
 ],
 "metadata": {
  "kernelspec": {
   "display_name": "Python 3",
   "language": "python",
   "name": "python3"
  },
  "language_info": {
   "codemirror_mode": {
    "name": "ipython",
    "version": 3
   },
   "file_extension": ".py",
   "mimetype": "text/x-python",
   "name": "python",
   "nbconvert_exporter": "python",
   "pygments_lexer": "ipython3",
   "version": "3.7.6"
  }
 },
 "nbformat": 4,
 "nbformat_minor": 4
}
