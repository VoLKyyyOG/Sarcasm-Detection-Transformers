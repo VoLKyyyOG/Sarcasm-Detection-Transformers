{
 "cells": [
  {
   "cell_type": "markdown",
   "metadata": {},
   "source": [
    "### Collate embeddings\n",
    "\n",
    "get a folder with batched embeddings, convert them into one dataframe, add labels and save as one feather"
   ]
  },
  {
   "cell_type": "code",
   "execution_count": 1,
   "metadata": {},
   "outputs": [],
   "source": [
    "%run imports.py"
   ]
  },
  {
   "cell_type": "code",
   "execution_count": 2,
   "metadata": {},
   "outputs": [],
   "source": [
    "import re\n",
    "import os"
   ]
  },
  {
   "cell_type": "code",
   "execution_count": 3,
   "metadata": {},
   "outputs": [],
   "source": [
    "# get all files sorted by their batch number\n",
    "def sort_files_key(s):\n",
    "    return int(re.findall(r'\\d+', s)[0])\n",
    "\n",
    "def get_sorted_directory(d):\n",
    "    return sorted(os.listdir(d), key=sort_files_key)\n",
    "\n",
    "files = get_sorted_directory(\"embedded_data\")"
   ]
  },
  {
   "cell_type": "code",
   "execution_count": 12,
   "metadata": {},
   "outputs": [],
   "source": [
    "idx=0\n",
    "df = pd.DataFrame()\n",
    "dataframes_list = []\n",
    "print(\"===== Concatenating embeddings =====\")\n",
    "for file in files:\n",
    "    loaded = pd.DataFrame(np.load(\"embedded_data/\"+file))\n",
    "    dataframes_list.append(loaded)\n",
    "    if idx % 100 == 0:\n",
    "        print(\"Concatenated {} batches\".format(idx))\n",
    "    idx+=1\n",
    "    "
   ]
  },
  {
   "cell_type": "code",
   "execution_count": 15,
   "metadata": {},
   "outputs": [],
   "source": [
    "# concat all embeddings together\n",
    "df = pd.concat(dataframes_list)   "
   ]
  },
  {
   "cell_type": "code",
   "execution_count": 17,
   "metadata": {},
   "outputs": [],
   "source": [
    "# add labels\n",
    "df['label'] = pd.DataFrame(np.load(\"labels.npy\"))"
   ]
  },
  {
   "cell_type": "code",
   "execution_count": 26,
   "metadata": {},
   "outputs": [],
   "source": [
    "df = df.add_prefix(\"_feature\")"
   ]
  },
  {
   "cell_type": "code",
   "execution_count": 27,
   "metadata": {},
   "outputs": [],
   "source": [
    "df.reset_index(drop=True).to_feather(\"data/embeddings.feather\")"
   ]
  }
 ],
 "metadata": {
  "kernelspec": {
   "display_name": "Python 3",
   "language": "python",
   "name": "python3"
  },
  "language_info": {
   "codemirror_mode": {
    "name": "ipython",
    "version": 3
   },
   "file_extension": ".py",
   "mimetype": "text/x-python",
   "name": "python",
   "nbconvert_exporter": "python",
   "pygments_lexer": "ipython3",
   "version": "3.7.6"
  }
 },
 "nbformat": 4,
 "nbformat_minor": 4
}
