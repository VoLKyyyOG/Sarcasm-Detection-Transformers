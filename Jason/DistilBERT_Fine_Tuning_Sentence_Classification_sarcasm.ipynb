{
 "cells": [
  {
   "cell_type": "markdown",
   "metadata": {
    "id": "EKOTlwcmxmej"
   },
   "source": [
    "# BERT Fine-Tuning Tutorial with PyTorch\n",
    "\n",
    "By Chris McCormick and Nick Ryan"
   ]
  },
  {
   "cell_type": "markdown",
   "metadata": {
    "id": "MPgpITmdwvX0"
   },
   "source": [
    "*Revised on 12/13/19 to use the new [transformers](https://github.com/huggingface/transformers) interface.*\n",
    "\n",
    "\n"
   ]
  },
  {
   "cell_type": "markdown",
   "metadata": {
    "id": "BJR6t_gCQe_x"
   },
   "source": [
    "In this tutorial I'll show you how to use BERT with the huggingface PyTorch library to quickly and efficiently fine-tune a model to get near state of the art performance in sentence classification. More broadly, I describe the practical application of transfer learning in NLP to create high performance models with minimal effort on a range of NLP tasks.\n",
    "\n",
    "This post is presented in two forms--as a blog post [here](http://mccormickml.com/2019/07/22/BERT-fine-tuning/) and as a Colab Notebook [here](https://colab.research.google.com/drive/1Y4o3jh3ZH70tl6mCd76vz_IxX23biCPP). \n",
    "\n",
    "The content is identical in both, but: \n",
    "* The blog post includes a comments section for discussion. \n",
    "* The Colab Notebook will allow you to run the code and inspect it as you read through.\n",
    "\n",
    "I've also published a video walkthrough of this post on my YouTube channel! [Part 1](https://youtu.be/x66kkDnbzi4) and [Part 2](https://youtu.be/Hnvb9b7a_Ps).\n",
    "\n"
   ]
  },
  {
   "cell_type": "markdown",
   "metadata": {
    "id": "jrC9__lXxTJz"
   },
   "source": [
    "# Contents"
   ]
  },
  {
   "cell_type": "markdown",
   "metadata": {
    "id": "p9MCBOq4xUpr"
   },
   "source": [
    "See \"Table of contents\" in the sidebar to the left."
   ]
  },
  {
   "cell_type": "markdown",
   "metadata": {
    "id": "ADkUGTqixRWo"
   },
   "source": [
    "# Introduction"
   ]
  },
  {
   "cell_type": "markdown",
   "metadata": {
    "id": "L9vxxTBsuL24"
   },
   "source": [
    "\n",
    "## History\n",
    "\n",
    "2018 was a breakthrough year in NLP. Transfer learning, particularly models like Allen AI's ELMO, OpenAI's Open-GPT, and Google's BERT allowed researchers to smash multiple benchmarks with minimal task-specific fine-tuning and provided the rest of the NLP community with pretrained models that could easily (with less data and less compute time) be fine-tuned and implemented to produce state of the art results. Unfortunately, for many starting out in NLP and even for some experienced practicioners, the theory and practical application of these powerful models is still not well understood.\n"
   ]
  },
  {
   "cell_type": "markdown",
   "metadata": {
    "id": "qCgvR9INuP5q"
   },
   "source": [
    "\n",
    "## What is BERT?\n",
    "\n",
    "BERT (Bidirectional Encoder Representations from Transformers), released in late 2018, is the model we will use in this tutorial to provide readers with a better understanding of and practical guidance for using transfer learning models in NLP. BERT is a method of pretraining language representations that was used to create models that NLP practicioners can then download and use for free. You can either use these models to extract high quality language features from your text data, or you can fine-tune these models on a specific task (classification, entity recognition, question answering, etc.) with your own data to produce state of the art predictions.\n",
    "\n",
    "This post will explain how you can modify and fine-tune BERT to create a powerful NLP model that quickly gives you state of the art results. \n"
   ]
  },
  {
   "cell_type": "markdown",
   "metadata": {
    "id": "DaVGdtOkuXUZ"
   },
   "source": [
    "\n",
    "## Advantages of Fine-Tuning\n"
   ]
  },
  {
   "cell_type": "markdown",
   "metadata": {
    "id": "5llwu8GBuqMb"
   },
   "source": [
    "\n",
    "In this tutorial, we will use BERT to train a text classifier. Specifically, we will take the pre-trained BERT model, add an untrained layer of neurons on the end, and train the new model for our classification task. Why do this rather than train a train a specific deep learning model (a CNN, BiLSTM, etc.) that is well suited for the specific NLP task you need? \n",
    "\n",
    "1. **Quicker Development**\n",
    "\n",
    "    * First, the pre-trained BERT model weights already encode a lot of information about our language. As a result, it takes much less time to train our fine-tuned model - it is as if we have already trained the bottom layers of our network extensively and only need to gently tune them while using their output as features for our classification task. In fact, the authors recommend only 2-4 epochs of training for fine-tuning BERT on a specific NLP task (compared to the hundreds of GPU hours needed to train the original BERT model or a LSTM from scratch!). \n",
    "\n",
    "2. **Less Data**\n",
    "\n",
    "    * In addition and perhaps just as important, because of the pre-trained weights this method allows us to fine-tune our task on a much smaller dataset than would be required in a model that is built from scratch. A major drawback of NLP models built from scratch is that we often need a prohibitively large dataset in order to train our network to reasonable accuracy, meaning a lot of time and energy had to be put into dataset creation. By fine-tuning BERT, we are now able to get away with training a model to good performance on a much smaller amount of training data.\n",
    "\n",
    "3. **Better Results**\n",
    "\n",
    "    * Finally, this simple fine-tuning procedure (typically adding one fully-connected layer on top of BERT and training for a few epochs) was shown to achieve state of the art results with minimal task-specific adjustments for a wide variety of tasks: classification, language inference, semantic similarity, question answering, etc. Rather than implementing custom and sometimes-obscure architetures shown to work well on a specific task, simply fine-tuning BERT is shown to be a better (or at least equal) alternative.\n"
   ]
  },
  {
   "cell_type": "markdown",
   "metadata": {
    "id": "ZEynC5F4u7Nb"
   },
   "source": [
    "\n",
    "### A Shift in NLP\n",
    "\n",
    "This shift to transfer learning parallels the same shift that took place in computer vision a few years ago. Creating a good deep learning network for computer vision tasks can take millions of parameters and be very expensive to train. Researchers discovered that deep networks learn hierarchical feature representations (simple features like edges at the lowest layers with gradually more complex features at higher layers). Rather than training a new network from scratch each time, the lower layers of a trained network with generalized image features could be copied and transfered for use in another network with a different task. It soon became common practice to download a pre-trained deep network and quickly retrain it for the new task or add additional layers on top - vastly preferable to the expensive process of training a network from scratch. For many, the introduction of deep pre-trained language models in 2018 (ELMO, BERT, ULMFIT, Open-GPT, etc.) signals the same shift to transfer learning in NLP that computer vision saw.\n",
    "\n",
    "Let's get started!"
   ]
  },
  {
   "cell_type": "markdown",
   "metadata": {
    "id": "RX_ZDhicpHkV"
   },
   "source": [
    "# 1. Setup"
   ]
  },
  {
   "cell_type": "markdown",
   "metadata": {
    "id": "nSU7yERLP_66"
   },
   "source": [
    "## 1.1. Using Colab GPU for Training\n"
   ]
  },
  {
   "cell_type": "markdown",
   "metadata": {
    "id": "GI0iOY8zvZzL"
   },
   "source": [
    "\n",
    "Google Colab offers free GPUs and TPUs! Since we'll be training a large neural network it's best to take advantage of this (in this case we'll attach a GPU), otherwise training will take a very long time.\n",
    "\n",
    "A GPU can be added by going to the menu and selecting:\n",
    "\n",
    "`Edit 🡒 Notebook Settings 🡒 Hardware accelerator 🡒 (GPU)`\n",
    "\n",
    "Then run the following cell to confirm that the GPU is detected."
   ]
  },
  {
   "cell_type": "code",
   "execution_count": 1,
   "metadata": {},
   "outputs": [],
   "source": [
    "%run imports.py"
   ]
  },
  {
   "cell_type": "code",
   "execution_count": 2,
   "metadata": {
    "colab": {
     "base_uri": "https://localhost:8080/",
     "height": 52
    },
    "id": "oYsV4H8fCpZ-",
    "outputId": "cbe3f5ca-9b88-438d-e519-7283fc2f2be6"
   },
   "outputs": [
    {
     "name": "stdout",
     "output_type": "stream",
     "text": [
      "There are 1 GPU(s) available.\n",
      "We will use the GPU: GeForce GTX 1070\n"
     ]
    }
   ],
   "source": [
    "import torch\n",
    "\n",
    "# If there's a GPU available...\n",
    "if torch.cuda.is_available():    \n",
    "\n",
    "    # Tell PyTorch to use the GPU.    \n",
    "    device = torch.device(\"cuda\")\n",
    "\n",
    "    print('There are %d GPU(s) available.' % torch.cuda.device_count())\n",
    "\n",
    "    print('We will use the GPU:', torch.cuda.get_device_name(0))\n",
    "\n",
    "# If not...\n",
    "else:\n",
    "    print('No GPU available, using the CPU instead.')\n",
    "    device = torch.device(\"cpu\")"
   ]
  },
  {
   "cell_type": "code",
   "execution_count": 3,
   "metadata": {},
   "outputs": [],
   "source": [
    "df = pd.read_csv(\"data/train-balanced-sarcasm.csv\")[['label', 'comment']].dropna().sample(100000)"
   ]
  },
  {
   "cell_type": "markdown",
   "metadata": {
    "id": "oQUy9Tat2EF_"
   },
   "source": [
    "## 2.2. Parse"
   ]
  },
  {
   "cell_type": "markdown",
   "metadata": {
    "id": "xeyVCXT31EZQ"
   },
   "source": [
    "We can see from the file names that both `tokenized` and `raw` versions of the data are available. \n",
    "\n",
    "We can't use the pre-tokenized version because, in order to apply the pre-trained BERT, we *must* use the tokenizer provided by the model. This is because (1) the model has a specific, fixed vocabulary and (2) the BERT tokenizer has a particular way of handling out-of-vocabulary words."
   ]
  },
  {
   "cell_type": "markdown",
   "metadata": {
    "id": "MYWzeGSY2xh3"
   },
   "source": [
    "We'll use pandas to parse the \"in-domain\" training set and look at a few of its properties and data points."
   ]
  },
  {
   "cell_type": "markdown",
   "metadata": {
    "id": "kfWzpPi92UAH"
   },
   "source": [
    "The two properties we actually care about are the the `sentence` and its `label`, which is referred to as the \"acceptibility judgment\" (0=unacceptable, 1=acceptable)."
   ]
  },
  {
   "cell_type": "markdown",
   "metadata": {
    "id": "H_LpQfzCn9_o"
   },
   "source": [
    "Here are five sentences which are labeled as not grammatically acceptible. Note how much more difficult this task is than something like sentiment analysis!"
   ]
  },
  {
   "cell_type": "code",
   "execution_count": 4,
   "metadata": {
    "colab": {
     "base_uri": "https://localhost:8080/",
     "height": 202
    },
    "id": "blqIvQaQncdJ",
    "outputId": "61786411-d069-4943-d021-57abf1ec422c"
   },
   "outputs": [
    {
     "data": {
      "text/html": [
       "<div>\n",
       "<style scoped>\n",
       "    .dataframe tbody tr th:only-of-type {\n",
       "        vertical-align: middle;\n",
       "    }\n",
       "\n",
       "    .dataframe tbody tr th {\n",
       "        vertical-align: top;\n",
       "    }\n",
       "\n",
       "    .dataframe thead th {\n",
       "        text-align: right;\n",
       "    }\n",
       "</style>\n",
       "<table border=\"1\" class=\"dataframe\">\n",
       "  <thead>\n",
       "    <tr style=\"text-align: right;\">\n",
       "      <th></th>\n",
       "      <th>comment</th>\n",
       "      <th>label</th>\n",
       "    </tr>\n",
       "  </thead>\n",
       "  <tbody>\n",
       "    <tr>\n",
       "      <th>632159</th>\n",
       "      <td>I wonder what OS this potato PC runs on.</td>\n",
       "      <td>0</td>\n",
       "    </tr>\n",
       "    <tr>\n",
       "      <th>193805</th>\n",
       "      <td>Lol okay.</td>\n",
       "      <td>0</td>\n",
       "    </tr>\n",
       "    <tr>\n",
       "      <th>59830</th>\n",
       "      <td>The quieter one</td>\n",
       "      <td>0</td>\n",
       "    </tr>\n",
       "    <tr>\n",
       "      <th>863742</th>\n",
       "      <td>a saw is in fact a power tool...</td>\n",
       "      <td>0</td>\n",
       "    </tr>\n",
       "    <tr>\n",
       "      <th>921626</th>\n",
       "      <td>1 upvote for you for pointing it out.</td>\n",
       "      <td>0</td>\n",
       "    </tr>\n",
       "  </tbody>\n",
       "</table>\n",
       "</div>"
      ],
      "text/plain": [
       "                                         comment  label\n",
       "632159  I wonder what OS this potato PC runs on.      0\n",
       "193805                                 Lol okay.      0\n",
       "59830                            The quieter one      0\n",
       "863742          a saw is in fact a power tool...      0\n",
       "921626     1 upvote for you for pointing it out.      0"
      ]
     },
     "execution_count": 4,
     "metadata": {},
     "output_type": "execute_result"
    }
   ],
   "source": [
    "df.loc[df.label == 0].sample(5)[['comment', 'label']]"
   ]
  },
  {
   "cell_type": "markdown",
   "metadata": {
    "id": "4SMZ5T5Imhlx"
   },
   "source": [
    "\n",
    "\n",
    "Let's extract the sentences and labels of our training set as numpy ndarrays."
   ]
  },
  {
   "cell_type": "code",
   "execution_count": 5,
   "metadata": {
    "id": "GuE5BqICAne2"
   },
   "outputs": [],
   "source": [
    "# Get the lists of sentences and their labels.\n",
    "def max_len_filter(x):\n",
    "    if len(x) < 512:\n",
    "        return x\n",
    "    else:\n",
    "        return np.nan\n",
    "\n",
    "max_len_sentences = df.loc[df['comment'].str.len() < 512]\n",
    "\n",
    "sentences = max_len_sentences.comment.values\n",
    "labels = max_len_sentences.label.values"
   ]
  },
  {
   "cell_type": "markdown",
   "metadata": {
    "id": "ex5O1eV-Pfct"
   },
   "source": [
    "# 3. Tokenization & Input Formatting\n",
    "\n",
    "In this section, we'll transform our dataset into the format that BERT can be trained on."
   ]
  },
  {
   "cell_type": "markdown",
   "metadata": {
    "id": "-8kEDRvShcU5"
   },
   "source": [
    "## 3.1. BERT Tokenizer"
   ]
  },
  {
   "cell_type": "markdown",
   "metadata": {
    "id": "bWOPOyWghJp2"
   },
   "source": [
    "\n",
    "To feed our text to BERT, it must be split into tokens, and then these tokens must be mapped to their index in the tokenizer vocabulary.\n",
    "\n",
    "The tokenization must be performed by the tokenizer included with BERT--the below cell will download this for us. We'll be using the \"uncased\" version here.\n"
   ]
  },
  {
   "cell_type": "code",
   "execution_count": 7,
   "metadata": {
    "colab": {
     "base_uri": "https://localhost:8080/",
     "height": 84,
     "referenced_widgets": [
      "c245b5ee1b564034a6c80ee2269daa82",
      "28a83bb4a458450fbbe5f2ad9600e8b3",
      "474afad658004872a0c4e0d94f3d8f21",
      "6bef06bb83984db7a793dfcb930901d3",
      "9f3f0984b6af48729bacba04f3f7ea11",
      "b6b6c6c411a44ab88a2b1c260be8e8d2",
      "8ff4ca57b55a47fbadde1d61868ac65b",
      "3ee2215ae7734487825c7e554dda5646"
     ]
    },
    "id": "Z474sSC6oe7A",
    "outputId": "67a34ab4-a607-4c1b-f2af-f8afd4590bb6"
   },
   "outputs": [
    {
     "name": "stdout",
     "output_type": "stream",
     "text": [
      "Loading BERT tokenizer...\n"
     ]
    },
    {
     "data": {
      "application/vnd.jupyter.widget-view+json": {
       "model_id": "c6f5c83b4caf422baef7a369d23398e1",
       "version_major": 2,
       "version_minor": 0
      },
      "text/plain": [
       "HBox(children=(FloatProgress(value=0.0, description='Downloading', max=466062.0, style=ProgressStyle(descripti…"
      ]
     },
     "metadata": {},
     "output_type": "display_data"
    },
    {
     "name": "stdout",
     "output_type": "stream",
     "text": [
      "\n"
     ]
    }
   ],
   "source": [
    "from transformers import DistilBertTokenizer\n",
    "\n",
    "# Load the BERT tokenizer.\n",
    "print('Loading BERT tokenizer...')\n",
    "tokenizer = DistilBertTokenizer.from_pretrained('bert-base-uncased', do_lower_case=True)"
   ]
  },
  {
   "cell_type": "markdown",
   "metadata": {
    "id": "dFzmtleW6KmJ"
   },
   "source": [
    "Let's apply the tokenizer to one sentence just to see the output.\n"
   ]
  },
  {
   "cell_type": "code",
   "execution_count": 8,
   "metadata": {
    "colab": {
     "base_uri": "https://localhost:8080/",
     "height": 89
    },
    "id": "dLIbudgfh6F0",
    "outputId": "6089066f-dea9-48fe-fa6d-c78d86b336c3"
   },
   "outputs": [
    {
     "name": "stdout",
     "output_type": "stream",
     "text": [
      " Original:  Philip Glass?\n",
      "Tokenized:  ['philip', 'glass', '?']\n",
      "Token IDs:  [5170, 3221, 1029]\n"
     ]
    }
   ],
   "source": [
    "# Print the original sentence.\n",
    "print(' Original: ', sentences[0])\n",
    "\n",
    "# Print the sentence split into tokens.\n",
    "print('Tokenized: ', tokenizer.tokenize(sentences[0]))\n",
    "\n",
    "# Print the sentence mapped to token ids.\n",
    "print('Token IDs: ', tokenizer.convert_tokens_to_ids(tokenizer.tokenize(sentences[0])))"
   ]
  },
  {
   "cell_type": "markdown",
   "metadata": {
    "id": "WeNIc4auFUdF"
   },
   "source": [
    "When we actually convert all of our sentences, we'll use the `tokenize.encode` function to handle both steps, rather than calling `tokenize` and `convert_tokens_to_ids` separately. \n",
    "\n",
    "Before we can do that, though, we need to talk about some of BERT's formatting requirements."
   ]
  },
  {
   "cell_type": "markdown",
   "metadata": {
    "id": "viKGCCh8izww"
   },
   "source": [
    "## 3.2. Required Formatting"
   ]
  },
  {
   "cell_type": "markdown",
   "metadata": {
    "id": "yDcqNlvVhL5W"
   },
   "source": [
    "The above code left out a few required formatting steps that we'll look at here.\n",
    "\n",
    "*Side Note: The input format to BERT seems \"over-specified\" to me... We are required to give it a number of pieces of information which seem redundant, or like they could easily be inferred from the data without us explicity providing it. But it is what it is, and I suspect it will make more sense once I have a deeper understanding of the BERT internals.*\n",
    "\n",
    "We are required to:\n",
    "1. Add special tokens to the start and end of each sentence.\n",
    "2. Pad & truncate all sentences to a single constant length.\n",
    "3. Explicitly differentiate real tokens from padding tokens with the \"attention mask\".\n",
    "\n"
   ]
  },
  {
   "cell_type": "markdown",
   "metadata": {
    "id": "V6mceWWOjZnw"
   },
   "source": [
    "### Special Tokens\n"
   ]
  },
  {
   "cell_type": "markdown",
   "metadata": {
    "id": "Ykk0P9JiKtVe"
   },
   "source": [
    "\n",
    "**`[SEP]`**\n",
    "\n",
    "At the end of every sentence, we need to append the special `[SEP]` token. \n",
    "\n",
    "This token is an artifact of two-sentence tasks, where BERT is given two separate sentences and asked to determine something (e.g., can the answer to the question in sentence A be found in sentence B?). \n",
    "\n",
    "I am not certain yet why the token is still required when we have only single-sentence input, but it is!\n"
   ]
  },
  {
   "cell_type": "markdown",
   "metadata": {
    "id": "86C9objaKu8f"
   },
   "source": [
    "**`[CLS]`**\n",
    "\n",
    "For classification tasks, we must prepend the special `[CLS]` token to the beginning of every sentence.\n",
    "\n",
    "This token has special significance. BERT consists of 12 Transformer layers. Each transformer takes in a list of token embeddings, and produces the same number of embeddings on the output (but with the feature values changed, of course!).\n",
    "\n",
    "![Illustration of CLS token purpose](http://www.mccormickml.com/assets/BERT/CLS_token_500x606.png)\n",
    "\n",
    "On the output of the final (12th) transformer, *only the first embedding (corresponding to the [CLS] token) is used by the classifier*.\n",
    "\n",
    ">  \"The first token of every sequence is always a special classification token (`[CLS]`). The final hidden state\n",
    "corresponding to this token is used as the aggregate sequence representation for classification\n",
    "tasks.\" (from the [BERT paper](https://arxiv.org/pdf/1810.04805.pdf))\n",
    "\n",
    "I'm not sure why the authors took this strategy instead of some kind of pooling of all the final vectors, but I'm sure that if pooling were better they would have gone that route. \n",
    "\n",
    "Also, because BERT is trained to only use this [CLS] token for classification, we know that the model has been motivated to encode everything it needs for the classification step into that single 768-value embedding vector.\n",
    "\n"
   ]
  },
  {
   "cell_type": "markdown",
   "metadata": {
    "id": "u51v0kFxeteu"
   },
   "source": [
    "### Sentence Length & Attention Mask\n",
    "\n"
   ]
  },
  {
   "cell_type": "markdown",
   "metadata": {
    "id": "qPNuwqZVK3T6"
   },
   "source": [
    "The sentences in our dataset obviously have varying lengths, so how does BERT handle this?\n",
    "\n",
    "BERT has two constraints:\n",
    "1. All sentences must be padded or truncated to a single, fixed length.\n",
    "2. The maximum sentence length is 512 tokens.\n",
    "\n",
    "Padding is done with a special `[PAD]` token, which is at index 0 in the BERT vocabulary. The below illustration demonstrates padding out to a \"MAX_LEN\" of 8 tokens.\n",
    "\n",
    "<img src=\"http://www.mccormickml.com/assets/BERT/padding_and_mask.png\" width=\"600\">\n",
    "\n",
    "The \"Attention Mask\" is simply an array of 1s and 0s indicating which tokens are padding and which aren't (seems kind of redundant, doesn't it?! Again, I don't currently know why).\n",
    "\n",
    "I've experimented with running this notebook with two different values of MAX_LEN, and it impacted both the training speed and the  test set accuracy.\n",
    "\n",
    "With a Tesla K80 and:\n",
    "\n",
    "```\n",
    "MAX_LEN = 128  -->  Training epochs take ~5:28 each, score is 0.535\n",
    "MAX_LEN = 64   -->  Training epochs take ~2:57 each, score is 0.566\n",
    "```\n",
    "These results suggest to me that the padding tokens aren't simply skipped over--that they are in fact fed through the model and incorporated in the results (thereby impacting both model speed and accuracy). I'll have to dig into the architecture more to understand this.\n",
    "\n",
    "\n",
    "\n",
    "\n"
   ]
  },
  {
   "cell_type": "markdown",
   "metadata": {
    "id": "l6w8elb-58GJ"
   },
   "source": [
    "## 3.2. Sentences to IDs"
   ]
  },
  {
   "cell_type": "markdown",
   "metadata": {
    "id": "1M296yz577fV"
   },
   "source": [
    "The `tokenizer.encode` function combines multiple steps for us:\n",
    "1. Split the sentence into tokens.\n",
    "2. Add the special `[CLS]` and `[SEP]` tokens.\n",
    "3. Map the tokens to their IDs.\n",
    "\n",
    "Oddly, this function can perform truncating for us, but doesn't handle padding. "
   ]
  },
  {
   "cell_type": "code",
   "execution_count": 16,
   "metadata": {
    "colab": {
     "base_uri": "https://localhost:8080/",
     "height": 72
    },
    "id": "2bBdb3pt8LuQ",
    "outputId": "3e801684-e4f8-4e26-e0cd-a9024dabd969"
   },
   "outputs": [
    {
     "name": "stdout",
     "output_type": "stream",
     "text": [
      "Original:  Philip Glass?\n",
      "Token IDs: [101, 5170, 3221, 1029, 102]\n"
     ]
    }
   ],
   "source": [
    "# Tokenize all of the sentences and map the tokens to thier word IDs.\n",
    "input_ids = []\n",
    "\n",
    "# For every sentence...\n",
    "for sent in sentences:\n",
    "    # `encode` will:\n",
    "    #   (1) Tokenize the sentence.\n",
    "    #   (2) Prepend the `[CLS]` token to the start.\n",
    "    #   (3) Append the `[SEP]` token to the end.\n",
    "    #   (4) Map tokens to their IDs.\n",
    "    encoded_sent = tokenizer.encode(\n",
    "                        sent,                      # Sentence to encode.\n",
    "                        add_special_tokens = True, # Add '[CLS]' and '[SEP]'\n",
    "\n",
    "                        # This function also supports truncation and conversion\n",
    "                        # to pytorch tensors, but we need to do padding, so we\n",
    "                        # can't use these features :( .\n",
    "                        #max_length = 128,          # Truncate all sentences.\n",
    "                        #return_tensors = 'pt',     # Return pytorch tensors.\n",
    "                   )\n",
    "    \n",
    "    # Add the encoded sentence to the list.\n",
    "    input_ids.append(encoded_sent)\n",
    "\n",
    "# Print sentence 0, now as a list of IDs.\n",
    "print('Original: ', sentences[0])\n",
    "print('Token IDs:', input_ids[0])"
   ]
  },
  {
   "cell_type": "markdown",
   "metadata": {
    "id": "WhwCKszh6ych"
   },
   "source": [
    "## 3.3. Padding & Truncating"
   ]
  },
  {
   "cell_type": "markdown",
   "metadata": {
    "id": "xytsw1oIfnX0"
   },
   "source": [
    "Pad and truncate our sequences so that they all have the same length, `MAX_LEN`."
   ]
  },
  {
   "cell_type": "markdown",
   "metadata": {
    "id": "zqiWTDrn_nGB"
   },
   "source": [
    "First, what's the maximum sentence length in our dataset?"
   ]
  },
  {
   "cell_type": "code",
   "execution_count": 17,
   "metadata": {
    "colab": {
     "base_uri": "https://localhost:8080/",
     "height": 35
    },
    "id": "JhUZO9vc_l6T",
    "outputId": "5cf10568-1550-4d27-a4db-abe59cca1992"
   },
   "outputs": [
    {
     "name": "stdout",
     "output_type": "stream",
     "text": [
      "Max sentence length:  158\n"
     ]
    }
   ],
   "source": [
    "print('Max sentence length: ', max([len(sen) for sen in input_ids]))"
   ]
  },
  {
   "cell_type": "markdown",
   "metadata": {
    "id": "hp-54FcQ_p3h"
   },
   "source": [
    "Given that, let's choose MAX_LEN = 64 and apply the padding."
   ]
  },
  {
   "cell_type": "code",
   "execution_count": 18,
   "metadata": {
    "colab": {
     "base_uri": "https://localhost:8080/",
     "height": 139
    },
    "id": "Cp9BPRd1tMIo",
    "outputId": "81e338e9-167a-46f5-9b93-c61dddcde17b"
   },
   "outputs": [
    {
     "name": "stdout",
     "output_type": "stream",
     "text": [
      "\n",
      "Padding/truncating all sentences to 160 values...\n",
      "\n",
      "Padding token: \"[PAD]\", ID: 0\n",
      "\n",
      "Done.\n"
     ]
    }
   ],
   "source": [
    "# We'll borrow the `pad_sequences` utility function to do this.\n",
    "from keras.preprocessing.sequence import pad_sequences\n",
    "\n",
    "# Set the maximum sequence length.\n",
    "# I've chosen 64 somewhat arbitrarily. It's slightly larger than the\n",
    "# maximum training sentence length of 47...\n",
    "MAX_LEN = max([len(sen) for sen in input_ids]) + 2\n",
    "\n",
    "print('\\nPadding/truncating all sentences to %d values...' % MAX_LEN)\n",
    "\n",
    "print('\\nPadding token: \"{:}\", ID: {:}'.format(tokenizer.pad_token, tokenizer.pad_token_id))\n",
    "\n",
    "# Pad our input tokens with value 0.\n",
    "# \"post\" indicates that we want to pad and truncate at the end of the sequence,\n",
    "# as opposed to the beginning.\n",
    "input_ids = pad_sequences(input_ids, maxlen=MAX_LEN, dtype=\"long\", \n",
    "                          value=0, truncating=\"post\", padding=\"post\")\n",
    "\n",
    "print('\\nDone.')"
   ]
  },
  {
   "cell_type": "markdown",
   "metadata": {
    "id": "kDs-MYtYH8sL"
   },
   "source": [
    "## 3.4. Attention Masks"
   ]
  },
  {
   "cell_type": "markdown",
   "metadata": {
    "id": "KhGulL1pExCT"
   },
   "source": [
    "The attention mask simply makes it explicit which tokens are actual words versus which are padding. \n",
    "\n",
    "The BERT vocabulary does not use the ID 0, so if a token ID is 0, then it's padding, and otherwise it's a real token."
   ]
  },
  {
   "cell_type": "code",
   "execution_count": 19,
   "metadata": {
    "id": "cDoC24LeEv3N"
   },
   "outputs": [],
   "source": [
    "# Create attention masks\n",
    "attention_masks = []\n",
    "\n",
    "# For each sentence...\n",
    "for sent in input_ids:\n",
    "    \n",
    "    # Create the attention mask.\n",
    "    #   - If a token ID is 0, then it's padding, set the mask to 0.\n",
    "    #   - If a token ID is > 0, then it's a real token, set the mask to 1.\n",
    "    att_mask = [int(token_id > 0) for token_id in sent]\n",
    "    \n",
    "    # Store the attention mask for this sentence.\n",
    "    attention_masks.append(att_mask)"
   ]
  },
  {
   "cell_type": "markdown",
   "metadata": {
    "id": "aRp4O7D295d_"
   },
   "source": [
    "## 3.5. Training & Validation Split\n"
   ]
  },
  {
   "cell_type": "markdown",
   "metadata": {
    "id": "qu0ao7p8rb06"
   },
   "source": [
    "Divide up our training set to use 90% for training and 10% for validation."
   ]
  },
  {
   "cell_type": "code",
   "execution_count": 20,
   "metadata": {
    "id": "aFbE-UHvsb7-"
   },
   "outputs": [],
   "source": [
    "# Use train_test_split to split our data into train and validation sets for\n",
    "# training\n",
    "from sklearn.model_selection import train_test_split\n",
    "\n",
    "# Use 90% for training and 10% for validation.\n",
    "train_inputs, validation_inputs, train_labels, validation_labels = train_test_split(input_ids, labels, \n",
    "                                                            random_state=2018, test_size=0.1)\n",
    "# Do the same for the masks.\n",
    "train_masks, validation_masks, _, _ = train_test_split(attention_masks, labels,\n",
    "                                             random_state=2018, test_size=0.1)"
   ]
  },
  {
   "cell_type": "markdown",
   "metadata": {
    "id": "7LzSbTqW9_BR"
   },
   "source": [
    "## 3.6. Converting to PyTorch Data Types"
   ]
  },
  {
   "cell_type": "markdown",
   "metadata": {
    "id": "6p1uXczp-Je4"
   },
   "source": [
    "Our model expects PyTorch tensors rather than numpy.ndarrays, so convert all of our dataset variables."
   ]
  },
  {
   "cell_type": "code",
   "execution_count": 21,
   "metadata": {
    "id": "jw5K2A5Ko1RF"
   },
   "outputs": [],
   "source": [
    "# Convert all inputs and labels into torch tensors, the required datatype \n",
    "# for our model.\n",
    "train_inputs = torch.tensor(train_inputs).type(torch.LongTensor)\n",
    "validation_inputs = torch.tensor(validation_inputs).type(torch.LongTensor)\n",
    "\n",
    "train_labels = torch.tensor(train_labels)\n",
    "validation_labels = torch.tensor(validation_labels)\n",
    "\n",
    "train_masks = torch.tensor(train_masks)\n",
    "validation_masks = torch.tensor(validation_masks)"
   ]
  },
  {
   "cell_type": "markdown",
   "metadata": {
    "id": "dD9i6Z2pG-sN"
   },
   "source": [
    "We'll also create an iterator for our dataset using the torch DataLoader class. This helps save on memory during training because, unlike a for loop, with an iterator the entire dataset does not need to be loaded into memory."
   ]
  },
  {
   "cell_type": "code",
   "execution_count": 22,
   "metadata": {
    "id": "GEgLpFVlo1Z-"
   },
   "outputs": [],
   "source": [
    "from torch.utils.data import TensorDataset, DataLoader, RandomSampler, SequentialSampler\n",
    "\n",
    "# The DataLoader needs to know our batch size for training, so we specify it \n",
    "# here.\n",
    "# For fine-tuning BERT on a specific task, the authors recommend a batch size of\n",
    "# 16 or 32.\n",
    "\n",
    "batch_size = 8\n",
    "\n",
    "# Create the DataLoader for our training set.\n",
    "train_data = TensorDataset(train_inputs, train_masks, train_labels)\n",
    "train_sampler = RandomSampler(train_data)\n",
    "train_dataloader = DataLoader(train_data, sampler=train_sampler, batch_size=batch_size)\n",
    "\n",
    "# Create the DataLoader for our validation set.\n",
    "validation_data = TensorDataset(validation_inputs, validation_masks, validation_labels)\n",
    "validation_sampler = SequentialSampler(validation_data)\n",
    "validation_dataloader = DataLoader(validation_data, sampler=validation_sampler, batch_size=batch_size)\n"
   ]
  },
  {
   "cell_type": "markdown",
   "metadata": {
    "id": "8bwa6Rts-02-"
   },
   "source": [
    "# 4. Train Our Classification Model"
   ]
  },
  {
   "cell_type": "markdown",
   "metadata": {
    "id": "3xYQ3iLO08SX"
   },
   "source": [
    "Now that our input data is properly formatted, it's time to fine tune the BERT model. "
   ]
  },
  {
   "cell_type": "markdown",
   "metadata": {
    "id": "D6TKgyUzPIQc"
   },
   "source": [
    "## 4.1. BertForSequenceClassification"
   ]
  },
  {
   "cell_type": "markdown",
   "metadata": {
    "id": "1sjzRT1V0zwm"
   },
   "source": [
    "For this task, we first want to modify the pre-trained BERT model to give outputs for classification, and then we want to continue training the model on our dataset until that the entire model, end-to-end, is well-suited for our task. \n",
    "\n",
    "Thankfully, the huggingface pytorch implementation includes a set of interfaces designed for a variety of NLP tasks. Though these interfaces are all built on top of a trained BERT model, each has different top layers and output types designed to accomodate their specific NLP task.  \n",
    "\n",
    "Here is the current list of classes provided for fine-tuning:\n",
    "* BertModel\n",
    "* BertForPreTraining\n",
    "* BertForMaskedLM\n",
    "* BertForNextSentencePrediction\n",
    "* **BertForSequenceClassification** - The one we'll use.\n",
    "* BertForTokenClassification\n",
    "* BertForQuestionAnswering\n",
    "\n",
    "The documentation for these can be found under [here](https://huggingface.co/transformers/v2.2.0/model_doc/bert.html)."
   ]
  },
  {
   "cell_type": "markdown",
   "metadata": {
    "id": "BXYitPoE-cjH"
   },
   "source": [
    "\n",
    "\n",
    "We'll be using [BertForSequenceClassification](https://huggingface.co/transformers/v2.2.0/model_doc/bert.html#bertforsequenceclassification). This is the normal BERT model with an added single linear layer on top for classification that we will use as a sentence classifier. As we feed input data, the entire pre-trained BERT model and the additional untrained classification layer is trained on our specific task. \n"
   ]
  },
  {
   "cell_type": "markdown",
   "metadata": {
    "id": "WnQW9E-bBCRt"
   },
   "source": [
    "OK, let's load BERT! There are a few different pre-trained BERT models available. \"bert-base-uncased\" means the version that has only lowercase letters (\"uncased\") and is the smaller version of the two (\"base\" vs \"large\").\n",
    "\n",
    "The documentation for `from_pretrained` can be found [here](https://huggingface.co/transformers/v2.2.0/main_classes/model.html#transformers.PreTrainedModel.from_pretrained), with the additional parameters defined [here](https://huggingface.co/transformers/v2.2.0/main_classes/configuration.html#transformers.PretrainedConfig)."
   ]
  },
  {
   "cell_type": "code",
   "execution_count": 27,
   "metadata": {
    "colab": {
     "base_uri": "https://localhost:8080/",
     "height": 1000,
     "referenced_widgets": [
      "cc5c9f94b6594259863e8e9773a38709",
      "d19a7e6b4db040f798732ad0eaccd0fd",
      "a330c44811e140fa9f66f81c64a94b80",
      "aa0ce42ca15040b38a378d269d5e70f3",
      "dc8780c86a6e436f940ca9001ff7bf73",
      "89199719c2524f3f8f2800efae10cd3c",
      "ae4285ddf3204f9f914d4736187797fc",
      "ac3f4b71582743e99f06187d077a482d",
      "2a518fe0c37e47eaaeb5aff73c1d0d2c",
      "f89dd52490f44cf6bff7084d33781b31",
      "4112ddcdcd6a4a8ea262b9e6df20d559",
      "4289e54205c5401bb529bc1b3d8bc300",
      "08231e0a2cad41d3a1905a26b785babe",
      "be5c4ad6e9be4b2da85695844c7b3ac7",
      "f371bb1b8c3f45b186fa49bb7c79a429",
      "100c65bc29864e00923a7c348f6aaaa2"
     ]
    },
    "id": "gFsCTp_mporB",
    "outputId": "02fb6128-30ac-47e9-90d3-cb15b95c3f31"
   },
   "outputs": [
    {
     "data": {
      "application/vnd.jupyter.widget-view+json": {
       "model_id": "d5b387b2dadc4497896fd411b3753878",
       "version_major": 2,
       "version_minor": 0
      },
      "text/plain": [
       "HBox(children=(FloatProgress(value=0.0, description='Downloading', max=442.0, style=ProgressStyle(description_…"
      ]
     },
     "metadata": {},
     "output_type": "display_data"
    },
    {
     "name": "stdout",
     "output_type": "stream",
     "text": [
      "\n"
     ]
    },
    {
     "data": {
      "application/vnd.jupyter.widget-view+json": {
       "model_id": "052284b752e54eeb81b2ad7462043ccc",
       "version_major": 2,
       "version_minor": 0
      },
      "text/plain": [
       "HBox(children=(FloatProgress(value=0.0, description='Downloading', max=267967963.0, style=ProgressStyle(descri…"
      ]
     },
     "metadata": {},
     "output_type": "display_data"
    },
    {
     "name": "stdout",
     "output_type": "stream",
     "text": [
      "\n"
     ]
    },
    {
     "name": "stderr",
     "output_type": "stream",
     "text": [
      "Some weights of the model checkpoint at distilbert-base-uncased were not used when initializing DistilBertForSequenceClassification: ['vocab_transform.weight', 'vocab_transform.bias', 'vocab_layer_norm.weight', 'vocab_layer_norm.bias', 'vocab_projector.weight', 'vocab_projector.bias']\n",
      "- This IS expected if you are initializing DistilBertForSequenceClassification from the checkpoint of a model trained on another task or with another architecture (e.g. initializing a BertForSequenceClassification model from a BertForPretraining model).\n",
      "- This IS NOT expected if you are initializing DistilBertForSequenceClassification from the checkpoint of a model that you expect to be exactly identical (initializing a BertForSequenceClassification model from a BertForSequenceClassification model).\n",
      "Some weights of DistilBertForSequenceClassification were not initialized from the model checkpoint at distilbert-base-uncased and are newly initialized: ['pre_classifier.weight', 'pre_classifier.bias', 'classifier.weight', 'classifier.bias']\n",
      "You should probably TRAIN this model on a down-stream task to be able to use it for predictions and inference.\n"
     ]
    },
    {
     "data": {
      "text/plain": [
       "DistilBertForSequenceClassification(\n",
       "  (distilbert): DistilBertModel(\n",
       "    (embeddings): Embeddings(\n",
       "      (word_embeddings): Embedding(30522, 768, padding_idx=0)\n",
       "      (position_embeddings): Embedding(512, 768)\n",
       "      (LayerNorm): LayerNorm((768,), eps=1e-12, elementwise_affine=True)\n",
       "      (dropout): Dropout(p=0.1, inplace=False)\n",
       "    )\n",
       "    (transformer): Transformer(\n",
       "      (layer): ModuleList(\n",
       "        (0): TransformerBlock(\n",
       "          (attention): MultiHeadSelfAttention(\n",
       "            (dropout): Dropout(p=0.1, inplace=False)\n",
       "            (q_lin): Linear(in_features=768, out_features=768, bias=True)\n",
       "            (k_lin): Linear(in_features=768, out_features=768, bias=True)\n",
       "            (v_lin): Linear(in_features=768, out_features=768, bias=True)\n",
       "            (out_lin): Linear(in_features=768, out_features=768, bias=True)\n",
       "          )\n",
       "          (sa_layer_norm): LayerNorm((768,), eps=1e-12, elementwise_affine=True)\n",
       "          (ffn): FFN(\n",
       "            (dropout): Dropout(p=0.1, inplace=False)\n",
       "            (lin1): Linear(in_features=768, out_features=3072, bias=True)\n",
       "            (lin2): Linear(in_features=3072, out_features=768, bias=True)\n",
       "          )\n",
       "          (output_layer_norm): LayerNorm((768,), eps=1e-12, elementwise_affine=True)\n",
       "        )\n",
       "        (1): TransformerBlock(\n",
       "          (attention): MultiHeadSelfAttention(\n",
       "            (dropout): Dropout(p=0.1, inplace=False)\n",
       "            (q_lin): Linear(in_features=768, out_features=768, bias=True)\n",
       "            (k_lin): Linear(in_features=768, out_features=768, bias=True)\n",
       "            (v_lin): Linear(in_features=768, out_features=768, bias=True)\n",
       "            (out_lin): Linear(in_features=768, out_features=768, bias=True)\n",
       "          )\n",
       "          (sa_layer_norm): LayerNorm((768,), eps=1e-12, elementwise_affine=True)\n",
       "          (ffn): FFN(\n",
       "            (dropout): Dropout(p=0.1, inplace=False)\n",
       "            (lin1): Linear(in_features=768, out_features=3072, bias=True)\n",
       "            (lin2): Linear(in_features=3072, out_features=768, bias=True)\n",
       "          )\n",
       "          (output_layer_norm): LayerNorm((768,), eps=1e-12, elementwise_affine=True)\n",
       "        )\n",
       "        (2): TransformerBlock(\n",
       "          (attention): MultiHeadSelfAttention(\n",
       "            (dropout): Dropout(p=0.1, inplace=False)\n",
       "            (q_lin): Linear(in_features=768, out_features=768, bias=True)\n",
       "            (k_lin): Linear(in_features=768, out_features=768, bias=True)\n",
       "            (v_lin): Linear(in_features=768, out_features=768, bias=True)\n",
       "            (out_lin): Linear(in_features=768, out_features=768, bias=True)\n",
       "          )\n",
       "          (sa_layer_norm): LayerNorm((768,), eps=1e-12, elementwise_affine=True)\n",
       "          (ffn): FFN(\n",
       "            (dropout): Dropout(p=0.1, inplace=False)\n",
       "            (lin1): Linear(in_features=768, out_features=3072, bias=True)\n",
       "            (lin2): Linear(in_features=3072, out_features=768, bias=True)\n",
       "          )\n",
       "          (output_layer_norm): LayerNorm((768,), eps=1e-12, elementwise_affine=True)\n",
       "        )\n",
       "        (3): TransformerBlock(\n",
       "          (attention): MultiHeadSelfAttention(\n",
       "            (dropout): Dropout(p=0.1, inplace=False)\n",
       "            (q_lin): Linear(in_features=768, out_features=768, bias=True)\n",
       "            (k_lin): Linear(in_features=768, out_features=768, bias=True)\n",
       "            (v_lin): Linear(in_features=768, out_features=768, bias=True)\n",
       "            (out_lin): Linear(in_features=768, out_features=768, bias=True)\n",
       "          )\n",
       "          (sa_layer_norm): LayerNorm((768,), eps=1e-12, elementwise_affine=True)\n",
       "          (ffn): FFN(\n",
       "            (dropout): Dropout(p=0.1, inplace=False)\n",
       "            (lin1): Linear(in_features=768, out_features=3072, bias=True)\n",
       "            (lin2): Linear(in_features=3072, out_features=768, bias=True)\n",
       "          )\n",
       "          (output_layer_norm): LayerNorm((768,), eps=1e-12, elementwise_affine=True)\n",
       "        )\n",
       "        (4): TransformerBlock(\n",
       "          (attention): MultiHeadSelfAttention(\n",
       "            (dropout): Dropout(p=0.1, inplace=False)\n",
       "            (q_lin): Linear(in_features=768, out_features=768, bias=True)\n",
       "            (k_lin): Linear(in_features=768, out_features=768, bias=True)\n",
       "            (v_lin): Linear(in_features=768, out_features=768, bias=True)\n",
       "            (out_lin): Linear(in_features=768, out_features=768, bias=True)\n",
       "          )\n",
       "          (sa_layer_norm): LayerNorm((768,), eps=1e-12, elementwise_affine=True)\n",
       "          (ffn): FFN(\n",
       "            (dropout): Dropout(p=0.1, inplace=False)\n",
       "            (lin1): Linear(in_features=768, out_features=3072, bias=True)\n",
       "            (lin2): Linear(in_features=3072, out_features=768, bias=True)\n",
       "          )\n",
       "          (output_layer_norm): LayerNorm((768,), eps=1e-12, elementwise_affine=True)\n",
       "        )\n",
       "        (5): TransformerBlock(\n",
       "          (attention): MultiHeadSelfAttention(\n",
       "            (dropout): Dropout(p=0.1, inplace=False)\n",
       "            (q_lin): Linear(in_features=768, out_features=768, bias=True)\n",
       "            (k_lin): Linear(in_features=768, out_features=768, bias=True)\n",
       "            (v_lin): Linear(in_features=768, out_features=768, bias=True)\n",
       "            (out_lin): Linear(in_features=768, out_features=768, bias=True)\n",
       "          )\n",
       "          (sa_layer_norm): LayerNorm((768,), eps=1e-12, elementwise_affine=True)\n",
       "          (ffn): FFN(\n",
       "            (dropout): Dropout(p=0.1, inplace=False)\n",
       "            (lin1): Linear(in_features=768, out_features=3072, bias=True)\n",
       "            (lin2): Linear(in_features=3072, out_features=768, bias=True)\n",
       "          )\n",
       "          (output_layer_norm): LayerNorm((768,), eps=1e-12, elementwise_affine=True)\n",
       "        )\n",
       "      )\n",
       "    )\n",
       "  )\n",
       "  (pre_classifier): Linear(in_features=768, out_features=768, bias=True)\n",
       "  (classifier): Linear(in_features=768, out_features=2, bias=True)\n",
       "  (dropout): Dropout(p=0.2, inplace=False)\n",
       ")"
      ]
     },
     "execution_count": 27,
     "metadata": {},
     "output_type": "execute_result"
    }
   ],
   "source": [
    "from transformers import DistilBertForSequenceClassification, AdamW, DistilBertConfig\n",
    "\n",
    "# Load BertForSequenceClassification, the pretrained BERT model with a single \n",
    "# linear classification layer on top. \n",
    "model = DistilBertForSequenceClassification.from_pretrained(\n",
    "    \"distilbert-base-uncased\", # Use the 12-layer BERT model, with an uncased vocab.\n",
    "    num_labels = 2 # The number of output labels--2 for binary classification.\n",
    "\n",
    ")\n",
    "\n",
    "# Tell pytorch to run this model on the GPU.\n",
    "model.cuda()"
   ]
  },
  {
   "cell_type": "markdown",
   "metadata": {
    "id": "e0Jv6c7-HHDW"
   },
   "source": [
    "Just for curiosity's sake, we can browse all of the model's parameters by name here.\n",
    "\n",
    "In the below cell, I've printed out the names and dimensions of the weights for:\n",
    "\n",
    "1. The embedding layer.\n",
    "2. The first of the twelve transformers.\n",
    "3. The output layer.\n",
    "\n",
    "\n"
   ]
  },
  {
   "cell_type": "code",
   "execution_count": 29,
   "metadata": {
    "colab": {
     "base_uri": "https://localhost:8080/",
     "height": 624
    },
    "id": "8PIiVlDYCtSq",
    "outputId": "142adf6b-cf57-4059-8b41-4a2de17aa844"
   },
   "outputs": [
    {
     "name": "stdout",
     "output_type": "stream",
     "text": [
      "The DistilBERT model has 104 different named parameters.\n",
      "\n",
      "==== Embedding Layer ====\n",
      "\n",
      "distilbert.embeddings.word_embeddings.weight            (30522, 768)\n",
      "distilbert.embeddings.position_embeddings.weight          (512, 768)\n",
      "distilbert.embeddings.LayerNorm.weight                        (768,)\n",
      "distilbert.embeddings.LayerNorm.bias                          (768,)\n",
      "\n",
      "==== First Transformer ====\n",
      "\n",
      "distilbert.transformer.layer.0.attention.q_lin.weight     (768, 768)\n",
      "distilbert.transformer.layer.0.attention.q_lin.bias           (768,)\n",
      "distilbert.transformer.layer.0.attention.k_lin.weight     (768, 768)\n",
      "distilbert.transformer.layer.0.attention.k_lin.bias           (768,)\n",
      "distilbert.transformer.layer.0.attention.v_lin.weight     (768, 768)\n",
      "distilbert.transformer.layer.0.attention.v_lin.bias           (768,)\n",
      "distilbert.transformer.layer.0.attention.out_lin.weight   (768, 768)\n",
      "distilbert.transformer.layer.0.attention.out_lin.bias         (768,)\n",
      "distilbert.transformer.layer.0.sa_layer_norm.weight           (768,)\n",
      "distilbert.transformer.layer.0.sa_layer_norm.bias             (768,)\n",
      "distilbert.transformer.layer.0.ffn.lin1.weight           (3072, 768)\n",
      "distilbert.transformer.layer.0.ffn.lin1.bias                 (3072,)\n",
      "distilbert.transformer.layer.0.ffn.lin2.weight           (768, 3072)\n",
      "distilbert.transformer.layer.0.ffn.lin2.bias                  (768,)\n",
      "distilbert.transformer.layer.0.output_layer_norm.weight       (768,)\n",
      "distilbert.transformer.layer.0.output_layer_norm.bias         (768,)\n",
      "distilbert.transformer.layer.1.attention.q_lin.weight     (768, 768)\n",
      "\n",
      "==== Output Layer ====\n",
      "\n",
      "pre_classifier.weight                                     (768, 768)\n",
      "pre_classifier.bias                                           (768,)\n",
      "classifier.weight                                           (2, 768)\n",
      "classifier.bias                                                 (2,)\n"
     ]
    }
   ],
   "source": [
    "# Get all of the model's parameters as a list of tuples.\n",
    "params = list(model.named_parameters())\n",
    "\n",
    "print('The DistilBERT model has {:} different named parameters.\\n'.format(len(params)))\n",
    "\n",
    "print('==== Embedding Layer ====\\n')\n",
    "\n",
    "for p in params[0:4]:\n",
    "    print(\"{:<55} {:>12}\".format(p[0], str(tuple(p[1].size()))))\n",
    "\n",
    "print('\\n==== First Transformer ====\\n')\n",
    "\n",
    "for p in params[4:21]:\n",
    "    print(\"{:<55} {:>12}\".format(p[0], str(tuple(p[1].size()))))\n",
    "\n",
    "print('\\n==== Output Layer ====\\n')\n",
    "\n",
    "for p in params[-4:]:\n",
    "    print(\"{:<55} {:>12}\".format(p[0], str(tuple(p[1].size()))))"
   ]
  },
  {
   "cell_type": "markdown",
   "metadata": {
    "id": "qRWT-D4U_Pvx"
   },
   "source": [
    "## 4.2. Optimizer & Learning Rate Scheduler"
   ]
  },
  {
   "cell_type": "markdown",
   "metadata": {
    "id": "8o-VEBobKwHk"
   },
   "source": [
    "Now that we have our model loaded we need to grab the training hyperparameters from within the stored model.\n",
    "\n",
    "For the purposes of fine-tuning, the authors recommend choosing from the following values:\n",
    "- Batch size: 16, 32  (We chose 32 when creating our DataLoaders).\n",
    "- Learning rate (Adam): 5e-5, 3e-5, 2e-5  (We'll use 2e-5).\n",
    "- Number of epochs: 2, 3, 4  (We'll use 4).\n",
    "\n",
    "The epsilon parameter `eps = 1e-8` is \"a very small number to prevent any division by zero in the implementation\" (from [here](https://machinelearningmastery.com/adam-optimization-algorithm-for-deep-learning/)).\n",
    "\n",
    "You can find the creation of the AdamW optimizer in `run_glue.py` [here](https://github.com/huggingface/transformers/blob/5bfcd0485ece086ebcbed2d008813037968a9e58/examples/run_glue.py#L109)."
   ]
  },
  {
   "cell_type": "code",
   "execution_count": 30,
   "metadata": {
    "id": "GLs72DuMODJO"
   },
   "outputs": [],
   "source": [
    "# Note: AdamW is a class from the huggingface library (as opposed to pytorch) \n",
    "# I believe the 'W' stands for 'Weight Decay fix\"\n",
    "optimizer = AdamW(model.parameters(),\n",
    "                  lr = 2e-5, # args.learning_rate - default is 5e-5, our notebook had 2e-5\n",
    "                  eps = 1e-8 # args.adam_epsilon  - default is 1e-8.\n",
    "                )\n"
   ]
  },
  {
   "cell_type": "code",
   "execution_count": 31,
   "metadata": {
    "id": "-p0upAhhRiIx"
   },
   "outputs": [],
   "source": [
    "from transformers import get_linear_schedule_with_warmup\n",
    "\n",
    "# Number of training epochs (authors recommend between 2 and 4)\n",
    "epochs = 4\n",
    "\n",
    "# Total number of training steps is number of batches * number of epochs.\n",
    "total_steps = len(train_dataloader) * epochs\n",
    "\n",
    "# Create the learning rate scheduler.\n",
    "scheduler = get_linear_schedule_with_warmup(optimizer, \n",
    "                  \n",
    "                                            num_warmup_steps = 0, # Default value in run_glue.py\n",
    "                                            num_training_steps = total_steps)"
   ]
  },
  {
   "cell_type": "markdown",
   "metadata": {
    "id": "RqfmWwUR_Sox"
   },
   "source": [
    "## 4.3. Training Loop"
   ]
  },
  {
   "cell_type": "markdown",
   "metadata": {
    "id": "_QXZhFb4LnV5"
   },
   "source": [
    "Below is our training loop. There's a lot going on, but fundamentally for each pass in our loop we have a trianing phase and a validation phase. At each pass we need to:\n",
    "\n",
    "Training loop:\n",
    "- Unpack our data inputs and labels\n",
    "- Load data onto the GPU for acceleration\n",
    "- Clear out the gradients calculated in the previous pass. \n",
    "    - In pytorch the gradients accumulate by default (useful for things like RNNs) unless you explicitly clear them out.\n",
    "- Forward pass (feed input data through the network)\n",
    "- Backward pass (backpropagation)\n",
    "- Tell the network to update parameters with optimizer.step()\n",
    "- Track variables for monitoring progress\n",
    "\n",
    "Evalution loop:\n",
    "- Unpack our data inputs and labels\n",
    "- Load data onto the GPU for acceleration\n",
    "- Forward pass (feed input data through the network)\n",
    "- Compute loss on our validation data and track variables for monitoring progress\n",
    "\n",
    "So please read carefully through the comments to get an understanding of what's happening. If you're unfamiliar with pytorch a quick look at some of their [beginner tutorials](https://pytorch.org/tutorials/beginner/blitz/cifar10_tutorial.html#sphx-glr-beginner-blitz-cifar10-tutorial-py) will help show you that training loops really involve only a few simple steps; the rest is usually just decoration and logging.  "
   ]
  },
  {
   "cell_type": "markdown",
   "metadata": {
    "id": "pE5B99H5H2-W"
   },
   "source": [
    "Define a helper function for calculating accuracy."
   ]
  },
  {
   "cell_type": "code",
   "execution_count": 32,
   "metadata": {
    "id": "9cQNvaZ9bnyy"
   },
   "outputs": [],
   "source": [
    "import numpy as np\n",
    "\n",
    "# Function to calculate the accuracy of our predictions vs labels\n",
    "def flat_accuracy(preds, labels):\n",
    "    pred_flat = np.argmax(preds, axis=1).flatten()\n",
    "    labels_flat = labels.flatten()\n",
    "    return np.sum(pred_flat == labels_flat) / len(labels_flat)"
   ]
  },
  {
   "cell_type": "markdown",
   "metadata": {
    "id": "KNhRtWPXH9C3"
   },
   "source": [
    "Helper function for formatting elapsed times.\n"
   ]
  },
  {
   "cell_type": "code",
   "execution_count": 33,
   "metadata": {
    "id": "gpt6tR83keZD"
   },
   "outputs": [],
   "source": [
    "import time\n",
    "import datetime\n",
    "\n",
    "def format_time(elapsed):\n",
    "    '''\n",
    "    Takes a time in seconds and returns a string hh:mm:ss\n",
    "    '''\n",
    "    # Round to the nearest second.\n",
    "    elapsed_rounded = int(round((elapsed)))\n",
    "    \n",
    "    # Format as hh:mm:ss\n",
    "    return str(datetime.timedelta(seconds=elapsed_rounded))\n"
   ]
  },
  {
   "cell_type": "markdown",
   "metadata": {
    "id": "cfNIhN19te3N"
   },
   "source": [
    "We're ready to kick off the training!"
   ]
  },
  {
   "cell_type": "code",
   "execution_count": 40,
   "metadata": {
    "colab": {
     "base_uri": "https://localhost:8080/",
     "height": 1000
    },
    "id": "6J-FYdx6nFE_",
    "outputId": "71d66aec-105d-4cd2-defc-a8836947c64e"
   },
   "outputs": [
    {
     "name": "stdout",
     "output_type": "stream",
     "text": [
      "\n",
      "======== Epoch 1 / 4 ========\n",
      "Training...\n",
      "  Batch    40  of  11,247.    Elapsed: 0:00:05.\n",
      "  Batch    80  of  11,247.    Elapsed: 0:00:10.\n",
      "  Batch   120  of  11,247.    Elapsed: 0:00:15.\n",
      "  Batch   160  of  11,247.    Elapsed: 0:00:20.\n",
      "  Batch   200  of  11,247.    Elapsed: 0:00:25.\n",
      "  Batch   240  of  11,247.    Elapsed: 0:00:30.\n",
      "  Batch   280  of  11,247.    Elapsed: 0:00:35.\n",
      "  Batch   320  of  11,247.    Elapsed: 0:00:40.\n",
      "  Batch   360  of  11,247.    Elapsed: 0:00:45.\n",
      "  Batch   400  of  11,247.    Elapsed: 0:00:50.\n",
      "  Batch   440  of  11,247.    Elapsed: 0:00:55.\n",
      "  Batch   480  of  11,247.    Elapsed: 0:01:00.\n",
      "  Batch   520  of  11,247.    Elapsed: 0:01:05.\n",
      "  Batch   560  of  11,247.    Elapsed: 0:01:10.\n",
      "  Batch   600  of  11,247.    Elapsed: 0:01:15.\n",
      "  Batch   640  of  11,247.    Elapsed: 0:01:20.\n",
      "  Batch   680  of  11,247.    Elapsed: 0:01:25.\n",
      "  Batch   720  of  11,247.    Elapsed: 0:01:30.\n",
      "  Batch   760  of  11,247.    Elapsed: 0:01:35.\n",
      "  Batch   800  of  11,247.    Elapsed: 0:01:40.\n",
      "  Batch   840  of  11,247.    Elapsed: 0:01:45.\n",
      "  Batch   880  of  11,247.    Elapsed: 0:01:50.\n",
      "  Batch   920  of  11,247.    Elapsed: 0:01:55.\n",
      "  Batch   960  of  11,247.    Elapsed: 0:02:00.\n",
      "  Batch 1,000  of  11,247.    Elapsed: 0:02:05.\n",
      "  Batch 1,040  of  11,247.    Elapsed: 0:02:09.\n",
      "  Batch 1,080  of  11,247.    Elapsed: 0:02:14.\n",
      "  Batch 1,120  of  11,247.    Elapsed: 0:02:19.\n",
      "  Batch 1,160  of  11,247.    Elapsed: 0:02:24.\n",
      "  Batch 1,200  of  11,247.    Elapsed: 0:02:29.\n",
      "  Batch 1,240  of  11,247.    Elapsed: 0:02:34.\n",
      "  Batch 1,280  of  11,247.    Elapsed: 0:02:39.\n",
      "  Batch 1,320  of  11,247.    Elapsed: 0:02:44.\n",
      "  Batch 1,360  of  11,247.    Elapsed: 0:02:49.\n",
      "  Batch 1,400  of  11,247.    Elapsed: 0:02:54.\n",
      "  Batch 1,440  of  11,247.    Elapsed: 0:02:59.\n",
      "  Batch 1,480  of  11,247.    Elapsed: 0:03:04.\n",
      "  Batch 1,520  of  11,247.    Elapsed: 0:03:09.\n",
      "  Batch 1,560  of  11,247.    Elapsed: 0:03:14.\n",
      "  Batch 1,600  of  11,247.    Elapsed: 0:03:19.\n",
      "  Batch 1,640  of  11,247.    Elapsed: 0:03:24.\n",
      "  Batch 1,680  of  11,247.    Elapsed: 0:03:29.\n",
      "  Batch 1,720  of  11,247.    Elapsed: 0:03:34.\n",
      "  Batch 1,760  of  11,247.    Elapsed: 0:03:39.\n",
      "  Batch 1,800  of  11,247.    Elapsed: 0:03:44.\n",
      "  Batch 1,840  of  11,247.    Elapsed: 0:03:49.\n",
      "  Batch 1,880  of  11,247.    Elapsed: 0:03:54.\n",
      "  Batch 1,920  of  11,247.    Elapsed: 0:03:59.\n",
      "  Batch 1,960  of  11,247.    Elapsed: 0:04:04.\n",
      "  Batch 2,000  of  11,247.    Elapsed: 0:04:09.\n",
      "  Batch 2,040  of  11,247.    Elapsed: 0:04:14.\n",
      "  Batch 2,080  of  11,247.    Elapsed: 0:04:19.\n",
      "  Batch 2,120  of  11,247.    Elapsed: 0:04:23.\n",
      "  Batch 2,160  of  11,247.    Elapsed: 0:04:28.\n",
      "  Batch 2,200  of  11,247.    Elapsed: 0:04:33.\n",
      "  Batch 2,240  of  11,247.    Elapsed: 0:04:38.\n",
      "  Batch 2,280  of  11,247.    Elapsed: 0:04:43.\n",
      "  Batch 2,320  of  11,247.    Elapsed: 0:04:48.\n",
      "  Batch 2,360  of  11,247.    Elapsed: 0:04:53.\n",
      "  Batch 2,400  of  11,247.    Elapsed: 0:04:58.\n",
      "  Batch 2,440  of  11,247.    Elapsed: 0:05:03.\n",
      "  Batch 2,480  of  11,247.    Elapsed: 0:05:08.\n",
      "  Batch 2,520  of  11,247.    Elapsed: 0:05:13.\n",
      "  Batch 2,560  of  11,247.    Elapsed: 0:05:18.\n",
      "  Batch 2,600  of  11,247.    Elapsed: 0:05:23.\n",
      "  Batch 2,640  of  11,247.    Elapsed: 0:05:28.\n",
      "  Batch 2,680  of  11,247.    Elapsed: 0:05:33.\n",
      "  Batch 2,720  of  11,247.    Elapsed: 0:05:38.\n",
      "  Batch 2,760  of  11,247.    Elapsed: 0:05:43.\n",
      "  Batch 2,800  of  11,247.    Elapsed: 0:05:48.\n",
      "  Batch 2,840  of  11,247.    Elapsed: 0:05:53.\n",
      "  Batch 2,880  of  11,247.    Elapsed: 0:05:57.\n",
      "  Batch 2,920  of  11,247.    Elapsed: 0:06:02.\n",
      "  Batch 2,960  of  11,247.    Elapsed: 0:06:07.\n",
      "  Batch 3,000  of  11,247.    Elapsed: 0:06:12.\n",
      "  Batch 3,040  of  11,247.    Elapsed: 0:06:17.\n",
      "  Batch 3,080  of  11,247.    Elapsed: 0:06:22.\n",
      "  Batch 3,120  of  11,247.    Elapsed: 0:06:27.\n",
      "  Batch 3,160  of  11,247.    Elapsed: 0:06:32.\n",
      "  Batch 3,200  of  11,247.    Elapsed: 0:06:37.\n",
      "  Batch 3,240  of  11,247.    Elapsed: 0:06:42.\n",
      "  Batch 3,280  of  11,247.    Elapsed: 0:06:47.\n",
      "  Batch 3,320  of  11,247.    Elapsed: 0:06:52.\n",
      "  Batch 3,360  of  11,247.    Elapsed: 0:06:57.\n",
      "  Batch 3,400  of  11,247.    Elapsed: 0:07:02.\n",
      "  Batch 3,440  of  11,247.    Elapsed: 0:07:07.\n",
      "  Batch 3,480  of  11,247.    Elapsed: 0:07:12.\n",
      "  Batch 3,520  of  11,247.    Elapsed: 0:07:17.\n",
      "  Batch 3,560  of  11,247.    Elapsed: 0:07:22.\n",
      "  Batch 3,600  of  11,247.    Elapsed: 0:07:27.\n",
      "  Batch 3,640  of  11,247.    Elapsed: 0:07:32.\n",
      "  Batch 3,680  of  11,247.    Elapsed: 0:07:37.\n",
      "  Batch 3,720  of  11,247.    Elapsed: 0:07:42.\n",
      "  Batch 3,760  of  11,247.    Elapsed: 0:07:47.\n",
      "  Batch 3,800  of  11,247.    Elapsed: 0:07:52.\n",
      "  Batch 3,840  of  11,247.    Elapsed: 0:07:57.\n",
      "  Batch 3,880  of  11,247.    Elapsed: 0:08:02.\n",
      "  Batch 3,920  of  11,247.    Elapsed: 0:08:07.\n",
      "  Batch 3,960  of  11,247.    Elapsed: 0:08:12.\n",
      "  Batch 4,000  of  11,247.    Elapsed: 0:08:17.\n",
      "  Batch 4,040  of  11,247.    Elapsed: 0:08:22.\n",
      "  Batch 4,080  of  11,247.    Elapsed: 0:08:26.\n",
      "  Batch 4,120  of  11,247.    Elapsed: 0:08:31.\n",
      "  Batch 4,160  of  11,247.    Elapsed: 0:08:36.\n",
      "  Batch 4,200  of  11,247.    Elapsed: 0:08:41.\n",
      "  Batch 4,240  of  11,247.    Elapsed: 0:08:46.\n",
      "  Batch 4,280  of  11,247.    Elapsed: 0:08:51.\n",
      "  Batch 4,320  of  11,247.    Elapsed: 0:08:56.\n",
      "  Batch 4,360  of  11,247.    Elapsed: 0:09:01.\n",
      "  Batch 4,400  of  11,247.    Elapsed: 0:09:06.\n",
      "  Batch 4,440  of  11,247.    Elapsed: 0:09:11.\n",
      "  Batch 4,480  of  11,247.    Elapsed: 0:09:16.\n",
      "  Batch 4,520  of  11,247.    Elapsed: 0:09:21.\n",
      "  Batch 4,560  of  11,247.    Elapsed: 0:09:26.\n",
      "  Batch 4,600  of  11,247.    Elapsed: 0:09:31.\n",
      "  Batch 4,640  of  11,247.    Elapsed: 0:09:36.\n",
      "  Batch 4,680  of  11,247.    Elapsed: 0:09:41.\n",
      "  Batch 4,720  of  11,247.    Elapsed: 0:09:46.\n",
      "  Batch 4,760  of  11,247.    Elapsed: 0:09:51.\n",
      "  Batch 4,800  of  11,247.    Elapsed: 0:09:56.\n",
      "  Batch 4,840  of  11,247.    Elapsed: 0:10:01.\n",
      "  Batch 4,880  of  11,247.    Elapsed: 0:10:06.\n",
      "  Batch 4,920  of  11,247.    Elapsed: 0:10:11.\n",
      "  Batch 4,960  of  11,247.    Elapsed: 0:10:16.\n",
      "  Batch 5,000  of  11,247.    Elapsed: 0:10:21.\n",
      "  Batch 5,040  of  11,247.    Elapsed: 0:10:26.\n",
      "  Batch 5,080  of  11,247.    Elapsed: 0:10:31.\n",
      "  Batch 5,120  of  11,247.    Elapsed: 0:10:36.\n",
      "  Batch 5,160  of  11,247.    Elapsed: 0:10:41.\n",
      "  Batch 5,200  of  11,247.    Elapsed: 0:10:46.\n",
      "  Batch 5,240  of  11,247.    Elapsed: 0:10:51.\n",
      "  Batch 5,280  of  11,247.    Elapsed: 0:10:56.\n",
      "  Batch 5,320  of  11,247.    Elapsed: 0:11:01.\n",
      "  Batch 5,360  of  11,247.    Elapsed: 0:11:06.\n",
      "  Batch 5,400  of  11,247.    Elapsed: 0:11:11.\n",
      "  Batch 5,440  of  11,247.    Elapsed: 0:11:16.\n",
      "  Batch 5,480  of  11,247.    Elapsed: 0:11:21.\n",
      "  Batch 5,520  of  11,247.    Elapsed: 0:11:26.\n",
      "  Batch 5,560  of  11,247.    Elapsed: 0:11:31.\n",
      "  Batch 5,600  of  11,247.    Elapsed: 0:11:36.\n",
      "  Batch 5,640  of  11,247.    Elapsed: 0:11:41.\n",
      "  Batch 5,680  of  11,247.    Elapsed: 0:11:45.\n",
      "  Batch 5,720  of  11,247.    Elapsed: 0:11:50.\n",
      "  Batch 5,760  of  11,247.    Elapsed: 0:11:55.\n",
      "  Batch 5,800  of  11,247.    Elapsed: 0:12:00.\n",
      "  Batch 5,840  of  11,247.    Elapsed: 0:12:05.\n",
      "  Batch 5,880  of  11,247.    Elapsed: 0:12:10.\n",
      "  Batch 5,920  of  11,247.    Elapsed: 0:12:15.\n",
      "  Batch 5,960  of  11,247.    Elapsed: 0:12:20.\n",
      "  Batch 6,000  of  11,247.    Elapsed: 0:12:25.\n",
      "  Batch 6,040  of  11,247.    Elapsed: 0:12:30.\n",
      "  Batch 6,080  of  11,247.    Elapsed: 0:12:35.\n",
      "  Batch 6,120  of  11,247.    Elapsed: 0:12:40.\n",
      "  Batch 6,160  of  11,247.    Elapsed: 0:12:45.\n",
      "  Batch 6,200  of  11,247.    Elapsed: 0:12:50.\n",
      "  Batch 6,240  of  11,247.    Elapsed: 0:12:55.\n",
      "  Batch 6,280  of  11,247.    Elapsed: 0:13:00.\n",
      "  Batch 6,320  of  11,247.    Elapsed: 0:13:05.\n",
      "  Batch 6,360  of  11,247.    Elapsed: 0:13:10.\n",
      "  Batch 6,400  of  11,247.    Elapsed: 0:13:15.\n",
      "  Batch 6,440  of  11,247.    Elapsed: 0:13:20.\n",
      "  Batch 6,480  of  11,247.    Elapsed: 0:13:25.\n",
      "  Batch 6,520  of  11,247.    Elapsed: 0:13:30.\n",
      "  Batch 6,560  of  11,247.    Elapsed: 0:13:35.\n",
      "  Batch 6,600  of  11,247.    Elapsed: 0:13:40.\n",
      "  Batch 6,640  of  11,247.    Elapsed: 0:13:45.\n",
      "  Batch 6,680  of  11,247.    Elapsed: 0:13:50.\n",
      "  Batch 6,720  of  11,247.    Elapsed: 0:13:55.\n",
      "  Batch 6,760  of  11,247.    Elapsed: 0:14:00.\n",
      "  Batch 6,800  of  11,247.    Elapsed: 0:14:04.\n",
      "  Batch 6,840  of  11,247.    Elapsed: 0:14:09.\n",
      "  Batch 6,880  of  11,247.    Elapsed: 0:14:14.\n",
      "  Batch 6,920  of  11,247.    Elapsed: 0:14:19.\n",
      "  Batch 6,960  of  11,247.    Elapsed: 0:14:24.\n",
      "  Batch 7,000  of  11,247.    Elapsed: 0:14:29.\n",
      "  Batch 7,040  of  11,247.    Elapsed: 0:14:34.\n",
      "  Batch 7,080  of  11,247.    Elapsed: 0:14:39.\n",
      "  Batch 7,120  of  11,247.    Elapsed: 0:14:44.\n",
      "  Batch 7,160  of  11,247.    Elapsed: 0:14:49.\n",
      "  Batch 7,200  of  11,247.    Elapsed: 0:14:54.\n",
      "  Batch 7,240  of  11,247.    Elapsed: 0:14:59.\n",
      "  Batch 7,280  of  11,247.    Elapsed: 0:15:04.\n",
      "  Batch 7,320  of  11,247.    Elapsed: 0:15:09.\n",
      "  Batch 7,360  of  11,247.    Elapsed: 0:15:14.\n",
      "  Batch 7,400  of  11,247.    Elapsed: 0:15:19.\n",
      "  Batch 7,440  of  11,247.    Elapsed: 0:15:24.\n",
      "  Batch 7,480  of  11,247.    Elapsed: 0:15:29.\n",
      "  Batch 7,520  of  11,247.    Elapsed: 0:15:34.\n",
      "  Batch 7,560  of  11,247.    Elapsed: 0:15:39.\n",
      "  Batch 7,600  of  11,247.    Elapsed: 0:15:44.\n",
      "  Batch 7,640  of  11,247.    Elapsed: 0:15:49.\n",
      "  Batch 7,680  of  11,247.    Elapsed: 0:15:54.\n",
      "  Batch 7,720  of  11,247.    Elapsed: 0:15:59.\n",
      "  Batch 7,760  of  11,247.    Elapsed: 0:16:04.\n",
      "  Batch 7,800  of  11,247.    Elapsed: 0:16:09.\n",
      "  Batch 7,840  of  11,247.    Elapsed: 0:16:14.\n",
      "  Batch 7,880  of  11,247.    Elapsed: 0:16:19.\n",
      "  Batch 7,920  of  11,247.    Elapsed: 0:16:24.\n",
      "  Batch 7,960  of  11,247.    Elapsed: 0:16:29.\n",
      "  Batch 8,000  of  11,247.    Elapsed: 0:16:34.\n",
      "  Batch 8,040  of  11,247.    Elapsed: 0:16:39.\n",
      "  Batch 8,080  of  11,247.    Elapsed: 0:16:44.\n",
      "  Batch 8,120  of  11,247.    Elapsed: 0:16:49.\n",
      "  Batch 8,160  of  11,247.    Elapsed: 0:16:54.\n",
      "  Batch 8,200  of  11,247.    Elapsed: 0:16:59.\n",
      "  Batch 8,240  of  11,247.    Elapsed: 0:17:03.\n",
      "  Batch 8,280  of  11,247.    Elapsed: 0:17:08.\n",
      "  Batch 8,320  of  11,247.    Elapsed: 0:17:13.\n",
      "  Batch 8,360  of  11,247.    Elapsed: 0:17:18.\n",
      "  Batch 8,400  of  11,247.    Elapsed: 0:17:23.\n",
      "  Batch 8,440  of  11,247.    Elapsed: 0:17:28.\n",
      "  Batch 8,480  of  11,247.    Elapsed: 0:17:33.\n",
      "  Batch 8,520  of  11,247.    Elapsed: 0:17:38.\n",
      "  Batch 8,560  of  11,247.    Elapsed: 0:17:43.\n",
      "  Batch 8,600  of  11,247.    Elapsed: 0:17:48.\n",
      "  Batch 8,640  of  11,247.    Elapsed: 0:17:53.\n",
      "  Batch 8,680  of  11,247.    Elapsed: 0:17:58.\n",
      "  Batch 8,720  of  11,247.    Elapsed: 0:18:03.\n",
      "  Batch 8,760  of  11,247.    Elapsed: 0:18:08.\n",
      "  Batch 8,800  of  11,247.    Elapsed: 0:18:13.\n",
      "  Batch 8,840  of  11,247.    Elapsed: 0:18:18.\n",
      "  Batch 8,880  of  11,247.    Elapsed: 0:18:23.\n",
      "  Batch 8,920  of  11,247.    Elapsed: 0:18:28.\n",
      "  Batch 8,960  of  11,247.    Elapsed: 0:18:33.\n",
      "  Batch 9,000  of  11,247.    Elapsed: 0:18:38.\n",
      "  Batch 9,040  of  11,247.    Elapsed: 0:18:43.\n",
      "  Batch 9,080  of  11,247.    Elapsed: 0:18:48.\n",
      "  Batch 9,120  of  11,247.    Elapsed: 0:18:53.\n",
      "  Batch 9,160  of  11,247.    Elapsed: 0:18:58.\n",
      "  Batch 9,200  of  11,247.    Elapsed: 0:19:03.\n",
      "  Batch 9,240  of  11,247.    Elapsed: 0:19:08.\n",
      "  Batch 9,280  of  11,247.    Elapsed: 0:19:13.\n",
      "  Batch 9,320  of  11,247.    Elapsed: 0:19:18.\n",
      "  Batch 9,360  of  11,247.    Elapsed: 0:19:23.\n",
      "  Batch 9,400  of  11,247.    Elapsed: 0:19:28.\n",
      "  Batch 9,440  of  11,247.    Elapsed: 0:19:33.\n",
      "  Batch 9,480  of  11,247.    Elapsed: 0:19:38.\n",
      "  Batch 9,520  of  11,247.    Elapsed: 0:19:43.\n",
      "  Batch 9,560  of  11,247.    Elapsed: 0:19:48.\n",
      "  Batch 9,600  of  11,247.    Elapsed: 0:19:52.\n",
      "  Batch 9,640  of  11,247.    Elapsed: 0:19:57.\n",
      "  Batch 9,680  of  11,247.    Elapsed: 0:20:02.\n",
      "  Batch 9,720  of  11,247.    Elapsed: 0:20:07.\n",
      "  Batch 9,760  of  11,247.    Elapsed: 0:20:12.\n",
      "  Batch 9,800  of  11,247.    Elapsed: 0:20:17.\n",
      "  Batch 9,840  of  11,247.    Elapsed: 0:20:22.\n",
      "  Batch 9,880  of  11,247.    Elapsed: 0:20:27.\n",
      "  Batch 9,920  of  11,247.    Elapsed: 0:20:32.\n",
      "  Batch 9,960  of  11,247.    Elapsed: 0:20:37.\n",
      "  Batch 10,000  of  11,247.    Elapsed: 0:20:42.\n",
      "  Batch 10,040  of  11,247.    Elapsed: 0:20:47.\n",
      "  Batch 10,080  of  11,247.    Elapsed: 0:20:52.\n",
      "  Batch 10,120  of  11,247.    Elapsed: 0:20:57.\n",
      "  Batch 10,160  of  11,247.    Elapsed: 0:21:02.\n",
      "  Batch 10,200  of  11,247.    Elapsed: 0:21:07.\n",
      "  Batch 10,240  of  11,247.    Elapsed: 0:21:12.\n",
      "  Batch 10,280  of  11,247.    Elapsed: 0:21:17.\n",
      "  Batch 10,320  of  11,247.    Elapsed: 0:21:22.\n",
      "  Batch 10,360  of  11,247.    Elapsed: 0:21:27.\n",
      "  Batch 10,400  of  11,247.    Elapsed: 0:21:32.\n",
      "  Batch 10,440  of  11,247.    Elapsed: 0:21:37.\n",
      "  Batch 10,480  of  11,247.    Elapsed: 0:21:42.\n",
      "  Batch 10,520  of  11,247.    Elapsed: 0:21:47.\n",
      "  Batch 10,560  of  11,247.    Elapsed: 0:21:52.\n",
      "  Batch 10,600  of  11,247.    Elapsed: 0:21:57.\n",
      "  Batch 10,640  of  11,247.    Elapsed: 0:22:02.\n",
      "  Batch 10,680  of  11,247.    Elapsed: 0:22:07.\n",
      "  Batch 10,720  of  11,247.    Elapsed: 0:22:12.\n",
      "  Batch 10,760  of  11,247.    Elapsed: 0:22:17.\n",
      "  Batch 10,800  of  11,247.    Elapsed: 0:22:22.\n",
      "  Batch 10,840  of  11,247.    Elapsed: 0:22:27.\n",
      "  Batch 10,880  of  11,247.    Elapsed: 0:22:32.\n",
      "  Batch 10,920  of  11,247.    Elapsed: 0:22:37.\n",
      "  Batch 10,960  of  11,247.    Elapsed: 0:22:41.\n",
      "  Batch 11,000  of  11,247.    Elapsed: 0:22:46.\n",
      "  Batch 11,040  of  11,247.    Elapsed: 0:22:51.\n",
      "  Batch 11,080  of  11,247.    Elapsed: 0:22:56.\n",
      "  Batch 11,120  of  11,247.    Elapsed: 0:23:01.\n",
      "  Batch 11,160  of  11,247.    Elapsed: 0:23:06.\n",
      "  Batch 11,200  of  11,247.    Elapsed: 0:23:11.\n",
      "  Batch 11,240  of  11,247.    Elapsed: 0:23:16.\n",
      "\n",
      "  Average training loss: 0.37\n",
      "  Training epcoh took: 0:23:17\n",
      "\n",
      "Running Validation...\n",
      "  Accuracy: 0.72\n",
      "  Validation took: 0:00:38\n",
      "\n",
      "======== Epoch 2 / 4 ========\n",
      "Training...\n",
      "  Batch    40  of  11,247.    Elapsed: 0:00:05.\n",
      "  Batch    80  of  11,247.    Elapsed: 0:00:10.\n",
      "  Batch   120  of  11,247.    Elapsed: 0:00:15.\n",
      "  Batch   160  of  11,247.    Elapsed: 0:00:20.\n",
      "  Batch   200  of  11,247.    Elapsed: 0:00:25.\n",
      "  Batch   240  of  11,247.    Elapsed: 0:00:30.\n",
      "  Batch   280  of  11,247.    Elapsed: 0:00:35.\n",
      "  Batch   320  of  11,247.    Elapsed: 0:00:40.\n",
      "  Batch   360  of  11,247.    Elapsed: 0:00:45.\n",
      "  Batch   400  of  11,247.    Elapsed: 0:00:50.\n",
      "  Batch   440  of  11,247.    Elapsed: 0:00:55.\n",
      "  Batch   480  of  11,247.    Elapsed: 0:01:00.\n",
      "  Batch   520  of  11,247.    Elapsed: 0:01:05.\n",
      "  Batch   560  of  11,247.    Elapsed: 0:01:10.\n",
      "  Batch   600  of  11,247.    Elapsed: 0:01:15.\n",
      "  Batch   640  of  11,247.    Elapsed: 0:01:20.\n",
      "  Batch   680  of  11,247.    Elapsed: 0:01:25.\n",
      "  Batch   720  of  11,247.    Elapsed: 0:01:30.\n",
      "  Batch   760  of  11,247.    Elapsed: 0:01:35.\n",
      "  Batch   800  of  11,247.    Elapsed: 0:01:40.\n",
      "  Batch   840  of  11,247.    Elapsed: 0:01:44.\n",
      "  Batch   880  of  11,247.    Elapsed: 0:01:49.\n",
      "  Batch   920  of  11,247.    Elapsed: 0:01:54.\n",
      "  Batch   960  of  11,247.    Elapsed: 0:01:59.\n",
      "  Batch 1,000  of  11,247.    Elapsed: 0:02:04.\n",
      "  Batch 1,040  of  11,247.    Elapsed: 0:02:10.\n",
      "  Batch 1,080  of  11,247.    Elapsed: 0:02:14.\n",
      "  Batch 1,120  of  11,247.    Elapsed: 0:02:19.\n",
      "  Batch 1,160  of  11,247.    Elapsed: 0:02:24.\n",
      "  Batch 1,200  of  11,247.    Elapsed: 0:02:29.\n",
      "  Batch 1,240  of  11,247.    Elapsed: 0:02:34.\n",
      "  Batch 1,280  of  11,247.    Elapsed: 0:02:39.\n",
      "  Batch 1,320  of  11,247.    Elapsed: 0:02:44.\n",
      "  Batch 1,360  of  11,247.    Elapsed: 0:02:49.\n",
      "  Batch 1,400  of  11,247.    Elapsed: 0:02:54.\n",
      "  Batch 1,440  of  11,247.    Elapsed: 0:02:59.\n",
      "  Batch 1,480  of  11,247.    Elapsed: 0:03:04.\n",
      "  Batch 1,520  of  11,247.    Elapsed: 0:03:09.\n",
      "  Batch 1,560  of  11,247.    Elapsed: 0:03:14.\n",
      "  Batch 1,600  of  11,247.    Elapsed: 0:03:19.\n",
      "  Batch 1,640  of  11,247.    Elapsed: 0:03:24.\n",
      "  Batch 1,680  of  11,247.    Elapsed: 0:03:29.\n",
      "  Batch 1,720  of  11,247.    Elapsed: 0:03:34.\n",
      "  Batch 1,760  of  11,247.    Elapsed: 0:03:39.\n",
      "  Batch 1,800  of  11,247.    Elapsed: 0:03:44.\n",
      "  Batch 1,840  of  11,247.    Elapsed: 0:03:49.\n",
      "  Batch 1,880  of  11,247.    Elapsed: 0:03:54.\n",
      "  Batch 1,920  of  11,247.    Elapsed: 0:03:59.\n",
      "  Batch 1,960  of  11,247.    Elapsed: 0:04:04.\n",
      "  Batch 2,000  of  11,247.    Elapsed: 0:04:09.\n",
      "  Batch 2,040  of  11,247.    Elapsed: 0:04:14.\n",
      "  Batch 2,080  of  11,247.    Elapsed: 0:04:19.\n",
      "  Batch 2,120  of  11,247.    Elapsed: 0:04:24.\n",
      "  Batch 2,160  of  11,247.    Elapsed: 0:04:29.\n",
      "  Batch 2,200  of  11,247.    Elapsed: 0:04:34.\n",
      "  Batch 2,240  of  11,247.    Elapsed: 0:04:39.\n",
      "  Batch 2,280  of  11,247.    Elapsed: 0:04:44.\n",
      "  Batch 2,320  of  11,247.    Elapsed: 0:04:49.\n",
      "  Batch 2,360  of  11,247.    Elapsed: 0:04:54.\n",
      "  Batch 2,400  of  11,247.    Elapsed: 0:04:58.\n",
      "  Batch 2,440  of  11,247.    Elapsed: 0:05:03.\n",
      "  Batch 2,480  of  11,247.    Elapsed: 0:05:08.\n",
      "  Batch 2,520  of  11,247.    Elapsed: 0:05:13.\n",
      "  Batch 2,560  of  11,247.    Elapsed: 0:05:18.\n",
      "  Batch 2,600  of  11,247.    Elapsed: 0:05:23.\n",
      "  Batch 2,640  of  11,247.    Elapsed: 0:05:28.\n",
      "  Batch 2,680  of  11,247.    Elapsed: 0:05:33.\n",
      "  Batch 2,720  of  11,247.    Elapsed: 0:05:38.\n",
      "  Batch 2,760  of  11,247.    Elapsed: 0:05:43.\n",
      "  Batch 2,800  of  11,247.    Elapsed: 0:05:48.\n",
      "  Batch 2,840  of  11,247.    Elapsed: 0:05:53.\n",
      "  Batch 2,880  of  11,247.    Elapsed: 0:05:58.\n",
      "  Batch 2,920  of  11,247.    Elapsed: 0:06:03.\n",
      "  Batch 2,960  of  11,247.    Elapsed: 0:06:08.\n",
      "  Batch 3,000  of  11,247.    Elapsed: 0:06:13.\n",
      "  Batch 3,040  of  11,247.    Elapsed: 0:06:18.\n",
      "  Batch 3,080  of  11,247.    Elapsed: 0:06:23.\n",
      "  Batch 3,120  of  11,247.    Elapsed: 0:06:28.\n",
      "  Batch 3,160  of  11,247.    Elapsed: 0:06:33.\n",
      "  Batch 3,200  of  11,247.    Elapsed: 0:06:38.\n",
      "  Batch 3,240  of  11,247.    Elapsed: 0:06:43.\n",
      "  Batch 3,280  of  11,247.    Elapsed: 0:06:48.\n",
      "  Batch 3,320  of  11,247.    Elapsed: 0:06:53.\n",
      "  Batch 3,360  of  11,247.    Elapsed: 0:06:58.\n",
      "  Batch 3,400  of  11,247.    Elapsed: 0:07:03.\n",
      "  Batch 3,440  of  11,247.    Elapsed: 0:07:08.\n",
      "  Batch 3,480  of  11,247.    Elapsed: 0:07:13.\n",
      "  Batch 3,520  of  11,247.    Elapsed: 0:07:18.\n",
      "  Batch 3,560  of  11,247.    Elapsed: 0:07:23.\n",
      "  Batch 3,600  of  11,247.    Elapsed: 0:07:28.\n",
      "  Batch 3,640  of  11,247.    Elapsed: 0:07:33.\n",
      "  Batch 3,680  of  11,247.    Elapsed: 0:07:38.\n",
      "  Batch 3,720  of  11,247.    Elapsed: 0:07:43.\n",
      "  Batch 3,760  of  11,247.    Elapsed: 0:07:48.\n",
      "  Batch 3,800  of  11,247.    Elapsed: 0:07:53.\n",
      "  Batch 3,840  of  11,247.    Elapsed: 0:07:57.\n",
      "  Batch 3,880  of  11,247.    Elapsed: 0:08:02.\n",
      "  Batch 3,920  of  11,247.    Elapsed: 0:08:07.\n",
      "  Batch 3,960  of  11,247.    Elapsed: 0:08:12.\n",
      "  Batch 4,000  of  11,247.    Elapsed: 0:08:17.\n",
      "  Batch 4,040  of  11,247.    Elapsed: 0:08:22.\n",
      "  Batch 4,080  of  11,247.    Elapsed: 0:08:27.\n",
      "  Batch 4,120  of  11,247.    Elapsed: 0:08:32.\n",
      "  Batch 4,160  of  11,247.    Elapsed: 0:08:37.\n",
      "  Batch 4,200  of  11,247.    Elapsed: 0:08:42.\n",
      "  Batch 4,240  of  11,247.    Elapsed: 0:08:47.\n",
      "  Batch 4,280  of  11,247.    Elapsed: 0:08:52.\n",
      "  Batch 4,320  of  11,247.    Elapsed: 0:08:57.\n",
      "  Batch 4,360  of  11,247.    Elapsed: 0:09:02.\n",
      "  Batch 4,400  of  11,247.    Elapsed: 0:09:07.\n",
      "  Batch 4,440  of  11,247.    Elapsed: 0:09:12.\n",
      "  Batch 4,480  of  11,247.    Elapsed: 0:09:17.\n",
      "  Batch 4,520  of  11,247.    Elapsed: 0:09:22.\n",
      "  Batch 4,560  of  11,247.    Elapsed: 0:09:27.\n",
      "  Batch 4,600  of  11,247.    Elapsed: 0:09:32.\n",
      "  Batch 4,640  of  11,247.    Elapsed: 0:09:37.\n",
      "  Batch 4,680  of  11,247.    Elapsed: 0:09:42.\n",
      "  Batch 4,720  of  11,247.    Elapsed: 0:09:47.\n",
      "  Batch 4,760  of  11,247.    Elapsed: 0:09:52.\n",
      "  Batch 4,800  of  11,247.    Elapsed: 0:09:57.\n",
      "  Batch 4,840  of  11,247.    Elapsed: 0:10:02.\n",
      "  Batch 4,880  of  11,247.    Elapsed: 0:10:07.\n",
      "  Batch 4,920  of  11,247.    Elapsed: 0:10:12.\n",
      "  Batch 4,960  of  11,247.    Elapsed: 0:10:17.\n",
      "  Batch 5,000  of  11,247.    Elapsed: 0:10:22.\n",
      "  Batch 5,040  of  11,247.    Elapsed: 0:10:27.\n",
      "  Batch 5,080  of  11,247.    Elapsed: 0:10:32.\n",
      "  Batch 5,120  of  11,247.    Elapsed: 0:10:37.\n",
      "  Batch 5,160  of  11,247.    Elapsed: 0:10:42.\n",
      "  Batch 5,200  of  11,247.    Elapsed: 0:10:47.\n",
      "  Batch 5,240  of  11,247.    Elapsed: 0:10:52.\n",
      "  Batch 5,280  of  11,247.    Elapsed: 0:10:56.\n",
      "  Batch 5,320  of  11,247.    Elapsed: 0:11:01.\n",
      "  Batch 5,360  of  11,247.    Elapsed: 0:11:06.\n",
      "  Batch 5,400  of  11,247.    Elapsed: 0:11:11.\n",
      "  Batch 5,440  of  11,247.    Elapsed: 0:11:16.\n",
      "  Batch 5,480  of  11,247.    Elapsed: 0:11:21.\n",
      "  Batch 5,520  of  11,247.    Elapsed: 0:11:26.\n",
      "  Batch 5,560  of  11,247.    Elapsed: 0:11:31.\n",
      "  Batch 5,600  of  11,247.    Elapsed: 0:11:36.\n",
      "  Batch 5,640  of  11,247.    Elapsed: 0:11:41.\n",
      "  Batch 5,680  of  11,247.    Elapsed: 0:11:46.\n",
      "  Batch 5,720  of  11,247.    Elapsed: 0:11:51.\n",
      "  Batch 5,760  of  11,247.    Elapsed: 0:11:56.\n",
      "  Batch 5,800  of  11,247.    Elapsed: 0:12:01.\n",
      "  Batch 5,840  of  11,247.    Elapsed: 0:12:06.\n",
      "  Batch 5,880  of  11,247.    Elapsed: 0:12:11.\n",
      "  Batch 5,920  of  11,247.    Elapsed: 0:12:16.\n",
      "  Batch 5,960  of  11,247.    Elapsed: 0:12:21.\n",
      "  Batch 6,000  of  11,247.    Elapsed: 0:12:26.\n",
      "  Batch 6,040  of  11,247.    Elapsed: 0:12:31.\n",
      "  Batch 6,080  of  11,247.    Elapsed: 0:12:36.\n",
      "  Batch 6,120  of  11,247.    Elapsed: 0:12:41.\n",
      "  Batch 6,160  of  11,247.    Elapsed: 0:12:46.\n",
      "  Batch 6,200  of  11,247.    Elapsed: 0:12:51.\n",
      "  Batch 6,240  of  11,247.    Elapsed: 0:12:56.\n",
      "  Batch 6,280  of  11,247.    Elapsed: 0:13:00.\n",
      "  Batch 6,320  of  11,247.    Elapsed: 0:13:05.\n",
      "  Batch 6,360  of  11,247.    Elapsed: 0:13:10.\n",
      "  Batch 6,400  of  11,247.    Elapsed: 0:13:15.\n",
      "  Batch 6,440  of  11,247.    Elapsed: 0:13:20.\n",
      "  Batch 6,480  of  11,247.    Elapsed: 0:13:25.\n",
      "  Batch 6,520  of  11,247.    Elapsed: 0:13:30.\n",
      "  Batch 6,560  of  11,247.    Elapsed: 0:13:35.\n",
      "  Batch 6,600  of  11,247.    Elapsed: 0:13:40.\n",
      "  Batch 6,640  of  11,247.    Elapsed: 0:13:45.\n",
      "  Batch 6,680  of  11,247.    Elapsed: 0:13:50.\n",
      "  Batch 6,720  of  11,247.    Elapsed: 0:13:55.\n",
      "  Batch 6,760  of  11,247.    Elapsed: 0:14:00.\n",
      "  Batch 6,800  of  11,247.    Elapsed: 0:14:05.\n",
      "  Batch 6,840  of  11,247.    Elapsed: 0:14:10.\n",
      "  Batch 6,880  of  11,247.    Elapsed: 0:14:15.\n",
      "  Batch 6,920  of  11,247.    Elapsed: 0:14:20.\n",
      "  Batch 6,960  of  11,247.    Elapsed: 0:14:25.\n",
      "  Batch 7,000  of  11,247.    Elapsed: 0:14:30.\n",
      "  Batch 7,040  of  11,247.    Elapsed: 0:14:35.\n",
      "  Batch 7,080  of  11,247.    Elapsed: 0:14:40.\n",
      "  Batch 7,120  of  11,247.    Elapsed: 0:14:45.\n",
      "  Batch 7,160  of  11,247.    Elapsed: 0:14:50.\n",
      "  Batch 7,200  of  11,247.    Elapsed: 0:14:55.\n",
      "  Batch 7,240  of  11,247.    Elapsed: 0:14:59.\n",
      "  Batch 7,280  of  11,247.    Elapsed: 0:15:04.\n",
      "  Batch 7,320  of  11,247.    Elapsed: 0:15:09.\n",
      "  Batch 7,360  of  11,247.    Elapsed: 0:15:14.\n",
      "  Batch 7,400  of  11,247.    Elapsed: 0:15:19.\n",
      "  Batch 7,440  of  11,247.    Elapsed: 0:15:24.\n",
      "  Batch 7,480  of  11,247.    Elapsed: 0:15:29.\n",
      "  Batch 7,520  of  11,247.    Elapsed: 0:15:34.\n",
      "  Batch 7,560  of  11,247.    Elapsed: 0:15:39.\n",
      "  Batch 7,600  of  11,247.    Elapsed: 0:15:44.\n",
      "  Batch 7,640  of  11,247.    Elapsed: 0:15:49.\n",
      "  Batch 7,680  of  11,247.    Elapsed: 0:15:54.\n",
      "  Batch 7,720  of  11,247.    Elapsed: 0:15:59.\n",
      "  Batch 7,760  of  11,247.    Elapsed: 0:16:04.\n",
      "  Batch 7,800  of  11,247.    Elapsed: 0:16:09.\n",
      "  Batch 7,840  of  11,247.    Elapsed: 0:16:14.\n",
      "  Batch 7,880  of  11,247.    Elapsed: 0:16:19.\n",
      "  Batch 7,920  of  11,247.    Elapsed: 0:16:24.\n",
      "  Batch 7,960  of  11,247.    Elapsed: 0:16:29.\n",
      "  Batch 8,000  of  11,247.    Elapsed: 0:16:34.\n",
      "  Batch 8,040  of  11,247.    Elapsed: 0:16:39.\n",
      "  Batch 8,080  of  11,247.    Elapsed: 0:16:44.\n",
      "  Batch 8,120  of  11,247.    Elapsed: 0:16:48.\n",
      "  Batch 8,160  of  11,247.    Elapsed: 0:16:53.\n",
      "  Batch 8,200  of  11,247.    Elapsed: 0:16:58.\n",
      "  Batch 8,240  of  11,247.    Elapsed: 0:17:03.\n",
      "  Batch 8,280  of  11,247.    Elapsed: 0:17:08.\n",
      "  Batch 8,320  of  11,247.    Elapsed: 0:17:13.\n",
      "  Batch 8,360  of  11,247.    Elapsed: 0:17:18.\n",
      "  Batch 8,400  of  11,247.    Elapsed: 0:17:23.\n",
      "  Batch 8,440  of  11,247.    Elapsed: 0:17:28.\n",
      "  Batch 8,480  of  11,247.    Elapsed: 0:17:33.\n",
      "  Batch 8,520  of  11,247.    Elapsed: 0:17:38.\n",
      "  Batch 8,560  of  11,247.    Elapsed: 0:17:43.\n",
      "  Batch 8,600  of  11,247.    Elapsed: 0:17:48.\n",
      "  Batch 8,640  of  11,247.    Elapsed: 0:17:53.\n",
      "  Batch 8,680  of  11,247.    Elapsed: 0:17:58.\n",
      "  Batch 8,720  of  11,247.    Elapsed: 0:18:03.\n",
      "  Batch 8,760  of  11,247.    Elapsed: 0:18:08.\n",
      "  Batch 8,800  of  11,247.    Elapsed: 0:18:13.\n",
      "  Batch 8,840  of  11,247.    Elapsed: 0:18:18.\n",
      "  Batch 8,880  of  11,247.    Elapsed: 0:18:23.\n",
      "  Batch 8,920  of  11,247.    Elapsed: 0:18:28.\n",
      "  Batch 8,960  of  11,247.    Elapsed: 0:18:33.\n",
      "  Batch 9,000  of  11,247.    Elapsed: 0:18:38.\n",
      "  Batch 9,040  of  11,247.    Elapsed: 0:18:42.\n",
      "  Batch 9,080  of  11,247.    Elapsed: 0:18:47.\n",
      "  Batch 9,120  of  11,247.    Elapsed: 0:18:52.\n",
      "  Batch 9,160  of  11,247.    Elapsed: 0:18:57.\n",
      "  Batch 9,200  of  11,247.    Elapsed: 0:19:02.\n",
      "  Batch 9,240  of  11,247.    Elapsed: 0:19:07.\n",
      "  Batch 9,280  of  11,247.    Elapsed: 0:19:12.\n",
      "  Batch 9,320  of  11,247.    Elapsed: 0:19:17.\n",
      "  Batch 9,360  of  11,247.    Elapsed: 0:19:22.\n",
      "  Batch 9,400  of  11,247.    Elapsed: 0:19:27.\n",
      "  Batch 9,440  of  11,247.    Elapsed: 0:19:32.\n",
      "  Batch 9,480  of  11,247.    Elapsed: 0:19:37.\n",
      "  Batch 9,520  of  11,247.    Elapsed: 0:19:42.\n",
      "  Batch 9,560  of  11,247.    Elapsed: 0:19:47.\n",
      "  Batch 9,600  of  11,247.    Elapsed: 0:19:52.\n",
      "  Batch 9,640  of  11,247.    Elapsed: 0:19:57.\n",
      "  Batch 9,680  of  11,247.    Elapsed: 0:20:02.\n",
      "  Batch 9,720  of  11,247.    Elapsed: 0:20:07.\n",
      "  Batch 9,760  of  11,247.    Elapsed: 0:20:12.\n",
      "  Batch 9,800  of  11,247.    Elapsed: 0:20:17.\n",
      "  Batch 9,840  of  11,247.    Elapsed: 0:20:21.\n",
      "  Batch 9,880  of  11,247.    Elapsed: 0:20:26.\n",
      "  Batch 9,920  of  11,247.    Elapsed: 0:20:31.\n",
      "  Batch 9,960  of  11,247.    Elapsed: 0:20:36.\n",
      "  Batch 10,000  of  11,247.    Elapsed: 0:20:41.\n",
      "  Batch 10,040  of  11,247.    Elapsed: 0:20:46.\n",
      "  Batch 10,080  of  11,247.    Elapsed: 0:20:51.\n",
      "  Batch 10,120  of  11,247.    Elapsed: 0:20:56.\n",
      "  Batch 10,160  of  11,247.    Elapsed: 0:21:01.\n",
      "  Batch 10,200  of  11,247.    Elapsed: 0:21:06.\n",
      "  Batch 10,240  of  11,247.    Elapsed: 0:21:11.\n",
      "  Batch 10,280  of  11,247.    Elapsed: 0:21:16.\n",
      "  Batch 10,320  of  11,247.    Elapsed: 0:21:21.\n",
      "  Batch 10,360  of  11,247.    Elapsed: 0:21:26.\n",
      "  Batch 10,400  of  11,247.    Elapsed: 0:21:31.\n",
      "  Batch 10,440  of  11,247.    Elapsed: 0:21:36.\n",
      "  Batch 10,480  of  11,247.    Elapsed: 0:21:41.\n",
      "  Batch 10,520  of  11,247.    Elapsed: 0:21:46.\n",
      "  Batch 10,560  of  11,247.    Elapsed: 0:21:51.\n",
      "  Batch 10,600  of  11,247.    Elapsed: 0:21:56.\n",
      "  Batch 10,640  of  11,247.    Elapsed: 0:22:01.\n",
      "  Batch 10,680  of  11,247.    Elapsed: 0:22:06.\n",
      "  Batch 10,720  of  11,247.    Elapsed: 0:22:11.\n",
      "  Batch 10,760  of  11,247.    Elapsed: 0:22:15.\n",
      "  Batch 10,800  of  11,247.    Elapsed: 0:22:20.\n",
      "  Batch 10,840  of  11,247.    Elapsed: 0:22:25.\n",
      "  Batch 10,880  of  11,247.    Elapsed: 0:22:30.\n",
      "  Batch 10,920  of  11,247.    Elapsed: 0:22:35.\n",
      "  Batch 10,960  of  11,247.    Elapsed: 0:22:40.\n",
      "  Batch 11,000  of  11,247.    Elapsed: 0:22:45.\n",
      "  Batch 11,040  of  11,247.    Elapsed: 0:22:50.\n",
      "  Batch 11,080  of  11,247.    Elapsed: 0:22:55.\n",
      "  Batch 11,120  of  11,247.    Elapsed: 0:23:00.\n",
      "  Batch 11,160  of  11,247.    Elapsed: 0:23:05.\n",
      "  Batch 11,200  of  11,247.    Elapsed: 0:23:10.\n",
      "  Batch 11,240  of  11,247.    Elapsed: 0:23:15.\n",
      "\n",
      "  Average training loss: 0.36\n",
      "  Training epcoh took: 0:23:16\n",
      "\n",
      "Running Validation...\n",
      "  Accuracy: 0.73\n",
      "  Validation took: 0:00:38\n",
      "\n",
      "======== Epoch 3 / 4 ========\n",
      "Training...\n",
      "  Batch    40  of  11,247.    Elapsed: 0:00:05.\n",
      "  Batch    80  of  11,247.    Elapsed: 0:00:10.\n",
      "  Batch   120  of  11,247.    Elapsed: 0:00:15.\n",
      "  Batch   160  of  11,247.    Elapsed: 0:00:20.\n",
      "  Batch   200  of  11,247.    Elapsed: 0:00:25.\n",
      "  Batch   240  of  11,247.    Elapsed: 0:00:30.\n",
      "  Batch   280  of  11,247.    Elapsed: 0:00:35.\n",
      "  Batch   320  of  11,247.    Elapsed: 0:00:40.\n",
      "  Batch   360  of  11,247.    Elapsed: 0:00:45.\n",
      "  Batch   400  of  11,247.    Elapsed: 0:00:50.\n",
      "  Batch   440  of  11,247.    Elapsed: 0:00:55.\n",
      "  Batch   480  of  11,247.    Elapsed: 0:01:00.\n",
      "  Batch   520  of  11,247.    Elapsed: 0:01:05.\n",
      "  Batch   560  of  11,247.    Elapsed: 0:01:10.\n",
      "  Batch   600  of  11,247.    Elapsed: 0:01:15.\n",
      "  Batch   640  of  11,247.    Elapsed: 0:01:20.\n",
      "  Batch   680  of  11,247.    Elapsed: 0:01:25.\n",
      "  Batch   720  of  11,247.    Elapsed: 0:01:30.\n",
      "  Batch   760  of  11,247.    Elapsed: 0:01:35.\n",
      "  Batch   800  of  11,247.    Elapsed: 0:01:40.\n",
      "  Batch   840  of  11,247.    Elapsed: 0:01:45.\n",
      "  Batch   880  of  11,247.    Elapsed: 0:01:50.\n",
      "  Batch   920  of  11,247.    Elapsed: 0:01:55.\n",
      "  Batch   960  of  11,247.    Elapsed: 0:02:00.\n",
      "  Batch 1,000  of  11,247.    Elapsed: 0:02:05.\n",
      "  Batch 1,040  of  11,247.    Elapsed: 0:02:10.\n",
      "  Batch 1,080  of  11,247.    Elapsed: 0:02:15.\n",
      "  Batch 1,120  of  11,247.    Elapsed: 0:02:20.\n",
      "  Batch 1,160  of  11,247.    Elapsed: 0:02:25.\n",
      "  Batch 1,200  of  11,247.    Elapsed: 0:02:30.\n",
      "  Batch 1,240  of  11,247.    Elapsed: 0:02:34.\n",
      "  Batch 1,280  of  11,247.    Elapsed: 0:02:39.\n",
      "  Batch 1,320  of  11,247.    Elapsed: 0:02:44.\n",
      "  Batch 1,360  of  11,247.    Elapsed: 0:02:49.\n",
      "  Batch 1,400  of  11,247.    Elapsed: 0:02:54.\n",
      "  Batch 1,440  of  11,247.    Elapsed: 0:02:59.\n",
      "  Batch 1,480  of  11,247.    Elapsed: 0:03:04.\n",
      "  Batch 1,520  of  11,247.    Elapsed: 0:03:09.\n",
      "  Batch 1,560  of  11,247.    Elapsed: 0:03:14.\n",
      "  Batch 1,600  of  11,247.    Elapsed: 0:03:19.\n",
      "  Batch 1,640  of  11,247.    Elapsed: 0:03:24.\n",
      "  Batch 1,680  of  11,247.    Elapsed: 0:03:29.\n",
      "  Batch 1,720  of  11,247.    Elapsed: 0:03:34.\n",
      "  Batch 1,760  of  11,247.    Elapsed: 0:03:39.\n",
      "  Batch 1,800  of  11,247.    Elapsed: 0:03:44.\n",
      "  Batch 1,840  of  11,247.    Elapsed: 0:03:49.\n",
      "  Batch 1,880  of  11,247.    Elapsed: 0:03:54.\n",
      "  Batch 1,920  of  11,247.    Elapsed: 0:03:59.\n",
      "  Batch 1,960  of  11,247.    Elapsed: 0:04:04.\n",
      "  Batch 2,000  of  11,247.    Elapsed: 0:04:09.\n",
      "  Batch 2,040  of  11,247.    Elapsed: 0:04:14.\n",
      "  Batch 2,080  of  11,247.    Elapsed: 0:04:19.\n",
      "  Batch 2,120  of  11,247.    Elapsed: 0:04:24.\n",
      "  Batch 2,160  of  11,247.    Elapsed: 0:04:29.\n",
      "  Batch 2,200  of  11,247.    Elapsed: 0:04:34.\n",
      "  Batch 2,240  of  11,247.    Elapsed: 0:04:39.\n",
      "  Batch 2,280  of  11,247.    Elapsed: 0:04:44.\n",
      "  Batch 2,320  of  11,247.    Elapsed: 0:04:48.\n",
      "  Batch 2,360  of  11,247.    Elapsed: 0:04:53.\n",
      "  Batch 2,400  of  11,247.    Elapsed: 0:04:58.\n",
      "  Batch 2,440  of  11,247.    Elapsed: 0:05:03.\n",
      "  Batch 2,480  of  11,247.    Elapsed: 0:05:08.\n",
      "  Batch 2,520  of  11,247.    Elapsed: 0:05:13.\n",
      "  Batch 2,560  of  11,247.    Elapsed: 0:05:18.\n",
      "  Batch 2,600  of  11,247.    Elapsed: 0:05:23.\n",
      "  Batch 2,640  of  11,247.    Elapsed: 0:05:28.\n",
      "  Batch 2,680  of  11,247.    Elapsed: 0:05:33.\n",
      "  Batch 2,720  of  11,247.    Elapsed: 0:05:38.\n",
      "  Batch 2,760  of  11,247.    Elapsed: 0:05:43.\n",
      "  Batch 2,800  of  11,247.    Elapsed: 0:05:48.\n",
      "  Batch 2,840  of  11,247.    Elapsed: 0:05:53.\n",
      "  Batch 2,880  of  11,247.    Elapsed: 0:05:58.\n",
      "  Batch 2,920  of  11,247.    Elapsed: 0:06:03.\n",
      "  Batch 2,960  of  11,247.    Elapsed: 0:06:08.\n",
      "  Batch 3,000  of  11,247.    Elapsed: 0:06:13.\n",
      "  Batch 3,040  of  11,247.    Elapsed: 0:06:18.\n",
      "  Batch 3,080  of  11,247.    Elapsed: 0:06:23.\n",
      "  Batch 3,120  of  11,247.    Elapsed: 0:06:28.\n",
      "  Batch 3,160  of  11,247.    Elapsed: 0:06:33.\n",
      "  Batch 3,200  of  11,247.    Elapsed: 0:06:38.\n",
      "  Batch 3,240  of  11,247.    Elapsed: 0:06:43.\n",
      "  Batch 3,280  of  11,247.    Elapsed: 0:06:48.\n",
      "  Batch 3,320  of  11,247.    Elapsed: 0:06:53.\n",
      "  Batch 3,360  of  11,247.    Elapsed: 0:06:57.\n",
      "  Batch 3,400  of  11,247.    Elapsed: 0:07:02.\n",
      "  Batch 3,440  of  11,247.    Elapsed: 0:07:07.\n",
      "  Batch 3,480  of  11,247.    Elapsed: 0:07:12.\n",
      "  Batch 3,520  of  11,247.    Elapsed: 0:07:17.\n",
      "  Batch 3,560  of  11,247.    Elapsed: 0:07:22.\n",
      "  Batch 3,600  of  11,247.    Elapsed: 0:07:27.\n",
      "  Batch 3,640  of  11,247.    Elapsed: 0:07:32.\n",
      "  Batch 3,680  of  11,247.    Elapsed: 0:07:37.\n",
      "  Batch 3,720  of  11,247.    Elapsed: 0:07:42.\n",
      "  Batch 3,760  of  11,247.    Elapsed: 0:07:47.\n",
      "  Batch 3,800  of  11,247.    Elapsed: 0:07:52.\n",
      "  Batch 3,840  of  11,247.    Elapsed: 0:07:57.\n",
      "  Batch 3,880  of  11,247.    Elapsed: 0:08:02.\n",
      "  Batch 3,920  of  11,247.    Elapsed: 0:08:07.\n",
      "  Batch 3,960  of  11,247.    Elapsed: 0:08:12.\n",
      "  Batch 4,000  of  11,247.    Elapsed: 0:08:17.\n",
      "  Batch 4,040  of  11,247.    Elapsed: 0:08:22.\n",
      "  Batch 4,080  of  11,247.    Elapsed: 0:08:27.\n",
      "  Batch 4,120  of  11,247.    Elapsed: 0:08:32.\n",
      "  Batch 4,160  of  11,247.    Elapsed: 0:08:37.\n",
      "  Batch 4,200  of  11,247.    Elapsed: 0:08:42.\n",
      "  Batch 4,240  of  11,247.    Elapsed: 0:08:47.\n",
      "  Batch 4,280  of  11,247.    Elapsed: 0:08:51.\n",
      "  Batch 4,320  of  11,247.    Elapsed: 0:08:56.\n",
      "  Batch 4,360  of  11,247.    Elapsed: 0:09:01.\n",
      "  Batch 4,400  of  11,247.    Elapsed: 0:09:06.\n",
      "  Batch 4,440  of  11,247.    Elapsed: 0:09:11.\n",
      "  Batch 4,480  of  11,247.    Elapsed: 0:09:16.\n",
      "  Batch 4,520  of  11,247.    Elapsed: 0:09:21.\n",
      "  Batch 4,560  of  11,247.    Elapsed: 0:09:26.\n",
      "  Batch 4,600  of  11,247.    Elapsed: 0:09:31.\n",
      "  Batch 4,640  of  11,247.    Elapsed: 0:09:36.\n",
      "  Batch 4,680  of  11,247.    Elapsed: 0:09:41.\n",
      "  Batch 4,720  of  11,247.    Elapsed: 0:09:46.\n",
      "  Batch 4,760  of  11,247.    Elapsed: 0:09:51.\n",
      "  Batch 4,800  of  11,247.    Elapsed: 0:09:56.\n",
      "  Batch 4,840  of  11,247.    Elapsed: 0:10:01.\n",
      "  Batch 4,880  of  11,247.    Elapsed: 0:10:06.\n",
      "  Batch 4,920  of  11,247.    Elapsed: 0:10:11.\n",
      "  Batch 4,960  of  11,247.    Elapsed: 0:10:16.\n",
      "  Batch 5,000  of  11,247.    Elapsed: 0:10:21.\n",
      "  Batch 5,040  of  11,247.    Elapsed: 0:10:26.\n",
      "  Batch 5,080  of  11,247.    Elapsed: 0:10:31.\n",
      "  Batch 5,120  of  11,247.    Elapsed: 0:10:36.\n",
      "  Batch 5,160  of  11,247.    Elapsed: 0:10:41.\n",
      "  Batch 5,200  of  11,247.    Elapsed: 0:10:45.\n",
      "  Batch 5,240  of  11,247.    Elapsed: 0:10:50.\n",
      "  Batch 5,280  of  11,247.    Elapsed: 0:10:55.\n",
      "  Batch 5,320  of  11,247.    Elapsed: 0:11:00.\n",
      "  Batch 5,360  of  11,247.    Elapsed: 0:11:05.\n",
      "  Batch 5,400  of  11,247.    Elapsed: 0:11:10.\n",
      "  Batch 5,440  of  11,247.    Elapsed: 0:11:15.\n",
      "  Batch 5,480  of  11,247.    Elapsed: 0:11:20.\n",
      "  Batch 5,520  of  11,247.    Elapsed: 0:11:25.\n",
      "  Batch 5,560  of  11,247.    Elapsed: 0:11:30.\n",
      "  Batch 5,600  of  11,247.    Elapsed: 0:11:35.\n",
      "  Batch 5,640  of  11,247.    Elapsed: 0:11:40.\n",
      "  Batch 5,680  of  11,247.    Elapsed: 0:11:45.\n",
      "  Batch 5,720  of  11,247.    Elapsed: 0:11:50.\n",
      "  Batch 5,760  of  11,247.    Elapsed: 0:11:55.\n",
      "  Batch 5,800  of  11,247.    Elapsed: 0:12:00.\n",
      "  Batch 5,840  of  11,247.    Elapsed: 0:12:05.\n",
      "  Batch 5,880  of  11,247.    Elapsed: 0:12:10.\n",
      "  Batch 5,920  of  11,247.    Elapsed: 0:12:15.\n",
      "  Batch 5,960  of  11,247.    Elapsed: 0:12:20.\n",
      "  Batch 6,000  of  11,247.    Elapsed: 0:12:24.\n",
      "  Batch 6,040  of  11,247.    Elapsed: 0:12:29.\n",
      "  Batch 6,080  of  11,247.    Elapsed: 0:12:34.\n",
      "  Batch 6,120  of  11,247.    Elapsed: 0:12:39.\n",
      "  Batch 6,160  of  11,247.    Elapsed: 0:12:44.\n",
      "  Batch 6,200  of  11,247.    Elapsed: 0:12:49.\n",
      "  Batch 6,240  of  11,247.    Elapsed: 0:12:54.\n",
      "  Batch 6,280  of  11,247.    Elapsed: 0:12:59.\n",
      "  Batch 6,320  of  11,247.    Elapsed: 0:13:04.\n",
      "  Batch 6,360  of  11,247.    Elapsed: 0:13:09.\n",
      "  Batch 6,400  of  11,247.    Elapsed: 0:13:14.\n",
      "  Batch 6,440  of  11,247.    Elapsed: 0:13:19.\n",
      "  Batch 6,480  of  11,247.    Elapsed: 0:13:24.\n",
      "  Batch 6,520  of  11,247.    Elapsed: 0:13:29.\n",
      "  Batch 6,560  of  11,247.    Elapsed: 0:13:34.\n",
      "  Batch 6,600  of  11,247.    Elapsed: 0:13:39.\n",
      "  Batch 6,640  of  11,247.    Elapsed: 0:13:44.\n",
      "  Batch 6,680  of  11,247.    Elapsed: 0:13:49.\n",
      "  Batch 6,720  of  11,247.    Elapsed: 0:13:54.\n",
      "  Batch 6,760  of  11,247.    Elapsed: 0:13:59.\n",
      "  Batch 6,800  of  11,247.    Elapsed: 0:14:04.\n",
      "  Batch 6,840  of  11,247.    Elapsed: 0:14:08.\n",
      "  Batch 6,880  of  11,247.    Elapsed: 0:14:13.\n",
      "  Batch 6,920  of  11,247.    Elapsed: 0:14:18.\n",
      "  Batch 6,960  of  11,247.    Elapsed: 0:14:23.\n",
      "  Batch 7,000  of  11,247.    Elapsed: 0:14:28.\n",
      "  Batch 7,040  of  11,247.    Elapsed: 0:14:33.\n",
      "  Batch 7,080  of  11,247.    Elapsed: 0:14:38.\n",
      "  Batch 7,120  of  11,247.    Elapsed: 0:14:43.\n",
      "  Batch 7,160  of  11,247.    Elapsed: 0:14:48.\n",
      "  Batch 7,200  of  11,247.    Elapsed: 0:14:53.\n",
      "  Batch 7,240  of  11,247.    Elapsed: 0:14:58.\n",
      "  Batch 7,280  of  11,247.    Elapsed: 0:15:03.\n",
      "  Batch 7,320  of  11,247.    Elapsed: 0:15:08.\n",
      "  Batch 7,360  of  11,247.    Elapsed: 0:15:13.\n",
      "  Batch 7,400  of  11,247.    Elapsed: 0:15:18.\n",
      "  Batch 7,440  of  11,247.    Elapsed: 0:15:23.\n",
      "  Batch 7,480  of  11,247.    Elapsed: 0:15:28.\n",
      "  Batch 7,520  of  11,247.    Elapsed: 0:15:33.\n",
      "  Batch 7,560  of  11,247.    Elapsed: 0:15:38.\n",
      "  Batch 7,600  of  11,247.    Elapsed: 0:15:42.\n",
      "  Batch 7,640  of  11,247.    Elapsed: 0:15:47.\n",
      "  Batch 7,680  of  11,247.    Elapsed: 0:15:52.\n",
      "  Batch 7,720  of  11,247.    Elapsed: 0:15:57.\n",
      "  Batch 7,760  of  11,247.    Elapsed: 0:16:02.\n",
      "  Batch 7,800  of  11,247.    Elapsed: 0:16:07.\n",
      "  Batch 7,840  of  11,247.    Elapsed: 0:16:12.\n",
      "  Batch 7,880  of  11,247.    Elapsed: 0:16:17.\n",
      "  Batch 7,920  of  11,247.    Elapsed: 0:16:22.\n",
      "  Batch 7,960  of  11,247.    Elapsed: 0:16:27.\n",
      "  Batch 8,000  of  11,247.    Elapsed: 0:16:32.\n",
      "  Batch 8,040  of  11,247.    Elapsed: 0:16:37.\n",
      "  Batch 8,080  of  11,247.    Elapsed: 0:16:42.\n",
      "  Batch 8,120  of  11,247.    Elapsed: 0:16:47.\n",
      "  Batch 8,160  of  11,247.    Elapsed: 0:16:52.\n",
      "  Batch 8,200  of  11,247.    Elapsed: 0:16:57.\n",
      "  Batch 8,240  of  11,247.    Elapsed: 0:17:02.\n",
      "  Batch 8,280  of  11,247.    Elapsed: 0:17:07.\n",
      "  Batch 8,320  of  11,247.    Elapsed: 0:17:12.\n",
      "  Batch 8,360  of  11,247.    Elapsed: 0:17:17.\n",
      "  Batch 8,400  of  11,247.    Elapsed: 0:17:22.\n",
      "  Batch 8,440  of  11,247.    Elapsed: 0:17:27.\n",
      "  Batch 8,480  of  11,247.    Elapsed: 0:17:32.\n",
      "  Batch 8,520  of  11,247.    Elapsed: 0:17:36.\n",
      "  Batch 8,560  of  11,247.    Elapsed: 0:17:41.\n",
      "  Batch 8,600  of  11,247.    Elapsed: 0:17:46.\n",
      "  Batch 8,640  of  11,247.    Elapsed: 0:17:51.\n",
      "  Batch 8,680  of  11,247.    Elapsed: 0:17:56.\n",
      "  Batch 8,720  of  11,247.    Elapsed: 0:18:01.\n",
      "  Batch 8,760  of  11,247.    Elapsed: 0:18:06.\n",
      "  Batch 8,800  of  11,247.    Elapsed: 0:18:11.\n",
      "  Batch 8,840  of  11,247.    Elapsed: 0:18:16.\n",
      "  Batch 8,880  of  11,247.    Elapsed: 0:18:21.\n",
      "  Batch 8,920  of  11,247.    Elapsed: 0:18:26.\n",
      "  Batch 8,960  of  11,247.    Elapsed: 0:18:31.\n",
      "  Batch 9,000  of  11,247.    Elapsed: 0:18:36.\n",
      "  Batch 9,040  of  11,247.    Elapsed: 0:18:41.\n",
      "  Batch 9,080  of  11,247.    Elapsed: 0:18:46.\n",
      "  Batch 9,120  of  11,247.    Elapsed: 0:18:51.\n",
      "  Batch 9,160  of  11,247.    Elapsed: 0:18:56.\n",
      "  Batch 9,200  of  11,247.    Elapsed: 0:19:01.\n",
      "  Batch 9,240  of  11,247.    Elapsed: 0:19:06.\n",
      "  Batch 9,280  of  11,247.    Elapsed: 0:19:11.\n",
      "  Batch 9,320  of  11,247.    Elapsed: 0:19:16.\n",
      "  Batch 9,360  of  11,247.    Elapsed: 0:19:21.\n",
      "  Batch 9,400  of  11,247.    Elapsed: 0:19:25.\n",
      "  Batch 9,440  of  11,247.    Elapsed: 0:19:30.\n",
      "  Batch 9,480  of  11,247.    Elapsed: 0:19:35.\n",
      "  Batch 9,520  of  11,247.    Elapsed: 0:19:40.\n",
      "  Batch 9,560  of  11,247.    Elapsed: 0:19:45.\n",
      "  Batch 9,600  of  11,247.    Elapsed: 0:19:50.\n",
      "  Batch 9,640  of  11,247.    Elapsed: 0:19:55.\n",
      "  Batch 9,680  of  11,247.    Elapsed: 0:20:00.\n",
      "  Batch 9,720  of  11,247.    Elapsed: 0:20:05.\n",
      "  Batch 9,760  of  11,247.    Elapsed: 0:20:10.\n",
      "  Batch 9,800  of  11,247.    Elapsed: 0:20:15.\n",
      "  Batch 9,840  of  11,247.    Elapsed: 0:20:20.\n",
      "  Batch 9,880  of  11,247.    Elapsed: 0:20:25.\n",
      "  Batch 9,920  of  11,247.    Elapsed: 0:20:30.\n",
      "  Batch 9,960  of  11,247.    Elapsed: 0:20:35.\n",
      "  Batch 10,000  of  11,247.    Elapsed: 0:20:40.\n",
      "  Batch 10,040  of  11,247.    Elapsed: 0:20:45.\n",
      "  Batch 10,080  of  11,247.    Elapsed: 0:20:50.\n",
      "  Batch 10,120  of  11,247.    Elapsed: 0:20:55.\n",
      "  Batch 10,160  of  11,247.    Elapsed: 0:21:00.\n",
      "  Batch 10,200  of  11,247.    Elapsed: 0:21:05.\n",
      "  Batch 10,240  of  11,247.    Elapsed: 0:21:10.\n",
      "  Batch 10,280  of  11,247.    Elapsed: 0:21:15.\n",
      "  Batch 10,320  of  11,247.    Elapsed: 0:21:20.\n",
      "  Batch 10,360  of  11,247.    Elapsed: 0:21:25.\n",
      "  Batch 10,400  of  11,247.    Elapsed: 0:21:29.\n",
      "  Batch 10,440  of  11,247.    Elapsed: 0:21:34.\n",
      "  Batch 10,480  of  11,247.    Elapsed: 0:21:39.\n",
      "  Batch 10,520  of  11,247.    Elapsed: 0:21:44.\n",
      "  Batch 10,560  of  11,247.    Elapsed: 0:21:49.\n",
      "  Batch 10,600  of  11,247.    Elapsed: 0:21:54.\n",
      "  Batch 10,640  of  11,247.    Elapsed: 0:21:59.\n",
      "  Batch 10,680  of  11,247.    Elapsed: 0:22:04.\n",
      "  Batch 10,720  of  11,247.    Elapsed: 0:22:09.\n",
      "  Batch 10,760  of  11,247.    Elapsed: 0:22:14.\n",
      "  Batch 10,800  of  11,247.    Elapsed: 0:22:19.\n",
      "  Batch 10,840  of  11,247.    Elapsed: 0:22:24.\n",
      "  Batch 10,880  of  11,247.    Elapsed: 0:22:29.\n",
      "  Batch 10,920  of  11,247.    Elapsed: 0:22:34.\n",
      "  Batch 10,960  of  11,247.    Elapsed: 0:22:39.\n",
      "  Batch 11,000  of  11,247.    Elapsed: 0:22:44.\n",
      "  Batch 11,040  of  11,247.    Elapsed: 0:22:48.\n",
      "  Batch 11,080  of  11,247.    Elapsed: 0:22:53.\n",
      "  Batch 11,120  of  11,247.    Elapsed: 0:22:58.\n",
      "  Batch 11,160  of  11,247.    Elapsed: 0:23:03.\n",
      "  Batch 11,200  of  11,247.    Elapsed: 0:23:08.\n",
      "  Batch 11,240  of  11,247.    Elapsed: 0:23:13.\n",
      "\n",
      "  Average training loss: 0.29\n",
      "  Training epcoh took: 0:23:14\n",
      "\n",
      "Running Validation...\n",
      "  Accuracy: 0.73\n",
      "  Validation took: 0:00:38\n",
      "\n",
      "======== Epoch 4 / 4 ========\n",
      "Training...\n",
      "  Batch    40  of  11,247.    Elapsed: 0:00:05.\n",
      "  Batch    80  of  11,247.    Elapsed: 0:00:10.\n",
      "  Batch   120  of  11,247.    Elapsed: 0:00:15.\n",
      "  Batch   160  of  11,247.    Elapsed: 0:00:20.\n",
      "  Batch   200  of  11,247.    Elapsed: 0:00:25.\n",
      "  Batch   240  of  11,247.    Elapsed: 0:00:30.\n",
      "  Batch   280  of  11,247.    Elapsed: 0:00:34.\n",
      "  Batch   320  of  11,247.    Elapsed: 0:00:39.\n",
      "  Batch   360  of  11,247.    Elapsed: 0:00:44.\n",
      "  Batch   400  of  11,247.    Elapsed: 0:00:50.\n",
      "  Batch   440  of  11,247.    Elapsed: 0:00:55.\n",
      "  Batch   480  of  11,247.    Elapsed: 0:01:00.\n",
      "  Batch   520  of  11,247.    Elapsed: 0:01:05.\n",
      "  Batch   560  of  11,247.    Elapsed: 0:01:10.\n",
      "  Batch   600  of  11,247.    Elapsed: 0:01:15.\n",
      "  Batch   640  of  11,247.    Elapsed: 0:01:20.\n",
      "  Batch   680  of  11,247.    Elapsed: 0:01:25.\n",
      "  Batch   720  of  11,247.    Elapsed: 0:01:30.\n",
      "  Batch   760  of  11,247.    Elapsed: 0:01:35.\n",
      "  Batch   800  of  11,247.    Elapsed: 0:01:40.\n",
      "  Batch   840  of  11,247.    Elapsed: 0:01:45.\n",
      "  Batch   880  of  11,247.    Elapsed: 0:01:50.\n",
      "  Batch   920  of  11,247.    Elapsed: 0:01:55.\n",
      "  Batch   960  of  11,247.    Elapsed: 0:02:00.\n",
      "  Batch 1,000  of  11,247.    Elapsed: 0:02:05.\n",
      "  Batch 1,040  of  11,247.    Elapsed: 0:02:09.\n",
      "  Batch 1,080  of  11,247.    Elapsed: 0:02:14.\n",
      "  Batch 1,120  of  11,247.    Elapsed: 0:02:19.\n",
      "  Batch 1,160  of  11,247.    Elapsed: 0:02:24.\n",
      "  Batch 1,200  of  11,247.    Elapsed: 0:02:29.\n",
      "  Batch 1,240  of  11,247.    Elapsed: 0:02:34.\n",
      "  Batch 1,280  of  11,247.    Elapsed: 0:02:40.\n",
      "  Batch 1,320  of  11,247.    Elapsed: 0:02:44.\n",
      "  Batch 1,360  of  11,247.    Elapsed: 0:02:49.\n",
      "  Batch 1,400  of  11,247.    Elapsed: 0:02:54.\n",
      "  Batch 1,440  of  11,247.    Elapsed: 0:02:59.\n",
      "  Batch 1,480  of  11,247.    Elapsed: 0:03:04.\n",
      "  Batch 1,520  of  11,247.    Elapsed: 0:03:09.\n",
      "  Batch 1,560  of  11,247.    Elapsed: 0:03:14.\n",
      "  Batch 1,600  of  11,247.    Elapsed: 0:03:19.\n",
      "  Batch 1,640  of  11,247.    Elapsed: 0:03:24.\n",
      "  Batch 1,680  of  11,247.    Elapsed: 0:03:29.\n",
      "  Batch 1,720  of  11,247.    Elapsed: 0:03:34.\n",
      "  Batch 1,760  of  11,247.    Elapsed: 0:03:39.\n",
      "  Batch 1,800  of  11,247.    Elapsed: 0:03:44.\n",
      "  Batch 1,840  of  11,247.    Elapsed: 0:03:49.\n",
      "  Batch 1,880  of  11,247.    Elapsed: 0:03:54.\n",
      "  Batch 1,920  of  11,247.    Elapsed: 0:03:59.\n",
      "  Batch 1,960  of  11,247.    Elapsed: 0:04:04.\n",
      "  Batch 2,000  of  11,247.    Elapsed: 0:04:09.\n",
      "  Batch 2,040  of  11,247.    Elapsed: 0:04:13.\n",
      "  Batch 2,080  of  11,247.    Elapsed: 0:04:18.\n",
      "  Batch 2,120  of  11,247.    Elapsed: 0:04:23.\n",
      "  Batch 2,160  of  11,247.    Elapsed: 0:04:28.\n",
      "  Batch 2,200  of  11,247.    Elapsed: 0:04:33.\n",
      "  Batch 2,240  of  11,247.    Elapsed: 0:04:38.\n",
      "  Batch 2,280  of  11,247.    Elapsed: 0:04:43.\n",
      "  Batch 2,320  of  11,247.    Elapsed: 0:04:48.\n",
      "  Batch 2,360  of  11,247.    Elapsed: 0:04:53.\n",
      "  Batch 2,400  of  11,247.    Elapsed: 0:04:58.\n",
      "  Batch 2,440  of  11,247.    Elapsed: 0:05:03.\n",
      "  Batch 2,480  of  11,247.    Elapsed: 0:05:08.\n",
      "  Batch 2,520  of  11,247.    Elapsed: 0:05:13.\n",
      "  Batch 2,560  of  11,247.    Elapsed: 0:05:18.\n",
      "  Batch 2,600  of  11,247.    Elapsed: 0:05:23.\n",
      "  Batch 2,640  of  11,247.    Elapsed: 0:05:28.\n",
      "  Batch 2,680  of  11,247.    Elapsed: 0:05:33.\n",
      "  Batch 2,720  of  11,247.    Elapsed: 0:05:37.\n",
      "  Batch 2,760  of  11,247.    Elapsed: 0:05:42.\n",
      "  Batch 2,800  of  11,247.    Elapsed: 0:05:47.\n",
      "  Batch 2,840  of  11,247.    Elapsed: 0:05:52.\n",
      "  Batch 2,880  of  11,247.    Elapsed: 0:05:57.\n",
      "  Batch 2,920  of  11,247.    Elapsed: 0:06:02.\n",
      "  Batch 2,960  of  11,247.    Elapsed: 0:06:07.\n",
      "  Batch 3,000  of  11,247.    Elapsed: 0:06:12.\n",
      "  Batch 3,040  of  11,247.    Elapsed: 0:06:17.\n",
      "  Batch 3,080  of  11,247.    Elapsed: 0:06:22.\n",
      "  Batch 3,120  of  11,247.    Elapsed: 0:06:27.\n",
      "  Batch 3,160  of  11,247.    Elapsed: 0:06:32.\n",
      "  Batch 3,200  of  11,247.    Elapsed: 0:06:37.\n",
      "  Batch 3,240  of  11,247.    Elapsed: 0:06:42.\n",
      "  Batch 3,280  of  11,247.    Elapsed: 0:06:47.\n",
      "  Batch 3,320  of  11,247.    Elapsed: 0:06:51.\n",
      "  Batch 3,360  of  11,247.    Elapsed: 0:06:56.\n",
      "  Batch 3,400  of  11,247.    Elapsed: 0:07:01.\n",
      "  Batch 3,440  of  11,247.    Elapsed: 0:07:06.\n",
      "  Batch 3,480  of  11,247.    Elapsed: 0:07:11.\n",
      "  Batch 3,520  of  11,247.    Elapsed: 0:07:16.\n",
      "  Batch 3,560  of  11,247.    Elapsed: 0:07:21.\n",
      "  Batch 3,600  of  11,247.    Elapsed: 0:07:26.\n",
      "  Batch 3,640  of  11,247.    Elapsed: 0:07:31.\n",
      "  Batch 3,680  of  11,247.    Elapsed: 0:07:36.\n",
      "  Batch 3,720  of  11,247.    Elapsed: 0:07:41.\n",
      "  Batch 3,760  of  11,247.    Elapsed: 0:07:46.\n",
      "  Batch 3,800  of  11,247.    Elapsed: 0:07:51.\n",
      "  Batch 3,840  of  11,247.    Elapsed: 0:07:56.\n",
      "  Batch 3,880  of  11,247.    Elapsed: 0:08:01.\n",
      "  Batch 3,920  of  11,247.    Elapsed: 0:08:06.\n",
      "  Batch 3,960  of  11,247.    Elapsed: 0:08:11.\n",
      "  Batch 4,000  of  11,247.    Elapsed: 0:08:15.\n",
      "  Batch 4,040  of  11,247.    Elapsed: 0:08:20.\n",
      "  Batch 4,080  of  11,247.    Elapsed: 0:08:25.\n",
      "  Batch 4,120  of  11,247.    Elapsed: 0:08:30.\n",
      "  Batch 4,160  of  11,247.    Elapsed: 0:08:35.\n",
      "  Batch 4,200  of  11,247.    Elapsed: 0:08:40.\n",
      "  Batch 4,240  of  11,247.    Elapsed: 0:08:45.\n",
      "  Batch 4,280  of  11,247.    Elapsed: 0:08:50.\n",
      "  Batch 4,320  of  11,247.    Elapsed: 0:08:55.\n",
      "  Batch 4,360  of  11,247.    Elapsed: 0:09:00.\n",
      "  Batch 4,400  of  11,247.    Elapsed: 0:09:05.\n",
      "  Batch 4,440  of  11,247.    Elapsed: 0:09:10.\n",
      "  Batch 4,480  of  11,247.    Elapsed: 0:09:15.\n",
      "  Batch 4,520  of  11,247.    Elapsed: 0:09:20.\n",
      "  Batch 4,560  of  11,247.    Elapsed: 0:09:24.\n",
      "  Batch 4,600  of  11,247.    Elapsed: 0:09:29.\n",
      "  Batch 4,640  of  11,247.    Elapsed: 0:09:34.\n",
      "  Batch 4,680  of  11,247.    Elapsed: 0:09:39.\n",
      "  Batch 4,720  of  11,247.    Elapsed: 0:09:44.\n",
      "  Batch 4,760  of  11,247.    Elapsed: 0:09:49.\n",
      "  Batch 4,800  of  11,247.    Elapsed: 0:09:54.\n",
      "  Batch 4,840  of  11,247.    Elapsed: 0:09:59.\n",
      "  Batch 4,880  of  11,247.    Elapsed: 0:10:04.\n",
      "  Batch 4,920  of  11,247.    Elapsed: 0:10:09.\n",
      "  Batch 4,960  of  11,247.    Elapsed: 0:10:14.\n",
      "  Batch 5,000  of  11,247.    Elapsed: 0:10:19.\n",
      "  Batch 5,040  of  11,247.    Elapsed: 0:10:24.\n",
      "  Batch 5,080  of  11,247.    Elapsed: 0:10:29.\n",
      "  Batch 5,120  of  11,247.    Elapsed: 0:10:34.\n",
      "  Batch 5,160  of  11,247.    Elapsed: 0:10:39.\n",
      "  Batch 5,200  of  11,247.    Elapsed: 0:10:43.\n",
      "  Batch 5,240  of  11,247.    Elapsed: 0:10:48.\n",
      "  Batch 5,280  of  11,247.    Elapsed: 0:10:53.\n",
      "  Batch 5,320  of  11,247.    Elapsed: 0:10:58.\n",
      "  Batch 5,360  of  11,247.    Elapsed: 0:11:03.\n",
      "  Batch 5,400  of  11,247.    Elapsed: 0:11:08.\n",
      "  Batch 5,440  of  11,247.    Elapsed: 0:11:13.\n",
      "  Batch 5,480  of  11,247.    Elapsed: 0:11:18.\n",
      "  Batch 5,520  of  11,247.    Elapsed: 0:11:23.\n",
      "  Batch 5,560  of  11,247.    Elapsed: 0:11:28.\n",
      "  Batch 5,600  of  11,247.    Elapsed: 0:11:33.\n",
      "  Batch 5,640  of  11,247.    Elapsed: 0:11:38.\n",
      "  Batch 5,680  of  11,247.    Elapsed: 0:11:43.\n",
      "  Batch 5,720  of  11,247.    Elapsed: 0:11:48.\n",
      "  Batch 5,760  of  11,247.    Elapsed: 0:11:53.\n",
      "  Batch 5,800  of  11,247.    Elapsed: 0:11:58.\n",
      "  Batch 5,840  of  11,247.    Elapsed: 0:12:03.\n",
      "  Batch 5,880  of  11,247.    Elapsed: 0:12:08.\n",
      "  Batch 5,920  of  11,247.    Elapsed: 0:12:12.\n",
      "  Batch 5,960  of  11,247.    Elapsed: 0:12:17.\n",
      "  Batch 6,000  of  11,247.    Elapsed: 0:12:22.\n",
      "  Batch 6,040  of  11,247.    Elapsed: 0:12:27.\n",
      "  Batch 6,080  of  11,247.    Elapsed: 0:12:32.\n",
      "  Batch 6,120  of  11,247.    Elapsed: 0:12:37.\n",
      "  Batch 6,160  of  11,247.    Elapsed: 0:12:42.\n",
      "  Batch 6,200  of  11,247.    Elapsed: 0:12:47.\n",
      "  Batch 6,240  of  11,247.    Elapsed: 0:12:52.\n",
      "  Batch 6,280  of  11,247.    Elapsed: 0:12:57.\n",
      "  Batch 6,320  of  11,247.    Elapsed: 0:13:02.\n",
      "  Batch 6,360  of  11,247.    Elapsed: 0:13:07.\n",
      "  Batch 6,400  of  11,247.    Elapsed: 0:13:12.\n",
      "  Batch 6,440  of  11,247.    Elapsed: 0:13:17.\n",
      "  Batch 6,480  of  11,247.    Elapsed: 0:13:22.\n",
      "  Batch 6,520  of  11,247.    Elapsed: 0:13:27.\n",
      "  Batch 6,560  of  11,247.    Elapsed: 0:13:31.\n",
      "  Batch 6,600  of  11,247.    Elapsed: 0:13:36.\n",
      "  Batch 6,640  of  11,247.    Elapsed: 0:13:41.\n",
      "  Batch 6,680  of  11,247.    Elapsed: 0:13:46.\n",
      "  Batch 6,720  of  11,247.    Elapsed: 0:13:51.\n",
      "  Batch 6,760  of  11,247.    Elapsed: 0:13:56.\n",
      "  Batch 6,800  of  11,247.    Elapsed: 0:14:01.\n",
      "  Batch 6,840  of  11,247.    Elapsed: 0:14:06.\n",
      "  Batch 6,880  of  11,247.    Elapsed: 0:14:11.\n",
      "  Batch 6,920  of  11,247.    Elapsed: 0:14:16.\n",
      "  Batch 6,960  of  11,247.    Elapsed: 0:14:21.\n",
      "  Batch 7,000  of  11,247.    Elapsed: 0:14:26.\n",
      "  Batch 7,040  of  11,247.    Elapsed: 0:14:31.\n",
      "  Batch 7,080  of  11,247.    Elapsed: 0:14:36.\n",
      "  Batch 7,120  of  11,247.    Elapsed: 0:14:41.\n",
      "  Batch 7,160  of  11,247.    Elapsed: 0:14:46.\n",
      "  Batch 7,200  of  11,247.    Elapsed: 0:14:51.\n",
      "  Batch 7,240  of  11,247.    Elapsed: 0:14:55.\n",
      "  Batch 7,280  of  11,247.    Elapsed: 0:15:00.\n",
      "  Batch 7,320  of  11,247.    Elapsed: 0:15:05.\n",
      "  Batch 7,360  of  11,247.    Elapsed: 0:15:10.\n",
      "  Batch 7,400  of  11,247.    Elapsed: 0:15:15.\n",
      "  Batch 7,440  of  11,247.    Elapsed: 0:15:20.\n",
      "  Batch 7,480  of  11,247.    Elapsed: 0:15:25.\n",
      "  Batch 7,520  of  11,247.    Elapsed: 0:15:30.\n",
      "  Batch 7,560  of  11,247.    Elapsed: 0:15:35.\n",
      "  Batch 7,600  of  11,247.    Elapsed: 0:15:40.\n",
      "  Batch 7,640  of  11,247.    Elapsed: 0:15:45.\n",
      "  Batch 7,680  of  11,247.    Elapsed: 0:15:50.\n",
      "  Batch 7,720  of  11,247.    Elapsed: 0:15:55.\n",
      "  Batch 7,760  of  11,247.    Elapsed: 0:16:00.\n",
      "  Batch 7,800  of  11,247.    Elapsed: 0:16:05.\n",
      "  Batch 7,840  of  11,247.    Elapsed: 0:16:10.\n",
      "  Batch 7,880  of  11,247.    Elapsed: 0:16:15.\n",
      "  Batch 7,920  of  11,247.    Elapsed: 0:16:19.\n",
      "  Batch 7,960  of  11,247.    Elapsed: 0:16:24.\n",
      "  Batch 8,000  of  11,247.    Elapsed: 0:16:29.\n",
      "  Batch 8,040  of  11,247.    Elapsed: 0:16:34.\n",
      "  Batch 8,080  of  11,247.    Elapsed: 0:16:39.\n",
      "  Batch 8,120  of  11,247.    Elapsed: 0:16:44.\n",
      "  Batch 8,160  of  11,247.    Elapsed: 0:16:49.\n",
      "  Batch 8,200  of  11,247.    Elapsed: 0:16:54.\n",
      "  Batch 8,240  of  11,247.    Elapsed: 0:16:59.\n",
      "  Batch 8,280  of  11,247.    Elapsed: 0:17:04.\n",
      "  Batch 8,320  of  11,247.    Elapsed: 0:17:09.\n",
      "  Batch 8,360  of  11,247.    Elapsed: 0:17:14.\n",
      "  Batch 8,400  of  11,247.    Elapsed: 0:17:19.\n",
      "  Batch 8,440  of  11,247.    Elapsed: 0:17:24.\n",
      "  Batch 8,480  of  11,247.    Elapsed: 0:17:29.\n",
      "  Batch 8,520  of  11,247.    Elapsed: 0:17:34.\n",
      "  Batch 8,560  of  11,247.    Elapsed: 0:17:39.\n",
      "  Batch 8,600  of  11,247.    Elapsed: 0:17:44.\n",
      "  Batch 8,640  of  11,247.    Elapsed: 0:17:49.\n",
      "  Batch 8,680  of  11,247.    Elapsed: 0:17:54.\n",
      "  Batch 8,720  of  11,247.    Elapsed: 0:17:58.\n",
      "  Batch 8,760  of  11,247.    Elapsed: 0:18:03.\n",
      "  Batch 8,800  of  11,247.    Elapsed: 0:18:08.\n",
      "  Batch 8,840  of  11,247.    Elapsed: 0:18:13.\n",
      "  Batch 8,880  of  11,247.    Elapsed: 0:18:18.\n",
      "  Batch 8,920  of  11,247.    Elapsed: 0:18:23.\n",
      "  Batch 8,960  of  11,247.    Elapsed: 0:18:28.\n",
      "  Batch 9,000  of  11,247.    Elapsed: 0:18:33.\n",
      "  Batch 9,040  of  11,247.    Elapsed: 0:18:38.\n",
      "  Batch 9,080  of  11,247.    Elapsed: 0:18:43.\n",
      "  Batch 9,120  of  11,247.    Elapsed: 0:18:48.\n",
      "  Batch 9,160  of  11,247.    Elapsed: 0:18:53.\n",
      "  Batch 9,200  of  11,247.    Elapsed: 0:18:58.\n",
      "  Batch 9,240  of  11,247.    Elapsed: 0:19:03.\n",
      "  Batch 9,280  of  11,247.    Elapsed: 0:19:08.\n",
      "  Batch 9,320  of  11,247.    Elapsed: 0:19:13.\n",
      "  Batch 9,360  of  11,247.    Elapsed: 0:19:18.\n",
      "  Batch 9,400  of  11,247.    Elapsed: 0:19:23.\n",
      "  Batch 9,440  of  11,247.    Elapsed: 0:19:28.\n",
      "  Batch 9,480  of  11,247.    Elapsed: 0:19:33.\n",
      "  Batch 9,520  of  11,247.    Elapsed: 0:19:38.\n",
      "  Batch 9,560  of  11,247.    Elapsed: 0:19:43.\n",
      "  Batch 9,600  of  11,247.    Elapsed: 0:19:48.\n",
      "  Batch 9,640  of  11,247.    Elapsed: 0:19:52.\n",
      "  Batch 9,680  of  11,247.    Elapsed: 0:19:57.\n",
      "  Batch 9,720  of  11,247.    Elapsed: 0:20:02.\n",
      "  Batch 9,760  of  11,247.    Elapsed: 0:20:07.\n",
      "  Batch 9,800  of  11,247.    Elapsed: 0:20:12.\n",
      "  Batch 9,840  of  11,247.    Elapsed: 0:20:17.\n",
      "  Batch 9,880  of  11,247.    Elapsed: 0:20:22.\n",
      "  Batch 9,920  of  11,247.    Elapsed: 0:20:27.\n",
      "  Batch 9,960  of  11,247.    Elapsed: 0:20:32.\n",
      "  Batch 10,000  of  11,247.    Elapsed: 0:20:37.\n",
      "  Batch 10,040  of  11,247.    Elapsed: 0:20:42.\n",
      "  Batch 10,080  of  11,247.    Elapsed: 0:20:47.\n",
      "  Batch 10,120  of  11,247.    Elapsed: 0:20:52.\n",
      "  Batch 10,160  of  11,247.    Elapsed: 0:20:57.\n",
      "  Batch 10,200  of  11,247.    Elapsed: 0:21:02.\n",
      "  Batch 10,240  of  11,247.    Elapsed: 0:21:07.\n",
      "  Batch 10,280  of  11,247.    Elapsed: 0:21:11.\n",
      "  Batch 10,320  of  11,247.    Elapsed: 0:21:16.\n",
      "  Batch 10,360  of  11,247.    Elapsed: 0:21:21.\n",
      "  Batch 10,400  of  11,247.    Elapsed: 0:21:26.\n",
      "  Batch 10,440  of  11,247.    Elapsed: 0:21:31.\n",
      "  Batch 10,480  of  11,247.    Elapsed: 0:21:36.\n",
      "  Batch 10,520  of  11,247.    Elapsed: 0:21:41.\n",
      "  Batch 10,560  of  11,247.    Elapsed: 0:21:46.\n",
      "  Batch 10,600  of  11,247.    Elapsed: 0:21:51.\n",
      "  Batch 10,640  of  11,247.    Elapsed: 0:21:56.\n",
      "  Batch 10,680  of  11,247.    Elapsed: 0:22:01.\n",
      "  Batch 10,720  of  11,247.    Elapsed: 0:22:06.\n",
      "  Batch 10,760  of  11,247.    Elapsed: 0:22:11.\n",
      "  Batch 10,800  of  11,247.    Elapsed: 0:22:16.\n",
      "  Batch 10,840  of  11,247.    Elapsed: 0:22:21.\n",
      "  Batch 10,880  of  11,247.    Elapsed: 0:22:26.\n",
      "  Batch 10,920  of  11,247.    Elapsed: 0:22:31.\n",
      "  Batch 10,960  of  11,247.    Elapsed: 0:22:35.\n",
      "  Batch 11,000  of  11,247.    Elapsed: 0:22:40.\n",
      "  Batch 11,040  of  11,247.    Elapsed: 0:22:45.\n",
      "  Batch 11,080  of  11,247.    Elapsed: 0:22:50.\n",
      "  Batch 11,120  of  11,247.    Elapsed: 0:22:55.\n",
      "  Batch 11,160  of  11,247.    Elapsed: 0:23:00.\n",
      "  Batch 11,200  of  11,247.    Elapsed: 0:23:05.\n",
      "  Batch 11,240  of  11,247.    Elapsed: 0:23:10.\n",
      "\n",
      "  Average training loss: 0.23\n",
      "  Training epcoh took: 0:23:11\n",
      "\n",
      "Running Validation...\n",
      "  Accuracy: 0.73\n",
      "  Validation took: 0:00:38\n",
      "\n",
      "Training complete!\n"
     ]
    }
   ],
   "source": [
    "import random\n",
    "\n",
    "# This training code is based on the `run_glue.py` script here:\n",
    "# https://github.com/huggingface/transformers/blob/5bfcd0485ece086ebcbed2d008813037968a9e58/examples/run_glue.py#L128\n",
    "\n",
    "\n",
    "# Set the seed value all over the place to make this reproducible.\n",
    "seed_val = 42\n",
    "\n",
    "random.seed(seed_val)\n",
    "np.random.seed(seed_val)\n",
    "torch.manual_seed(seed_val)\n",
    "torch.cuda.manual_seed_all(seed_val)\n",
    "\n",
    "# Store the average loss after each epoch so we can plot them.\n",
    "loss_values = []\n",
    "\n",
    "# For each epoch...\n",
    "for epoch_i in range(0, epochs):\n",
    "    \n",
    "    # ========================================\n",
    "    #               Training\n",
    "    # ========================================\n",
    "    \n",
    "    # Perform one full pass over the training set.\n",
    "\n",
    "    print(\"\")\n",
    "    print('======== Epoch {:} / {:} ========'.format(epoch_i + 1, epochs))\n",
    "    print('Training...')\n",
    "\n",
    "    # Measure how long the training epoch takes.\n",
    "    t0 = time.time()\n",
    "\n",
    "    # Reset the total loss for this epoch.\n",
    "    total_loss = 0\n",
    "\n",
    "    # Put the model into training mode. Don't be mislead--the call to \n",
    "    # `train` just changes the *mode*, it doesn't *perform* the training.\n",
    "    # `dropout` and `batchnorm` layers behave differently during training\n",
    "    # vs. test (source: https://stackoverflow.com/questions/51433378/what-does-model-train-do-in-pytorch)\n",
    "    model.train()\n",
    "\n",
    "    # For each batch of training data...\n",
    "    for step, batch in enumerate(train_dataloader):\n",
    "\n",
    "        # Progress update every 40 batches.\n",
    "        if step % 40 == 0 and not step == 0:\n",
    "            # Calculate elapsed time in minutes.\n",
    "            elapsed = format_time(time.time() - t0)\n",
    "            \n",
    "            # Report progress.\n",
    "            print('  Batch {:>5,}  of  {:>5,}.    Elapsed: {:}.'.format(step, len(train_dataloader), elapsed))\n",
    "\n",
    "        # Unpack this training batch from our dataloader. \n",
    "        #\n",
    "        # As we unpack the batch, we'll also copy each tensor to the GPU using the \n",
    "        # `to` method.\n",
    "        #\n",
    "        # `batch` contains three pytorch tensors:\n",
    "        #   [0]: input ids \n",
    "        #   [1]: attention masks\n",
    "        #   [2]: labels \n",
    "        b_input_ids = batch[0].to(device)\n",
    "        b_input_mask = batch[1].to(device)\n",
    "        b_labels = batch[2].to(device)\n",
    "\n",
    "        # Always clear any previously calculated gradients before performing a\n",
    "        # backward pass. PyTorch doesn't do this automatically because \n",
    "        # accumulating the gradients is \"convenient while training RNNs\". \n",
    "        # (source: https://stackoverflow.com/questions/48001598/why-do-we-need-to-call-zero-grad-in-pytorch)\n",
    "        model.zero_grad()        \n",
    "\n",
    "        # Perform a forward pass (evaluate the model on this training batch).\n",
    "        # This will return the loss (rather than the model output) because we\n",
    "        # have provided the `labels`.\n",
    "        # The documentation for this `model` function is here: \n",
    "        # https://huggingface.co/transformers/v2.2.0/model_doc/bert.html#transformers.BertForSequenceClassification\n",
    "        outputs = model(b_input_ids,\n",
    "                    attention_mask=b_input_mask, \n",
    "                    labels=b_labels)\n",
    "        \n",
    "        # The call to `model` always returns a tuple, so we need to pull the \n",
    "        # loss value out of the tuple.\n",
    "        loss = outputs[0]\n",
    "\n",
    "        # Accumulate the training loss over all of the batches so that we can\n",
    "        # calculate the average loss at the end. `loss` is a Tensor containing a\n",
    "        # single value; the `.item()` function just returns the Python value \n",
    "        # from the tensor.\n",
    "        total_loss += loss.item()\n",
    "\n",
    "        # Perform a backward pass to calculate the gradients.\n",
    "        loss.backward()\n",
    "\n",
    "        # Clip the norm of the gradients to 1.0.\n",
    "        # This is to help prevent the \"exploding gradients\" problem.\n",
    "        torch.nn.utils.clip_grad_norm_(model.parameters(), 1.0)\n",
    "\n",
    "        # Update parameters and take a step using the computed gradient.\n",
    "        # The optimizer dictates the \"update rule\"--how the parameters are\n",
    "        # modified based on their gradients, the learning rate, etc.\n",
    "        optimizer.step()\n",
    "\n",
    "        # Update the learning rate.\n",
    "        scheduler.step()\n",
    "\n",
    "    # Calculate the average loss over the training data.\n",
    "    avg_train_loss = total_loss / len(train_dataloader)            \n",
    "    \n",
    "    # Store the loss value for plotting the learning curve.\n",
    "    loss_values.append(avg_train_loss)\n",
    "\n",
    "    print(\"\")\n",
    "    print(\"  Average training loss: {0:.2f}\".format(avg_train_loss))\n",
    "    print(\"  Training epcoh took: {:}\".format(format_time(time.time() - t0)))\n",
    "        \n",
    "    # ========================================\n",
    "    #               Validation\n",
    "    # ========================================\n",
    "    # After the completion of each training epoch, measure our performance on\n",
    "    # our validation set.\n",
    "\n",
    "    print(\"\")\n",
    "    print(\"Running Validation...\")\n",
    "\n",
    "    t0 = time.time()\n",
    "\n",
    "    # Put the model in evaluation mode--the dropout layers behave differently\n",
    "    # during evaluation.\n",
    "    model.eval()\n",
    "\n",
    "    # Tracking variables \n",
    "    eval_loss, eval_accuracy = 0, 0\n",
    "    nb_eval_steps, nb_eval_examples = 0, 0\n",
    "\n",
    "    # Evaluate data for one epoch\n",
    "    for batch in validation_dataloader:\n",
    "        \n",
    "        # Add batch to GPU\n",
    "        batch = tuple(t.to(device) for t in batch)\n",
    "        \n",
    "        # Unpack the inputs from our dataloader\n",
    "        b_input_ids, b_input_mask, b_labels = batch\n",
    "        \n",
    "        # Telling the model not to compute or store gradients, saving memory and\n",
    "        # speeding up validation\n",
    "        with torch.no_grad():        \n",
    "\n",
    "            # Forward pass, calculate logit predictions.\n",
    "            # This will return the logits rather than the loss because we have\n",
    "            # not provided labels.\n",
    "            # token_type_ids is the same as the \"segment ids\", which \n",
    "            # differentiates sentence 1 and 2 in 2-sentence tasks.\n",
    "            # The documentation for this `model` function is here: \n",
    "            # https://huggingface.co/transformers/v2.2.0/model_doc/bert.html#transformers.BertForSequenceClassification\n",
    "            outputs = model(b_input_ids,\n",
    "                            attention_mask=b_input_mask)\n",
    "        \n",
    "        # Get the \"logits\" output by the model. The \"logits\" are the output\n",
    "        # values prior to applying an activation function like the softmax.\n",
    "        logits = outputs[0]\n",
    "\n",
    "        # Move logits and labels to CPU\n",
    "        logits = logits.detach().cpu().numpy()\n",
    "        label_ids = b_labels.to('cpu').numpy()\n",
    "        \n",
    "        # Calculate the accuracy for this batch of test sentences.\n",
    "        tmp_eval_accuracy = flat_accuracy(logits, label_ids)\n",
    "        \n",
    "        # Accumulate the total accuracy.\n",
    "        eval_accuracy += tmp_eval_accuracy\n",
    "\n",
    "        # Track the number of batches\n",
    "        nb_eval_steps += 1\n",
    "\n",
    "    # Report the final accuracy for this validation run.\n",
    "    print(\"  Accuracy: {0:.2f}\".format(eval_accuracy/nb_eval_steps))\n",
    "    print(\"  Validation took: {:}\".format(format_time(time.time() - t0)))\n",
    "\n",
    "print(\"\")\n",
    "print(\"Training complete!\")"
   ]
  },
  {
   "cell_type": "markdown",
   "metadata": {
    "id": "1-G03mmwH3aI"
   },
   "source": [
    "Let's take a look at our training loss over all batches:"
   ]
  },
  {
   "cell_type": "code",
   "execution_count": 41,
   "metadata": {
    "colab": {
     "base_uri": "https://localhost:8080/",
     "height": 427
    },
    "id": "68xreA9JAmG5",
    "outputId": "7e4cc7cc-1327-47da-dae3-6095fce65551"
   },
   "outputs": [
    {
     "data": {
      "image/png": "[encoded data removed]",
      "text/plain": [
       "<Figure size 864x432 with 1 Axes>"
      ]
     },
     "metadata": {},
     "output_type": "display_data"
    }
   ],
   "source": [
    "import matplotlib.pyplot as plt\n",
    "%matplotlib inline\n",
    "\n",
    "import seaborn as sns\n",
    "\n",
    "# Use plot styling from seaborn.\n",
    "sns.set(style='darkgrid')\n",
    "\n",
    "# Increase the plot size and font size.\n",
    "sns.set(font_scale=1.5)\n",
    "plt.rcParams[\"figure.figsize\"] = (12,6)\n",
    "\n",
    "# Plot the learning curve.\n",
    "plt.plot(loss_values, 'b-o')\n",
    "\n",
    "# Label the plot.\n",
    "plt.title(\"Training loss\")\n",
    "\n",
    "plt.xlabel(\"Epoch\")\n",
    "plt.ylabel(\"Loss\")\n",
    "\n",
    "plt.show()"
   ]
  },
  {
   "cell_type": "markdown",
   "metadata": {
    "id": "mkyubuJSOzg3"
   },
   "source": [
    "# 5. Performance On Test Set"
   ]
  },
  {
   "cell_type": "markdown",
   "metadata": {
    "id": "DosV94BYIYxg"
   },
   "source": [
    "Now we'll load the holdout dataset and prepare inputs just as we did with the training set. Then we'll evaluate predictions using [Matthew's correlation coefficient](https://scikit-learn.org/stable/modules/generated/sklearn.metrics.matthews_corrcoef.html) because this is the metric used by the wider NLP community to evaluate performance on CoLA. With this metric, +1 is the best score, and -1 is the worst score. This way, we can see how well we perform against the state of the art models for this specific task."
   ]
  },
  {
   "cell_type": "markdown",
   "metadata": {
    "id": "Tg42jJqqM68F"
   },
   "source": [
    "### 5.1. Data Preparation\n"
   ]
  },
  {
   "cell_type": "markdown",
   "metadata": {
    "id": "xWe0_JW21MyV"
   },
   "source": [
    "\n",
    "We'll need to apply all of the same steps that we did for the training data to prepare our test data set."
   ]
  },
  {
   "cell_type": "code",
   "execution_count": 42,
   "metadata": {},
   "outputs": [
    {
     "name": "stdout",
     "output_type": "stream",
     "text": [
      "Number of test sentences: 10,000\n",
      "\n"
     ]
    }
   ],
   "source": [
    "df_test = pd.read_csv(\"data/train-balanced-sarcasm.csv\")[['label','comment']].dropna().sample(10000)\n",
    "print('Number of test sentences: {:,}\\n'.format(df_test.shape[0]))"
   ]
  },
  {
   "cell_type": "code",
   "execution_count": 43,
   "metadata": {},
   "outputs": [],
   "source": [
    "test_sentences = df_test.comment.values\n",
    "test_labels = df_test.label.values"
   ]
  },
  {
   "cell_type": "code",
   "execution_count": 44,
   "metadata": {
    "colab": {
     "base_uri": "https://localhost:8080/",
     "height": 52
    },
    "id": "mAN0LZBOOPVh",
    "outputId": "975b17e9-c906-4f59-bf93-a9b55374548e"
   },
   "outputs": [],
   "source": [
    "# Tokenize all of the sentences and map the tokens to thier word IDs.\n",
    "input_ids = []\n",
    "\n",
    "# For every sentence...\n",
    "for sent in test_sentences:\n",
    "    # `encode` will:\n",
    "    #   (1) Tokenize the sentence.\n",
    "    #   (2) Prepend the `[CLS]` token to the start.\n",
    "    #   (3) Append the `[SEP]` token to the end.\n",
    "    #   (4) Map tokens to their IDs.\n",
    "    encoded_sent = tokenizer.encode(\n",
    "                        sent,                      # Sentence to encode.\n",
    "                        add_special_tokens = True, # Add '[CLS]' and '[SEP]'\n",
    "                   )\n",
    "    \n",
    "    input_ids.append(encoded_sent)\n",
    "\n",
    "# Pad our input tokens\n",
    "input_ids = pad_sequences(input_ids, maxlen=MAX_LEN, \n",
    "                          dtype=\"long\", truncating=\"post\", padding=\"post\")\n",
    "\n",
    "# Create attention masks\n",
    "attention_masks = []\n",
    "\n",
    "# Create a mask of 1s for each token followed by 0s for padding\n",
    "for seq in input_ids:\n",
    "    seq_mask = [float(i>0) for i in seq]\n",
    "    attention_masks.append(seq_mask) \n",
    "\n",
    "# Convert to tensors.\n",
    "prediction_inputs = torch.tensor(input_ids).type(torch.LongTensor)\n",
    "prediction_masks = torch.tensor(attention_masks)\n",
    "prediction_labels = torch.tensor(test_labels)\n",
    "\n",
    "# Set the batch size.  \n",
    "batch_size = 8  \n",
    "\n",
    "# Create the DataLoader.\n",
    "prediction_data = TensorDataset(prediction_inputs, prediction_masks, prediction_labels)\n",
    "prediction_sampler = SequentialSampler(prediction_data)\n",
    "prediction_dataloader = DataLoader(prediction_data, sampler=prediction_sampler, batch_size=batch_size)"
   ]
  },
  {
   "cell_type": "markdown",
   "metadata": {
    "id": "16lctEOyNFik"
   },
   "source": [
    "## 5.2. Evaluate on Test Set\n"
   ]
  },
  {
   "cell_type": "markdown",
   "metadata": {
    "id": "rhR99IISNMg9"
   },
   "source": [
    "\n",
    "With the test set prepared, we can apply our fine-tuned model to generate predictions on the test set."
   ]
  },
  {
   "cell_type": "code",
   "execution_count": 46,
   "metadata": {
    "colab": {
     "base_uri": "https://localhost:8080/",
     "height": 52
    },
    "id": "Hba10sXR7Xi6",
    "outputId": "418390e2-b264-402f-9834-87d2e56f3ff7"
   },
   "outputs": [
    {
     "name": "stdout",
     "output_type": "stream",
     "text": [
      "Predicting labels for 10,000 test sentences...\n",
      "    DONE.\n"
     ]
    }
   ],
   "source": [
    "# Prediction on test set\n",
    "\n",
    "print('Predicting labels for {:,} test sentences...'.format(len(prediction_inputs)))\n",
    "\n",
    "# Put model in evaluation mode\n",
    "model.eval()\n",
    "\n",
    "# Tracking variables \n",
    "predictions , true_labels = [], []\n",
    "\n",
    "# Predict \n",
    "for batch in prediction_dataloader:\n",
    "    # Add batch to GPU\n",
    "    batch = tuple(t.to(device) for t in batch)\n",
    "  \n",
    "    # Unpack the inputs from our dataloader\n",
    "    b_input_ids, b_input_mask, b_labels = batch\n",
    "  \n",
    "    # Telling the model not to compute or store gradients, saving memory and \n",
    "    # speeding up prediction\n",
    "    with torch.no_grad():\n",
    "        # Forward pass, calculate logit predictions\n",
    "        outputs = model(b_input_ids, \n",
    "                      attention_mask=b_input_mask)\n",
    "\n",
    "    logits = outputs[0]\n",
    "\n",
    "    # Move logits and labels to CPU\n",
    "    logits = logits.detach().cpu().numpy()\n",
    "    label_ids = b_labels.to('cpu').numpy()\n",
    "  \n",
    "    # Store predictions and true labels\n",
    "    predictions.append(logits)\n",
    "    true_labels.append(label_ids)\n",
    "\n",
    "print('    DONE.')"
   ]
  },
  {
   "cell_type": "markdown",
   "metadata": {
    "id": "-5jscIM8R4Gv"
   },
   "source": [
    "Accuracy on the CoLA benchmark is measured using the \"[Matthews correlation coefficient](https://scikit-learn.org/stable/modules/generated/sklearn.metrics.matthews_corrcoef.html)\" (MCC).\n",
    "\n",
    "We use MCC here because the classes are imbalanced:\n"
   ]
  },
  {
   "cell_type": "code",
   "execution_count": 47,
   "metadata": {
    "colab": {
     "base_uri": "https://localhost:8080/",
     "height": 35
    },
    "id": "hWcy0X1hirdx",
    "outputId": "3dd0a61a-70cd-4bb7-a0b3-90ee6992ff0f"
   },
   "outputs": [
    {
     "name": "stdout",
     "output_type": "stream",
     "text": [
      "Positive samples: 4963 of 10000 (49.63%)\n"
     ]
    }
   ],
   "source": [
    "print('Positive samples: %d of %d (%.2f%%)' % (df_test.label.sum(), len(df_test.label), (df_test.label.sum() / len(df_test.label) * 100.0)))"
   ]
  },
  {
   "cell_type": "code",
   "execution_count": 48,
   "metadata": {
    "colab": {
     "base_uri": "https://localhost:8080/",
     "height": 89
    },
    "id": "cRaZQ4XC7kLs",
    "outputId": "13a30575-38c2-44e4-ec79-cb69a6e8d6a7"
   },
   "outputs": [
    {
     "name": "stdout",
     "output_type": "stream",
     "text": [
      "Calculating Matthews Corr. Coef. for each batch...\n"
     ]
    }
   ],
   "source": [
    "from sklearn.metrics import matthews_corrcoef\n",
    "\n",
    "matthews_set = []\n",
    "\n",
    "# Evaluate each test batch using Matthew's correlation coefficient\n",
    "print('Calculating Matthews Corr. Coef. for each batch...')\n",
    "\n",
    "# For each input batch...\n",
    "for i in range(len(true_labels)):\n",
    "  \n",
    "    # The predictions for this batch are a 2-column ndarray (one column for \"0\" \n",
    "    # and one column for \"1\"). Pick the label with the highest value and turn this\n",
    "    # in to a list of 0s and 1s.\n",
    "    pred_labels_i = np.argmax(predictions[i], axis=1).flatten()\n",
    "  \n",
    "    # Calculate and store the coef for this batch.  \n",
    "    matthews = matthews_corrcoef(true_labels[i], pred_labels_i)                \n",
    "\n",
    "    matthews_set.append(matthews)"
   ]
  },
  {
   "cell_type": "markdown",
   "metadata": {
    "id": "IUM0UA1qJaVB"
   },
   "source": [
    "The final score will be based on the entire test set, but let's take a look at the scores on the individual batches to get a sense of the variability in the metric between batches. \n"
   ]
  },
  {
   "cell_type": "code",
   "execution_count": 49,
   "metadata": {
    "colab": {
     "base_uri": "https://localhost:8080/",
     "height": 35
    },
    "id": "oCYZa1lQ8Jn8",
    "outputId": "0f041f56-ffca-4097-a1c9-4878918e83a0"
   },
   "outputs": [
    {
     "name": "stdout",
     "output_type": "stream",
     "text": [
      "MCC: 0.508\n"
     ]
    }
   ],
   "source": [
    "# Combine the predictions for each batch into a single list of 0s and 1s.\n",
    "flat_predictions = [item for sublist in predictions for item in sublist]\n",
    "flat_predictions = np.argmax(flat_predictions, axis=1).flatten()\n",
    "\n",
    "# Combine the correct labels for each batch into a single list.\n",
    "flat_true_labels = [item for sublist in true_labels for item in sublist]\n",
    "\n",
    "# Calculate the MCC\n",
    "mcc = matthews_corrcoef(flat_true_labels, flat_predictions)\n",
    "\n",
    "print('MCC: %.3f' % mcc)"
   ]
  },
  {
   "cell_type": "markdown",
   "metadata": {},
   "source": [
    "hyperparameter tuning (adjusting the learning rate, epochs, batch size, ADAM properties, etc.)"
   ]
  },
  {
   "cell_type": "markdown",
   "metadata": {
    "id": "YUmsUOIv8EUO"
   },
   "source": [
    "# Appendix\n"
   ]
  },
  {
   "cell_type": "markdown",
   "metadata": {
    "id": "q2079Qyn8Mt8"
   },
   "source": [
    "## A1. Saving & Loading Fine-Tuned Model\n",
    "\n",
    "This first cell (taken from `run_glue.py` [here](https://github.com/huggingface/transformers/blob/35ff345fc9df9e777b27903f11fa213e4052595b/examples/run_glue.py#L495)) writes the model and tokenizer out to disk."
   ]
  },
  {
   "cell_type": "code",
   "execution_count": 50,
   "metadata": {
    "colab": {
     "base_uri": "https://localhost:8080/",
     "height": 87
    },
    "id": "6ulTWaOr8QNY",
    "outputId": "005899af-7702-4f8f-f956-b00cd3a5934a"
   },
   "outputs": [
    {
     "name": "stdout",
     "output_type": "stream",
     "text": [
      "Saving model to saved_models/DistilBERT_base_11ktrained\n"
     ]
    },
    {
     "data": {
      "text/plain": [
       "('saved_models/DistilBERT_base_11ktrained\\\\vocab.txt',\n",
       " 'saved_models/DistilBERT_base_11ktrained\\\\special_tokens_map.json',\n",
       " 'saved_models/DistilBERT_base_11ktrained\\\\added_tokens.json')"
      ]
     },
     "execution_count": 50,
     "metadata": {},
     "output_type": "execute_result"
    }
   ],
   "source": [
    "import os\n",
    "\n",
    "# Saving best-practices: if you use defaults names for the model, you can reload it using from_pretrained()\n",
    "\n",
    "output_dir = 'saved_models/DistilBERT_base_11ktrained'\n",
    "\n",
    "# Create output directory if needed\n",
    "if not os.path.exists(output_dir):\n",
    "    os.makedirs(output_dir)\n",
    "\n",
    "print(\"Saving model to %s\" % output_dir)\n",
    "\n",
    "# Save a trained model, configuration and tokenizer using `save_pretrained()`.\n",
    "# They can then be reloaded using `from_pretrained()`\n",
    "model_to_save = model.module if hasattr(model, 'module') else model  # Take care of distributed/parallel training\n",
    "model_to_save.save_pretrained(output_dir)\n",
    "tokenizer.save_pretrained(output_dir)\n",
    "\n",
    "# Good practice: save your training arguments together with the trained model\n",
    "# torch.save(args, os.path.join(output_dir, 'training_args.bin'))\n"
   ]
  },
  {
   "cell_type": "markdown",
   "metadata": {
    "id": "Z-tjHkR7lc1I"
   },
   "source": [
    "Let's check out the file sizes, out of curiosity."
   ]
  },
  {
   "cell_type": "code",
   "execution_count": 58,
   "metadata": {
    "colab": {
     "base_uri": "https://localhost:8080/",
     "height": 139
    },
    "id": "mqMzI3VTCZo5",
    "outputId": "e4e435b9-c22f-4226-8bd1-d01cf090f4fa"
   },
   "outputs": [
    {
     "name": "stderr",
     "output_type": "stream",
     "text": [
      "'ls' is not recognized as an internal or external command,\n",
      "operable program or batch file.\n"
     ]
    }
   ],
   "source": [
    "!ls -l --block-size=K ./saved_models/"
   ]
  },
  {
   "cell_type": "markdown",
   "metadata": {
    "id": "fr_bt2rFlgDn"
   },
   "source": [
    "The largest file is the model weights, at around 418 megabytes."
   ]
  },
  {
   "cell_type": "code",
   "execution_count": null,
   "metadata": {
    "colab": {
     "base_uri": "https://localhost:8080/",
     "height": 35
    },
    "id": "-WUFUIQ8Cu8D",
    "outputId": "c4490ecf-ffce-49f7-fe2e-fba9d3ebdd9e"
   },
   "outputs": [
    {
     "name": "stdout",
     "output_type": "stream",
     "text": [
      "-rw-r--r-- 1 root root 418M Dec 19 17:33 ./model_save/pytorch_model.bin\n"
     ]
    }
   ],
   "source": [
    "!ls -l --block-size=M ./model_save/pytorch_model.bin"
   ]
  },
  {
   "cell_type": "markdown",
   "metadata": {
    "id": "dzGKvOFAll_e"
   },
   "source": [
    "To save your model across Colab Notebook sessions, download it to your local machine, or ideally copy it to your Google Drive."
   ]
  },
  {
   "cell_type": "code",
   "execution_count": null,
   "metadata": {
    "id": "Trr-A-POC18_"
   },
   "outputs": [],
   "source": [
    "# Mount Google Drive to this Notebook instance.\n",
    "from google.colab import drive\n",
    "    drive.mount('/content/drive')"
   ]
  },
  {
   "cell_type": "code",
   "execution_count": null,
   "metadata": {
    "id": "NxlZsafTC-V5"
   },
   "outputs": [],
   "source": [
    "# Copy the model files to a directory in your Google Drive.\n",
    "!cp -r ./model_save/ \"./drive/Shared drives/ChrisMcCormick.AI/Blog Posts/BERT Fine-Tuning/\""
   ]
  },
  {
   "cell_type": "markdown",
   "metadata": {
    "id": "W0vstijw85SZ"
   },
   "source": [
    "The following functions will load the model back from disk."
   ]
  },
  {
   "cell_type": "code",
   "execution_count": null,
   "metadata": {
    "id": "nskPzUM084zL"
   },
   "outputs": [],
   "source": [
    "# Load a trained model and vocabulary that you have fine-tuned\n",
    "model = model_class.from_pretrained(output_dir)\n",
    "tokenizer = tokenizer_class.from_pretrained(output_dir)\n",
    "\n",
    "# Copy the model to the GPU.\n",
    "model.to(device)"
   ]
  },
  {
   "cell_type": "markdown",
   "metadata": {
    "id": "NIWouvDrGVAi"
   },
   "source": [
    "## A.2. Weight Decay\n",
    "\n"
   ]
  },
  {
   "cell_type": "markdown",
   "metadata": {
    "id": "f123ZAlF1OyW"
   },
   "source": [
    "The huggingface example includes the following code block for enabling weight decay, but the default decay rate is \"0.0\", so I moved this to the appendix.\n",
    "\n",
    "This block essentially tells the optimizer to not apply weight decay to the bias terms (e.g., $ b $ in the equation $ y = Wx + b $ ). Weight decay is a form of regularization--after calculating the gradients, we multiply them by, e.g., 0.99."
   ]
  },
  {
   "cell_type": "code",
   "execution_count": null,
   "metadata": {
    "id": "QxSMw0FrptiL"
   },
   "outputs": [],
   "source": [
    "# This code is taken from:\n",
    "# https://github.com/huggingface/transformers/blob/5bfcd0485ece086ebcbed2d008813037968a9e58/examples/run_glue.py#L102\n",
    "\n",
    "# Don't apply weight decay to any parameters whose names include these tokens.\n",
    "# (Here, the BERT doesn't have `gamma` or `beta` parameters, only `bias` terms)\n",
    "no_decay = ['bias', 'LayerNorm.weight']\n",
    "\n",
    "# Separate the `weight` parameters from the `bias` parameters. \n",
    "# - For the `weight` parameters, this specifies a 'weight_decay_rate' of 0.01. \n",
    "# - For the `bias` parameters, the 'weight_decay_rate' is 0.0. \n",
    "optimizer_grouped_parameters = [\n",
    "    # Filter for all parameters which *don't* include 'bias', 'gamma', 'beta'.\n",
    "    {'params': [p for n, p in param_optimizer if not any(nd in n for nd in no_decay)],\n",
    "     'weight_decay_rate': 0.1},\n",
    "    \n",
    "    # Filter for parameters which *do* include those.\n",
    "    {'params': [p for n, p in param_optimizer if any(nd in n for nd in no_decay)],\n",
    "     'weight_decay_rate': 0.0}\n",
    "]\n",
    "\n",
    "# Note - `optimizer_grouped_parameters` only includes the parameter values, not \n",
    "# the names."
   ]
  }
 ],
 "metadata": {
  "accelerator": "GPU",
  "colab": {
   "collapsed_sections": [],
   "name": "BERT Fine-Tuning Sentence Classification v2.ipynb",
   "provenance": [],
   "toc_visible": true
  },
  "kernelspec": {
   "display_name": "Python 3",
   "language": "python",
   "name": "python3"
  },
  "language_info": {
   "codemirror_mode": {
    "name": "ipython",
    "version": 3
   },
   "file_extension": ".py",
   "mimetype": "text/x-python",
   "name": "python",
   "nbconvert_exporter": "python",
   "pygments_lexer": "ipython3",
   "version": "3.7.6"
  },
  "widgets": {
   "application/vnd.jupyter.widget-state+json": {
    "08231e0a2cad41d3a1905a26b785babe": {
     "model_module": "@jupyter-widgets/controls",
     "model_name": "ProgressStyleModel",
     "state": {
      "_model_module": "@jupyter-widgets/controls",
      "_model_module_version": "1.5.0",
      "_model_name": "ProgressStyleModel",
      "_view_count": null,
      "_view_module": "@jupyter-widgets/base",
      "_view_module_version": "1.2.0",
      "_view_name": "StyleView",
      "bar_color": null,
      "description_width": "initial"
     }
    },
    "100c65bc29864e00923a7c348f6aaaa2": {
     "model_module": "@jupyter-widgets/base",
     "model_name": "LayoutModel",
     "state": {
      "_model_module": "@jupyter-widgets/base",
      "_model_module_version": "1.2.0",
      "_model_name": "LayoutModel",
      "_view_count": null,
      "_view_module": "@jupyter-widgets/base",
      "_view_module_version": "1.2.0",
      "_view_name": "LayoutView",
      "align_content": null,
      "align_items": null,
      "align_self": null,
      "border": null,
      "bottom": null,
      "display": null,
      "flex": null,
      "flex_flow": null,
      "grid_area": null,
      "grid_auto_columns": null,
      "grid_auto_flow": null,
      "grid_auto_rows": null,
      "grid_column": null,
      "grid_gap": null,
      "grid_row": null,
      "grid_template_areas": null,
      "grid_template_columns": null,
      "grid_template_rows": null,
      "height": null,
      "justify_content": null,
      "justify_items": null,
      "left": null,
      "margin": null,
      "max_height": null,
      "max_width": null,
      "min_height": null,
      "min_width": null,
      "object_fit": null,
      "object_position": null,
      "order": null,
      "overflow": null,
      "overflow_x": null,
      "overflow_y": null,
      "padding": null,
      "right": null,
      "top": null,
      "visibility": null,
      "width": null
     }
    },
    "28a83bb4a458450fbbe5f2ad9600e8b3": {
     "model_module": "@jupyter-widgets/base",
     "model_name": "LayoutModel",
     "state": {
      "_model_module": "@jupyter-widgets/base",
      "_model_module_version": "1.2.0",
      "_model_name": "LayoutModel",
      "_view_count": null,
      "_view_module": "@jupyter-widgets/base",
      "_view_module_version": "1.2.0",
      "_view_name": "LayoutView",
      "align_content": null,
      "align_items": null,
      "align_self": null,
      "border": null,
      "bottom": null,
      "display": null,
      "flex": null,
      "flex_flow": null,
      "grid_area": null,
      "grid_auto_columns": null,
      "grid_auto_flow": null,
      "grid_auto_rows": null,
      "grid_column": null,
      "grid_gap": null,
      "grid_row": null,
      "grid_template_areas": null,
      "grid_template_columns": null,
      "grid_template_rows": null,
      "height": null,
      "justify_content": null,
      "justify_items": null,
      "left": null,
      "margin": null,
      "max_height": null,
      "max_width": null,
      "min_height": null,
      "min_width": null,
      "object_fit": null,
      "object_position": null,
      "order": null,
      "overflow": null,
      "overflow_x": null,
      "overflow_y": null,
      "padding": null,
      "right": null,
      "top": null,
      "visibility": null,
      "width": null
     }
    },
    "2a518fe0c37e47eaaeb5aff73c1d0d2c": {
     "model_module": "@jupyter-widgets/controls",
     "model_name": "HBoxModel",
     "state": {
      "_dom_classes": [],
      "_model_module": "@jupyter-widgets/controls",
      "_model_module_version": "1.5.0",
      "_model_name": "HBoxModel",
      "_view_count": null,
      "_view_module": "@jupyter-widgets/controls",
      "_view_module_version": "1.5.0",
      "_view_name": "HBoxView",
      "box_style": "",
      "children": [
       "IPY_MODEL_4112ddcdcd6a4a8ea262b9e6df20d559",
       "IPY_MODEL_4289e54205c5401bb529bc1b3d8bc300"
      ],
      "layout": "IPY_MODEL_f89dd52490f44cf6bff7084d33781b31"
     }
    },
    "3ee2215ae7734487825c7e554dda5646": {
     "model_module": "@jupyter-widgets/base",
     "model_name": "LayoutModel",
     "state": {
      "_model_module": "@jupyter-widgets/base",
      "_model_module_version": "1.2.0",
      "_model_name": "LayoutModel",
      "_view_count": null,
      "_view_module": "@jupyter-widgets/base",
      "_view_module_version": "1.2.0",
      "_view_name": "LayoutView",
      "align_content": null,
      "align_items": null,
      "align_self": null,
      "border": null,
      "bottom": null,
      "display": null,
      "flex": null,
      "flex_flow": null,
      "grid_area": null,
      "grid_auto_columns": null,
      "grid_auto_flow": null,
      "grid_auto_rows": null,
      "grid_column": null,
      "grid_gap": null,
      "grid_row": null,
      "grid_template_areas": null,
      "grid_template_columns": null,
      "grid_template_rows": null,
      "height": null,
      "justify_content": null,
      "justify_items": null,
      "left": null,
      "margin": null,
      "max_height": null,
      "max_width": null,
      "min_height": null,
      "min_width": null,
      "object_fit": null,
      "object_position": null,
      "order": null,
      "overflow": null,
      "overflow_x": null,
      "overflow_y": null,
      "padding": null,
      "right": null,
      "top": null,
      "visibility": null,
      "width": null
     }
    },
    "4112ddcdcd6a4a8ea262b9e6df20d559": {
     "model_module": "@jupyter-widgets/controls",
     "model_name": "IntProgressModel",
     "state": {
      "_dom_classes": [],
      "_model_module": "@jupyter-widgets/controls",
      "_model_module_version": "1.5.0",
      "_model_name": "IntProgressModel",
      "_view_count": null,
      "_view_module": "@jupyter-widgets/controls",
      "_view_module_version": "1.5.0",
      "_view_name": "ProgressView",
      "bar_style": "success",
      "description": "Downloading",
      "description_tooltip": null,
      "layout": "IPY_MODEL_be5c4ad6e9be4b2da85695844c7b3ac7",
      "max": 440473133,
      "min": 0,
      "orientation": "horizontal",
      "style": "IPY_MODEL_08231e0a2cad41d3a1905a26b785babe",
      "value": 440473133
     }
    },
    "4289e54205c5401bb529bc1b3d8bc300": {
     "model_module": "@jupyter-widgets/controls",
     "model_name": "HTMLModel",
     "state": {
      "_dom_classes": [],
      "_model_module": "@jupyter-widgets/controls",
      "_model_module_version": "1.5.0",
      "_model_name": "HTMLModel",
      "_view_count": null,
      "_view_module": "@jupyter-widgets/controls",
      "_view_module_version": "1.5.0",
      "_view_name": "HTMLView",
      "description": "",
      "description_tooltip": null,
      "layout": "IPY_MODEL_100c65bc29864e00923a7c348f6aaaa2",
      "placeholder": "​",
      "style": "IPY_MODEL_f371bb1b8c3f45b186fa49bb7c79a429",
      "value": "100% 440M/440M [00:10&lt;00:00, 41.9MB/s]"
     }
    },
    "474afad658004872a0c4e0d94f3d8f21": {
     "model_module": "@jupyter-widgets/controls",
     "model_name": "IntProgressModel",
     "state": {
      "_dom_classes": [],
      "_model_module": "@jupyter-widgets/controls",
      "_model_module_version": "1.5.0",
      "_model_name": "IntProgressModel",
      "_view_count": null,
      "_view_module": "@jupyter-widgets/controls",
      "_view_module_version": "1.5.0",
      "_view_name": "ProgressView",
      "bar_style": "success",
      "description": "Downloading",
      "description_tooltip": null,
      "layout": "IPY_MODEL_b6b6c6c411a44ab88a2b1c260be8e8d2",
      "max": 231508,
      "min": 0,
      "orientation": "horizontal",
      "style": "IPY_MODEL_9f3f0984b6af48729bacba04f3f7ea11",
      "value": 231508
     }
    },
    "6bef06bb83984db7a793dfcb930901d3": {
     "model_module": "@jupyter-widgets/controls",
     "model_name": "HTMLModel",
     "state": {
      "_dom_classes": [],
      "_model_module": "@jupyter-widgets/controls",
      "_model_module_version": "1.5.0",
      "_model_name": "HTMLModel",
      "_view_count": null,
      "_view_module": "@jupyter-widgets/controls",
      "_view_module_version": "1.5.0",
      "_view_name": "HTMLView",
      "description": "",
      "description_tooltip": null,
      "layout": "IPY_MODEL_3ee2215ae7734487825c7e554dda5646",
      "placeholder": "​",
      "style": "IPY_MODEL_8ff4ca57b55a47fbadde1d61868ac65b",
      "value": "100% 232k/232k [00:00&lt;00:00, 2.57MB/s]"
     }
    },
    "89199719c2524f3f8f2800efae10cd3c": {
     "model_module": "@jupyter-widgets/base",
     "model_name": "LayoutModel",
     "state": {
      "_model_module": "@jupyter-widgets/base",
      "_model_module_version": "1.2.0",
      "_model_name": "LayoutModel",
      "_view_count": null,
      "_view_module": "@jupyter-widgets/base",
      "_view_module_version": "1.2.0",
      "_view_name": "LayoutView",
      "align_content": null,
      "align_items": null,
      "align_self": null,
      "border": null,
      "bottom": null,
      "display": null,
      "flex": null,
      "flex_flow": null,
      "grid_area": null,
      "grid_auto_columns": null,
      "grid_auto_flow": null,
      "grid_auto_rows": null,
      "grid_column": null,
      "grid_gap": null,
      "grid_row": null,
      "grid_template_areas": null,
      "grid_template_columns": null,
      "grid_template_rows": null,
      "height": null,
      "justify_content": null,
      "justify_items": null,
      "left": null,
      "margin": null,
      "max_height": null,
      "max_width": null,
      "min_height": null,
      "min_width": null,
      "object_fit": null,
      "object_position": null,
      "order": null,
      "overflow": null,
      "overflow_x": null,
      "overflow_y": null,
      "padding": null,
      "right": null,
      "top": null,
      "visibility": null,
      "width": null
     }
    },
    "8ff4ca57b55a47fbadde1d61868ac65b": {
     "model_module": "@jupyter-widgets/controls",
     "model_name": "DescriptionStyleModel",
     "state": {
      "_model_module": "@jupyter-widgets/controls",
      "_model_module_version": "1.5.0",
      "_model_name": "DescriptionStyleModel",
      "_view_count": null,
      "_view_module": "@jupyter-widgets/base",
      "_view_module_version": "1.2.0",
      "_view_name": "StyleView",
      "description_width": ""
     }
    },
    "9f3f0984b6af48729bacba04f3f7ea11": {
     "model_module": "@jupyter-widgets/controls",
     "model_name": "ProgressStyleModel",
     "state": {
      "_model_module": "@jupyter-widgets/controls",
      "_model_module_version": "1.5.0",
      "_model_name": "ProgressStyleModel",
      "_view_count": null,
      "_view_module": "@jupyter-widgets/base",
      "_view_module_version": "1.2.0",
      "_view_name": "StyleView",
      "bar_color": null,
      "description_width": "initial"
     }
    },
    "a330c44811e140fa9f66f81c64a94b80": {
     "model_module": "@jupyter-widgets/controls",
     "model_name": "IntProgressModel",
     "state": {
      "_dom_classes": [],
      "_model_module": "@jupyter-widgets/controls",
      "_model_module_version": "1.5.0",
      "_model_name": "IntProgressModel",
      "_view_count": null,
      "_view_module": "@jupyter-widgets/controls",
      "_view_module_version": "1.5.0",
      "_view_name": "ProgressView",
      "bar_style": "success",
      "description": "Downloading",
      "description_tooltip": null,
      "layout": "IPY_MODEL_89199719c2524f3f8f2800efae10cd3c",
      "max": 313,
      "min": 0,
      "orientation": "horizontal",
      "style": "IPY_MODEL_dc8780c86a6e436f940ca9001ff7bf73",
      "value": 313
     }
    },
    "aa0ce42ca15040b38a378d269d5e70f3": {
     "model_module": "@jupyter-widgets/controls",
     "model_name": "HTMLModel",
     "state": {
      "_dom_classes": [],
      "_model_module": "@jupyter-widgets/controls",
      "_model_module_version": "1.5.0",
      "_model_name": "HTMLModel",
      "_view_count": null,
      "_view_module": "@jupyter-widgets/controls",
      "_view_module_version": "1.5.0",
      "_view_name": "HTMLView",
      "description": "",
      "description_tooltip": null,
      "layout": "IPY_MODEL_ac3f4b71582743e99f06187d077a482d",
      "placeholder": "​",
      "style": "IPY_MODEL_ae4285ddf3204f9f914d4736187797fc",
      "value": "100% 313/313 [00:00&lt;00:00, 6.68kB/s]"
     }
    },
    "ac3f4b71582743e99f06187d077a482d": {
     "model_module": "@jupyter-widgets/base",
     "model_name": "LayoutModel",
     "state": {
      "_model_module": "@jupyter-widgets/base",
      "_model_module_version": "1.2.0",
      "_model_name": "LayoutModel",
      "_view_count": null,
      "_view_module": "@jupyter-widgets/base",
      "_view_module_version": "1.2.0",
      "_view_name": "LayoutView",
      "align_content": null,
      "align_items": null,
      "align_self": null,
      "border": null,
      "bottom": null,
      "display": null,
      "flex": null,
      "flex_flow": null,
      "grid_area": null,
      "grid_auto_columns": null,
      "grid_auto_flow": null,
      "grid_auto_rows": null,
      "grid_column": null,
      "grid_gap": null,
      "grid_row": null,
      "grid_template_areas": null,
      "grid_template_columns": null,
      "grid_template_rows": null,
      "height": null,
      "justify_content": null,
      "justify_items": null,
      "left": null,
      "margin": null,
      "max_height": null,
      "max_width": null,
      "min_height": null,
      "min_width": null,
      "object_fit": null,
      "object_position": null,
      "order": null,
      "overflow": null,
      "overflow_x": null,
      "overflow_y": null,
      "padding": null,
      "right": null,
      "top": null,
      "visibility": null,
      "width": null
     }
    },
    "ae4285ddf3204f9f914d4736187797fc": {
     "model_module": "@jupyter-widgets/controls",
     "model_name": "DescriptionStyleModel",
     "state": {
      "_model_module": "@jupyter-widgets/controls",
      "_model_module_version": "1.5.0",
      "_model_name": "DescriptionStyleModel",
      "_view_count": null,
      "_view_module": "@jupyter-widgets/base",
      "_view_module_version": "1.2.0",
      "_view_name": "StyleView",
      "description_width": ""
     }
    },
    "b6b6c6c411a44ab88a2b1c260be8e8d2": {
     "model_module": "@jupyter-widgets/base",
     "model_name": "LayoutModel",
     "state": {
      "_model_module": "@jupyter-widgets/base",
      "_model_module_version": "1.2.0",
      "_model_name": "LayoutModel",
      "_view_count": null,
      "_view_module": "@jupyter-widgets/base",
      "_view_module_version": "1.2.0",
      "_view_name": "LayoutView",
      "align_content": null,
      "align_items": null,
      "align_self": null,
      "border": null,
      "bottom": null,
      "display": null,
      "flex": null,
      "flex_flow": null,
      "grid_area": null,
      "grid_auto_columns": null,
      "grid_auto_flow": null,
      "grid_auto_rows": null,
      "grid_column": null,
      "grid_gap": null,
      "grid_row": null,
      "grid_template_areas": null,
      "grid_template_columns": null,
      "grid_template_rows": null,
      "height": null,
      "justify_content": null,
      "justify_items": null,
      "left": null,
      "margin": null,
      "max_height": null,
      "max_width": null,
      "min_height": null,
      "min_width": null,
      "object_fit": null,
      "object_position": null,
      "order": null,
      "overflow": null,
      "overflow_x": null,
      "overflow_y": null,
      "padding": null,
      "right": null,
      "top": null,
      "visibility": null,
      "width": null
     }
    },
    "be5c4ad6e9be4b2da85695844c7b3ac7": {
     "model_module": "@jupyter-widgets/base",
     "model_name": "LayoutModel",
     "state": {
      "_model_module": "@jupyter-widgets/base",
      "_model_module_version": "1.2.0",
      "_model_name": "LayoutModel",
      "_view_count": null,
      "_view_module": "@jupyter-widgets/base",
      "_view_module_version": "1.2.0",
      "_view_name": "LayoutView",
      "align_content": null,
      "align_items": null,
      "align_self": null,
      "border": null,
      "bottom": null,
      "display": null,
      "flex": null,
      "flex_flow": null,
      "grid_area": null,
      "grid_auto_columns": null,
      "grid_auto_flow": null,
      "grid_auto_rows": null,
      "grid_column": null,
      "grid_gap": null,
      "grid_row": null,
      "grid_template_areas": null,
      "grid_template_columns": null,
      "grid_template_rows": null,
      "height": null,
      "justify_content": null,
      "justify_items": null,
      "left": null,
      "margin": null,
      "max_height": null,
      "max_width": null,
      "min_height": null,
      "min_width": null,
      "object_fit": null,
      "object_position": null,
      "order": null,
      "overflow": null,
      "overflow_x": null,
      "overflow_y": null,
      "padding": null,
      "right": null,
      "top": null,
      "visibility": null,
      "width": null
     }
    },
    "c245b5ee1b564034a6c80ee2269daa82": {
     "model_module": "@jupyter-widgets/controls",
     "model_name": "HBoxModel",
     "state": {
      "_dom_classes": [],
      "_model_module": "@jupyter-widgets/controls",
      "_model_module_version": "1.5.0",
      "_model_name": "HBoxModel",
      "_view_count": null,
      "_view_module": "@jupyter-widgets/controls",
      "_view_module_version": "1.5.0",
      "_view_name": "HBoxView",
      "box_style": "",
      "children": [
       "IPY_MODEL_474afad658004872a0c4e0d94f3d8f21",
       "IPY_MODEL_6bef06bb83984db7a793dfcb930901d3"
      ],
      "layout": "IPY_MODEL_28a83bb4a458450fbbe5f2ad9600e8b3"
     }
    },
    "cc5c9f94b6594259863e8e9773a38709": {
     "model_module": "@jupyter-widgets/controls",
     "model_name": "HBoxModel",
     "state": {
      "_dom_classes": [],
      "_model_module": "@jupyter-widgets/controls",
      "_model_module_version": "1.5.0",
      "_model_name": "HBoxModel",
      "_view_count": null,
      "_view_module": "@jupyter-widgets/controls",
      "_view_module_version": "1.5.0",
      "_view_name": "HBoxView",
      "box_style": "",
      "children": [
       "IPY_MODEL_a330c44811e140fa9f66f81c64a94b80",
       "IPY_MODEL_aa0ce42ca15040b38a378d269d5e70f3"
      ],
      "layout": "IPY_MODEL_d19a7e6b4db040f798732ad0eaccd0fd"
     }
    },
    "d19a7e6b4db040f798732ad0eaccd0fd": {
     "model_module": "@jupyter-widgets/base",
     "model_name": "LayoutModel",
     "state": {
      "_model_module": "@jupyter-widgets/base",
      "_model_module_version": "1.2.0",
      "_model_name": "LayoutModel",
      "_view_count": null,
      "_view_module": "@jupyter-widgets/base",
      "_view_module_version": "1.2.0",
      "_view_name": "LayoutView",
      "align_content": null,
      "align_items": null,
      "align_self": null,
      "border": null,
      "bottom": null,
      "display": null,
      "flex": null,
      "flex_flow": null,
      "grid_area": null,
      "grid_auto_columns": null,
      "grid_auto_flow": null,
      "grid_auto_rows": null,
      "grid_column": null,
      "grid_gap": null,
      "grid_row": null,
      "grid_template_areas": null,
      "grid_template_columns": null,
      "grid_template_rows": null,
      "height": null,
      "justify_content": null,
      "justify_items": null,
      "left": null,
      "margin": null,
      "max_height": null,
      "max_width": null,
      "min_height": null,
      "min_width": null,
      "object_fit": null,
      "object_position": null,
      "order": null,
      "overflow": null,
      "overflow_x": null,
      "overflow_y": null,
      "padding": null,
      "right": null,
      "top": null,
      "visibility": null,
      "width": null
     }
    },
    "dc8780c86a6e436f940ca9001ff7bf73": {
     "model_module": "@jupyter-widgets/controls",
     "model_name": "ProgressStyleModel",
     "state": {
      "_model_module": "@jupyter-widgets/controls",
      "_model_module_version": "1.5.0",
      "_model_name": "ProgressStyleModel",
      "_view_count": null,
      "_view_module": "@jupyter-widgets/base",
      "_view_module_version": "1.2.0",
      "_view_name": "StyleView",
      "bar_color": null,
      "description_width": "initial"
     }
    },
    "f371bb1b8c3f45b186fa49bb7c79a429": {
     "model_module": "@jupyter-widgets/controls",
     "model_name": "DescriptionStyleModel",
     "state": {
      "_model_module": "@jupyter-widgets/controls",
      "_model_module_version": "1.5.0",
      "_model_name": "DescriptionStyleModel",
      "_view_count": null,
      "_view_module": "@jupyter-widgets/base",
      "_view_module_version": "1.2.0",
      "_view_name": "StyleView",
      "description_width": ""
     }
    },
    "f89dd52490f44cf6bff7084d33781b31": {
     "model_module": "@jupyter-widgets/base",
     "model_name": "LayoutModel",
     "state": {
      "_model_module": "@jupyter-widgets/base",
      "_model_module_version": "1.2.0",
      "_model_name": "LayoutModel",
      "_view_count": null,
      "_view_module": "@jupyter-widgets/base",
      "_view_module_version": "1.2.0",
      "_view_name": "LayoutView",
      "align_content": null,
      "align_items": null,
      "align_self": null,
      "border": null,
      "bottom": null,
      "display": null,
      "flex": null,
      "flex_flow": null,
      "grid_area": null,
      "grid_auto_columns": null,
      "grid_auto_flow": null,
      "grid_auto_rows": null,
      "grid_column": null,
      "grid_gap": null,
      "grid_row": null,
      "grid_template_areas": null,
      "grid_template_columns": null,
      "grid_template_rows": null,
      "height": null,
      "justify_content": null,
      "justify_items": null,
      "left": null,
      "margin": null,
      "max_height": null,
      "max_width": null,
      "min_height": null,
      "min_width": null,
      "object_fit": null,
      "object_position": null,
      "order": null,
      "overflow": null,
      "overflow_x": null,
      "overflow_y": null,
      "padding": null,
      "right": null,
      "top": null,
      "visibility": null,
      "width": null
     }
    }
   }
  }
 },
 "nbformat": 4,
 "nbformat_minor": 4
}
